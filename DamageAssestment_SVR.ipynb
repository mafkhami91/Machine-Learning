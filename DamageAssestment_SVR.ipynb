{
 "cells": [
  {
   "cell_type": "markdown",
   "metadata": {
    "colab_type": "text",
    "id": "zvFpTi3RZap8"
   },
   "source": [
    "Import Library"
   ]
  },
  {
   "cell_type": "code",
   "execution_count": 1,
   "metadata": {
    "colab": {},
    "colab_type": "code",
    "id": "aAHTSSkjTWve"
   },
   "outputs": [],
   "source": [
    "import numpy as np\n",
    "import pandas as pd\n",
    "import os"
   ]
  },
  {
   "cell_type": "markdown",
   "metadata": {
    "colab_type": "text",
    "id": "G2lpEfdWTjvQ"
   },
   "source": [
    "Merge Files"
   ]
  },
  {
   "cell_type": "code",
   "execution_count": 2,
   "metadata": {
    "colab": {
     "base_uri": "https://localhost:8080/",
     "height": 397
    },
    "colab_type": "code",
    "id": "f2yPHbhTTimW",
    "outputId": "4e03a341-d7f7-4695-8baa-84fb38559ea7"
   },
   "outputs": [
    {
     "name": "stdout",
     "output_type": "stream",
     "text": [
      "['2017.xlsx', '2016.xlsx', '2019.xlsx', '2015.xlsx', '2018.xlsx']\n"
     ]
    }
   ],
   "source": [
    "#importing them all\n",
    "#list comprehension\n",
    "\n",
    "files = [file for file in os.listdir(\"/Users/mahdiafkhami/Desktop/Purdue/FEMA data/Paper/Preliminary Damage Assessment Reports/Data\")]\n",
    "#Concacenate all files into single excel file\n",
    "print (files)"
   ]
  },
  {
   "cell_type": "code",
   "execution_count": 3,
   "metadata": {},
   "outputs": [],
   "source": [
    "all_data = pd.DataFrame()\n",
    "for file in files:\n",
    "    df = pd.read_excel(\"/Users/mahdiafkhami/Desktop/Purdue/FEMA data/Paper/Preliminary Damage Assessment Reports/Data/\"+file)\n",
    "    all_data = pd.concat([all_data,df])"
   ]
  },
  {
   "cell_type": "markdown",
   "metadata": {
    "colab_type": "text",
    "id": "PhzGcqX6YRi3"
   },
   "source": [
    "Read the updated dataframe"
   ]
  },
  {
   "cell_type": "code",
   "execution_count": 4,
   "metadata": {
    "colab": {},
    "colab_type": "code",
    "id": "fc0XgTCdYUX5"
   },
   "outputs": [],
   "source": [
    "#data = pd.read_excel(\"/content/Damage_Assest/ALL.xlsx\")"
   ]
  },
  {
   "cell_type": "code",
   "execution_count": 5,
   "metadata": {
    "colab": {
     "base_uri": "https://localhost:8080/",
     "height": 416
    },
    "colab_type": "code",
    "id": "uTad227eUGTl",
    "outputId": "907dcd03-e432-48d7-f2ec-6d3bdc277b89"
   },
   "outputs": [
    {
     "name": "stdout",
     "output_type": "stream",
     "text": [
      "<class 'pandas.core.frame.DataFrame'>\n",
      "Int64Index: 342 entries, 0 to 59\n",
      "Data columns (total 16 columns):\n",
      "State                     342 non-null object\n",
      "Date                      342 non-null datetime64[ns]\n",
      "Type                      342 non-null object\n",
      "IA                        342 non-null int64\n",
      "PA                        342 non-null float64\n",
      "Residences Impacted       342 non-null float64\n",
      "Destroyed                 342 non-null float64\n",
      "MajorDamage               342 non-null int64\n",
      "MinorDamage               342 non-null int64\n",
      "Affected                  342 non-null int64\n",
      "Insured                   342 non-null float64\n",
      "Low Income                342 non-null float64\n",
      "Elderly                   342 non-null float64\n",
      "Primary Impact            342 non-null object\n",
      "Total PA cost estimate    342 non-null object\n",
      "Total IA cost estimate    342 non-null int64\n",
      "dtypes: datetime64[ns](1), float64(6), int64(5), object(4)\n",
      "memory usage: 45.4+ KB\n"
     ]
    }
   ],
   "source": [
    "all_data.info()"
   ]
  },
  {
   "cell_type": "code",
   "execution_count": 6,
   "metadata": {
    "colab": {
     "base_uri": "https://localhost:8080/",
     "height": 434
    },
    "colab_type": "code",
    "id": "NR2gSrrFWs58",
    "outputId": "abe23a03-878b-4665-b750-c11acf1cd430"
   },
   "outputs": [
    {
     "data": {
      "text/plain": [
       "Storm-Flood                                              79\n",
       "Storm-Tornado-flood                                      59\n",
       "Storm-Flood-Mudslide                                     40\n",
       "Severe Winter Storm and Flooding                         34\n",
       "Severe Storms and Tornadoes                              30\n",
       "Storm--Tornado                                           30\n",
       "Hurricane                                                14\n",
       "Severe Winter Storm                                      12\n",
       "Flooding                                                 10\n",
       "Storm                                                     7\n",
       "Storm                                                     4\n",
       "Winter Storm & Snowstorm                                  4\n",
       "Wind Storm                                                4\n",
       "Severe Winter Storm and Snowstorm                         3\n",
       "wildfire                                                  2\n",
       "Severe Winter Storm,Flooding,Mudslides, and a Tornado     2\n",
       "Flood-Landslide-Mudslide                                  1\n",
       "Volcano - Earthquakes                                     1\n",
       "Fire                                                      1\n",
       "Tornado                                                   1\n",
       "Earthquake                                                1\n",
       "Snowstorm                                                 1\n",
       "Wildfire                                                  1\n",
       "Wildfires and Mudslides                                   1\n",
       "Name: Type, dtype: int64"
      ]
     },
     "execution_count": 6,
     "metadata": {},
     "output_type": "execute_result"
    }
   ],
   "source": [
    "all_data[\"Type\"].value_counts()"
   ]
  },
  {
   "cell_type": "code",
   "execution_count": 7,
   "metadata": {},
   "outputs": [
    {
     "data": {
      "text/html": [
       "<div>\n",
       "<style scoped>\n",
       "    .dataframe tbody tr th:only-of-type {\n",
       "        vertical-align: middle;\n",
       "    }\n",
       "\n",
       "    .dataframe tbody tr th {\n",
       "        vertical-align: top;\n",
       "    }\n",
       "\n",
       "    .dataframe thead th {\n",
       "        text-align: right;\n",
       "    }\n",
       "</style>\n",
       "<table border=\"1\" class=\"dataframe\">\n",
       "  <thead>\n",
       "    <tr style=\"text-align: right;\">\n",
       "      <th></th>\n",
       "      <th>State</th>\n",
       "      <th>Date</th>\n",
       "      <th>Type</th>\n",
       "      <th>IA</th>\n",
       "      <th>PA</th>\n",
       "      <th>Residences Impacted</th>\n",
       "      <th>Destroyed</th>\n",
       "      <th>MajorDamage</th>\n",
       "      <th>MinorDamage</th>\n",
       "      <th>Affected</th>\n",
       "      <th>Insured</th>\n",
       "      <th>Low Income</th>\n",
       "      <th>Elderly</th>\n",
       "      <th>Primary Impact</th>\n",
       "      <th>Total PA cost estimate</th>\n",
       "      <th>Total IA cost estimate</th>\n",
       "    </tr>\n",
       "  </thead>\n",
       "  <tbody>\n",
       "    <tr>\n",
       "      <th>0</th>\n",
       "      <td>Alaska</td>\n",
       "      <td>2017-12-20</td>\n",
       "      <td>Storm</td>\n",
       "      <td>0</td>\n",
       "      <td>1.0</td>\n",
       "      <td>0.0</td>\n",
       "      <td>0.0</td>\n",
       "      <td>0</td>\n",
       "      <td>0</td>\n",
       "      <td>0</td>\n",
       "      <td>0.0</td>\n",
       "      <td>0.0</td>\n",
       "      <td>0.0</td>\n",
       "      <td>Road &amp; Bridges</td>\n",
       "      <td>6317745</td>\n",
       "      <td>0</td>\n",
       "    </tr>\n",
       "    <tr>\n",
       "      <th>1</th>\n",
       "      <td>Mississippi</td>\n",
       "      <td>2017-11-22</td>\n",
       "      <td>Hurricane</td>\n",
       "      <td>0</td>\n",
       "      <td>1.0</td>\n",
       "      <td>0.0</td>\n",
       "      <td>0.0</td>\n",
       "      <td>0</td>\n",
       "      <td>0</td>\n",
       "      <td>0</td>\n",
       "      <td>0.0</td>\n",
       "      <td>0.0</td>\n",
       "      <td>0.0</td>\n",
       "      <td>Public Parks, Recreational Facilities</td>\n",
       "      <td>14122191</td>\n",
       "      <td>0</td>\n",
       "    </tr>\n",
       "    <tr>\n",
       "      <th>2</th>\n",
       "      <td>Alabama</td>\n",
       "      <td>2017-11-16</td>\n",
       "      <td>Hurricane</td>\n",
       "      <td>0</td>\n",
       "      <td>1.0</td>\n",
       "      <td>0.0</td>\n",
       "      <td>0.0</td>\n",
       "      <td>0</td>\n",
       "      <td>0</td>\n",
       "      <td>0</td>\n",
       "      <td>0.0</td>\n",
       "      <td>0.0</td>\n",
       "      <td>0.0</td>\n",
       "      <td>Public Parks, Recreational Facilities</td>\n",
       "      <td>17735820</td>\n",
       "      <td>0</td>\n",
       "    </tr>\n",
       "    <tr>\n",
       "      <th>3</th>\n",
       "      <td>New York</td>\n",
       "      <td>2017-11-14</td>\n",
       "      <td>Flooding</td>\n",
       "      <td>0</td>\n",
       "      <td>1.0</td>\n",
       "      <td>0.0</td>\n",
       "      <td>0.0</td>\n",
       "      <td>0</td>\n",
       "      <td>0</td>\n",
       "      <td>0</td>\n",
       "      <td>0.0</td>\n",
       "      <td>0.0</td>\n",
       "      <td>0.0</td>\n",
       "      <td>Public Parks, Recreational Facilities</td>\n",
       "      <td>33900354</td>\n",
       "      <td>0</td>\n",
       "    </tr>\n",
       "    <tr>\n",
       "      <th>4</th>\n",
       "      <td>Kansas</td>\n",
       "      <td>2017-11-07</td>\n",
       "      <td>Storm-Flood</td>\n",
       "      <td>0</td>\n",
       "      <td>1.0</td>\n",
       "      <td>0.0</td>\n",
       "      <td>0.0</td>\n",
       "      <td>0</td>\n",
       "      <td>0</td>\n",
       "      <td>0</td>\n",
       "      <td>0.0</td>\n",
       "      <td>0.0</td>\n",
       "      <td>0.0</td>\n",
       "      <td>Public Buildings and Equipment</td>\n",
       "      <td>5997796</td>\n",
       "      <td>0</td>\n",
       "    </tr>\n",
       "  </tbody>\n",
       "</table>\n",
       "</div>"
      ],
      "text/plain": [
       "         State       Date         Type  IA   PA  Residences Impacted  \\\n",
       "0       Alaska 2017-12-20        Storm   0  1.0                  0.0   \n",
       "1  Mississippi 2017-11-22    Hurricane   0  1.0                  0.0   \n",
       "2      Alabama 2017-11-16    Hurricane   0  1.0                  0.0   \n",
       "3     New York 2017-11-14     Flooding   0  1.0                  0.0   \n",
       "4       Kansas 2017-11-07  Storm-Flood   0  1.0                  0.0   \n",
       "\n",
       "   Destroyed  MajorDamage  MinorDamage  Affected  Insured  Low Income  \\\n",
       "0        0.0            0            0         0      0.0         0.0   \n",
       "1        0.0            0            0         0      0.0         0.0   \n",
       "2        0.0            0            0         0      0.0         0.0   \n",
       "3        0.0            0            0         0      0.0         0.0   \n",
       "4        0.0            0            0         0      0.0         0.0   \n",
       "\n",
       "   Elderly                         Primary Impact Total PA cost estimate  \\\n",
       "0      0.0                         Road & Bridges                6317745   \n",
       "1      0.0  Public Parks, Recreational Facilities               14122191   \n",
       "2      0.0  Public Parks, Recreational Facilities               17735820   \n",
       "3      0.0  Public Parks, Recreational Facilities               33900354   \n",
       "4      0.0         Public Buildings and Equipment                5997796   \n",
       "\n",
       "   Total IA cost estimate  \n",
       "0                       0  \n",
       "1                       0  \n",
       "2                       0  \n",
       "3                       0  \n",
       "4                       0  "
      ]
     },
     "execution_count": 7,
     "metadata": {},
     "output_type": "execute_result"
    }
   ],
   "source": [
    "all_data.head(5)"
   ]
  },
  {
   "cell_type": "markdown",
   "metadata": {
    "colab_type": "text",
    "id": "YXVqQ1u4a-yJ"
   },
   "source": [
    "Add a month column"
   ]
  },
  {
   "cell_type": "code",
   "execution_count": 8,
   "metadata": {},
   "outputs": [],
   "source": [
    "all_data[\"Date\"] = all_data[\"Date\"].astype(str)"
   ]
  },
  {
   "cell_type": "code",
   "execution_count": 9,
   "metadata": {},
   "outputs": [
    {
     "data": {
      "text/html": [
       "<div>\n",
       "<style scoped>\n",
       "    .dataframe tbody tr th:only-of-type {\n",
       "        vertical-align: middle;\n",
       "    }\n",
       "\n",
       "    .dataframe tbody tr th {\n",
       "        vertical-align: top;\n",
       "    }\n",
       "\n",
       "    .dataframe thead th {\n",
       "        text-align: right;\n",
       "    }\n",
       "</style>\n",
       "<table border=\"1\" class=\"dataframe\">\n",
       "  <thead>\n",
       "    <tr style=\"text-align: right;\">\n",
       "      <th></th>\n",
       "      <th>State</th>\n",
       "      <th>Date</th>\n",
       "      <th>Type</th>\n",
       "      <th>IA</th>\n",
       "      <th>PA</th>\n",
       "      <th>Residences Impacted</th>\n",
       "      <th>Destroyed</th>\n",
       "      <th>MajorDamage</th>\n",
       "      <th>MinorDamage</th>\n",
       "      <th>Affected</th>\n",
       "      <th>Insured</th>\n",
       "      <th>Low Income</th>\n",
       "      <th>Elderly</th>\n",
       "      <th>Primary Impact</th>\n",
       "      <th>Total PA cost estimate</th>\n",
       "      <th>Total IA cost estimate</th>\n",
       "    </tr>\n",
       "  </thead>\n",
       "  <tbody>\n",
       "    <tr>\n",
       "      <th>0</th>\n",
       "      <td>Alaska</td>\n",
       "      <td>2017-12-20</td>\n",
       "      <td>Storm</td>\n",
       "      <td>0</td>\n",
       "      <td>1.0</td>\n",
       "      <td>0.0</td>\n",
       "      <td>0.0</td>\n",
       "      <td>0</td>\n",
       "      <td>0</td>\n",
       "      <td>0</td>\n",
       "      <td>0.0</td>\n",
       "      <td>0.0</td>\n",
       "      <td>0.0</td>\n",
       "      <td>Road &amp; Bridges</td>\n",
       "      <td>6317745</td>\n",
       "      <td>0</td>\n",
       "    </tr>\n",
       "    <tr>\n",
       "      <th>1</th>\n",
       "      <td>Mississippi</td>\n",
       "      <td>2017-11-22</td>\n",
       "      <td>Hurricane</td>\n",
       "      <td>0</td>\n",
       "      <td>1.0</td>\n",
       "      <td>0.0</td>\n",
       "      <td>0.0</td>\n",
       "      <td>0</td>\n",
       "      <td>0</td>\n",
       "      <td>0</td>\n",
       "      <td>0.0</td>\n",
       "      <td>0.0</td>\n",
       "      <td>0.0</td>\n",
       "      <td>Public Parks, Recreational Facilities</td>\n",
       "      <td>14122191</td>\n",
       "      <td>0</td>\n",
       "    </tr>\n",
       "    <tr>\n",
       "      <th>2</th>\n",
       "      <td>Alabama</td>\n",
       "      <td>2017-11-16</td>\n",
       "      <td>Hurricane</td>\n",
       "      <td>0</td>\n",
       "      <td>1.0</td>\n",
       "      <td>0.0</td>\n",
       "      <td>0.0</td>\n",
       "      <td>0</td>\n",
       "      <td>0</td>\n",
       "      <td>0</td>\n",
       "      <td>0.0</td>\n",
       "      <td>0.0</td>\n",
       "      <td>0.0</td>\n",
       "      <td>Public Parks, Recreational Facilities</td>\n",
       "      <td>17735820</td>\n",
       "      <td>0</td>\n",
       "    </tr>\n",
       "    <tr>\n",
       "      <th>3</th>\n",
       "      <td>New York</td>\n",
       "      <td>2017-11-14</td>\n",
       "      <td>Flooding</td>\n",
       "      <td>0</td>\n",
       "      <td>1.0</td>\n",
       "      <td>0.0</td>\n",
       "      <td>0.0</td>\n",
       "      <td>0</td>\n",
       "      <td>0</td>\n",
       "      <td>0</td>\n",
       "      <td>0.0</td>\n",
       "      <td>0.0</td>\n",
       "      <td>0.0</td>\n",
       "      <td>Public Parks, Recreational Facilities</td>\n",
       "      <td>33900354</td>\n",
       "      <td>0</td>\n",
       "    </tr>\n",
       "    <tr>\n",
       "      <th>4</th>\n",
       "      <td>Kansas</td>\n",
       "      <td>2017-11-07</td>\n",
       "      <td>Storm-Flood</td>\n",
       "      <td>0</td>\n",
       "      <td>1.0</td>\n",
       "      <td>0.0</td>\n",
       "      <td>0.0</td>\n",
       "      <td>0</td>\n",
       "      <td>0</td>\n",
       "      <td>0</td>\n",
       "      <td>0.0</td>\n",
       "      <td>0.0</td>\n",
       "      <td>0.0</td>\n",
       "      <td>Public Buildings and Equipment</td>\n",
       "      <td>5997796</td>\n",
       "      <td>0</td>\n",
       "    </tr>\n",
       "  </tbody>\n",
       "</table>\n",
       "</div>"
      ],
      "text/plain": [
       "         State        Date         Type  IA   PA  Residences Impacted  \\\n",
       "0       Alaska  2017-12-20        Storm   0  1.0                  0.0   \n",
       "1  Mississippi  2017-11-22    Hurricane   0  1.0                  0.0   \n",
       "2      Alabama  2017-11-16    Hurricane   0  1.0                  0.0   \n",
       "3     New York  2017-11-14     Flooding   0  1.0                  0.0   \n",
       "4       Kansas  2017-11-07  Storm-Flood   0  1.0                  0.0   \n",
       "\n",
       "   Destroyed  MajorDamage  MinorDamage  Affected  Insured  Low Income  \\\n",
       "0        0.0            0            0         0      0.0         0.0   \n",
       "1        0.0            0            0         0      0.0         0.0   \n",
       "2        0.0            0            0         0      0.0         0.0   \n",
       "3        0.0            0            0         0      0.0         0.0   \n",
       "4        0.0            0            0         0      0.0         0.0   \n",
       "\n",
       "   Elderly                         Primary Impact Total PA cost estimate  \\\n",
       "0      0.0                         Road & Bridges                6317745   \n",
       "1      0.0  Public Parks, Recreational Facilities               14122191   \n",
       "2      0.0  Public Parks, Recreational Facilities               17735820   \n",
       "3      0.0  Public Parks, Recreational Facilities               33900354   \n",
       "4      0.0         Public Buildings and Equipment                5997796   \n",
       "\n",
       "   Total IA cost estimate  \n",
       "0                       0  \n",
       "1                       0  \n",
       "2                       0  \n",
       "3                       0  \n",
       "4                       0  "
      ]
     },
     "execution_count": 9,
     "metadata": {},
     "output_type": "execute_result"
    }
   ],
   "source": [
    "all_data.head(5)"
   ]
  },
  {
   "cell_type": "code",
   "execution_count": 10,
   "metadata": {
    "colab": {},
    "colab_type": "code",
    "id": "OicLRapqW6zP"
   },
   "outputs": [],
   "source": [
    "all_data[\"month\"] = all_data[\"Date\"].str[5:7]"
   ]
  },
  {
   "cell_type": "code",
   "execution_count": 11,
   "metadata": {},
   "outputs": [
    {
     "data": {
      "text/html": [
       "<div>\n",
       "<style scoped>\n",
       "    .dataframe tbody tr th:only-of-type {\n",
       "        vertical-align: middle;\n",
       "    }\n",
       "\n",
       "    .dataframe tbody tr th {\n",
       "        vertical-align: top;\n",
       "    }\n",
       "\n",
       "    .dataframe thead th {\n",
       "        text-align: right;\n",
       "    }\n",
       "</style>\n",
       "<table border=\"1\" class=\"dataframe\">\n",
       "  <thead>\n",
       "    <tr style=\"text-align: right;\">\n",
       "      <th></th>\n",
       "      <th>State</th>\n",
       "      <th>Date</th>\n",
       "      <th>Type</th>\n",
       "      <th>IA</th>\n",
       "      <th>PA</th>\n",
       "      <th>Residences Impacted</th>\n",
       "      <th>Destroyed</th>\n",
       "      <th>MajorDamage</th>\n",
       "      <th>MinorDamage</th>\n",
       "      <th>Affected</th>\n",
       "      <th>Insured</th>\n",
       "      <th>Low Income</th>\n",
       "      <th>Elderly</th>\n",
       "      <th>Primary Impact</th>\n",
       "      <th>Total PA cost estimate</th>\n",
       "      <th>Total IA cost estimate</th>\n",
       "      <th>month</th>\n",
       "    </tr>\n",
       "  </thead>\n",
       "  <tbody>\n",
       "    <tr>\n",
       "      <th>0</th>\n",
       "      <td>Alaska</td>\n",
       "      <td>2017-12-20</td>\n",
       "      <td>Storm</td>\n",
       "      <td>0</td>\n",
       "      <td>1.0</td>\n",
       "      <td>0.0</td>\n",
       "      <td>0.0</td>\n",
       "      <td>0</td>\n",
       "      <td>0</td>\n",
       "      <td>0</td>\n",
       "      <td>0.0</td>\n",
       "      <td>0.0</td>\n",
       "      <td>0.0</td>\n",
       "      <td>Road &amp; Bridges</td>\n",
       "      <td>6317745</td>\n",
       "      <td>0</td>\n",
       "      <td>12</td>\n",
       "    </tr>\n",
       "    <tr>\n",
       "      <th>1</th>\n",
       "      <td>Mississippi</td>\n",
       "      <td>2017-11-22</td>\n",
       "      <td>Hurricane</td>\n",
       "      <td>0</td>\n",
       "      <td>1.0</td>\n",
       "      <td>0.0</td>\n",
       "      <td>0.0</td>\n",
       "      <td>0</td>\n",
       "      <td>0</td>\n",
       "      <td>0</td>\n",
       "      <td>0.0</td>\n",
       "      <td>0.0</td>\n",
       "      <td>0.0</td>\n",
       "      <td>Public Parks, Recreational Facilities</td>\n",
       "      <td>14122191</td>\n",
       "      <td>0</td>\n",
       "      <td>11</td>\n",
       "    </tr>\n",
       "    <tr>\n",
       "      <th>2</th>\n",
       "      <td>Alabama</td>\n",
       "      <td>2017-11-16</td>\n",
       "      <td>Hurricane</td>\n",
       "      <td>0</td>\n",
       "      <td>1.0</td>\n",
       "      <td>0.0</td>\n",
       "      <td>0.0</td>\n",
       "      <td>0</td>\n",
       "      <td>0</td>\n",
       "      <td>0</td>\n",
       "      <td>0.0</td>\n",
       "      <td>0.0</td>\n",
       "      <td>0.0</td>\n",
       "      <td>Public Parks, Recreational Facilities</td>\n",
       "      <td>17735820</td>\n",
       "      <td>0</td>\n",
       "      <td>11</td>\n",
       "    </tr>\n",
       "    <tr>\n",
       "      <th>3</th>\n",
       "      <td>New York</td>\n",
       "      <td>2017-11-14</td>\n",
       "      <td>Flooding</td>\n",
       "      <td>0</td>\n",
       "      <td>1.0</td>\n",
       "      <td>0.0</td>\n",
       "      <td>0.0</td>\n",
       "      <td>0</td>\n",
       "      <td>0</td>\n",
       "      <td>0</td>\n",
       "      <td>0.0</td>\n",
       "      <td>0.0</td>\n",
       "      <td>0.0</td>\n",
       "      <td>Public Parks, Recreational Facilities</td>\n",
       "      <td>33900354</td>\n",
       "      <td>0</td>\n",
       "      <td>11</td>\n",
       "    </tr>\n",
       "    <tr>\n",
       "      <th>4</th>\n",
       "      <td>Kansas</td>\n",
       "      <td>2017-11-07</td>\n",
       "      <td>Storm-Flood</td>\n",
       "      <td>0</td>\n",
       "      <td>1.0</td>\n",
       "      <td>0.0</td>\n",
       "      <td>0.0</td>\n",
       "      <td>0</td>\n",
       "      <td>0</td>\n",
       "      <td>0</td>\n",
       "      <td>0.0</td>\n",
       "      <td>0.0</td>\n",
       "      <td>0.0</td>\n",
       "      <td>Public Buildings and Equipment</td>\n",
       "      <td>5997796</td>\n",
       "      <td>0</td>\n",
       "      <td>11</td>\n",
       "    </tr>\n",
       "  </tbody>\n",
       "</table>\n",
       "</div>"
      ],
      "text/plain": [
       "         State        Date         Type  IA   PA  Residences Impacted  \\\n",
       "0       Alaska  2017-12-20        Storm   0  1.0                  0.0   \n",
       "1  Mississippi  2017-11-22    Hurricane   0  1.0                  0.0   \n",
       "2      Alabama  2017-11-16    Hurricane   0  1.0                  0.0   \n",
       "3     New York  2017-11-14     Flooding   0  1.0                  0.0   \n",
       "4       Kansas  2017-11-07  Storm-Flood   0  1.0                  0.0   \n",
       "\n",
       "   Destroyed  MajorDamage  MinorDamage  Affected  Insured  Low Income  \\\n",
       "0        0.0            0            0         0      0.0         0.0   \n",
       "1        0.0            0            0         0      0.0         0.0   \n",
       "2        0.0            0            0         0      0.0         0.0   \n",
       "3        0.0            0            0         0      0.0         0.0   \n",
       "4        0.0            0            0         0      0.0         0.0   \n",
       "\n",
       "   Elderly                         Primary Impact Total PA cost estimate  \\\n",
       "0      0.0                         Road & Bridges                6317745   \n",
       "1      0.0  Public Parks, Recreational Facilities               14122191   \n",
       "2      0.0  Public Parks, Recreational Facilities               17735820   \n",
       "3      0.0  Public Parks, Recreational Facilities               33900354   \n",
       "4      0.0         Public Buildings and Equipment                5997796   \n",
       "\n",
       "   Total IA cost estimate month  \n",
       "0                       0    12  \n",
       "1                       0    11  \n",
       "2                       0    11  \n",
       "3                       0    11  \n",
       "4                       0    11  "
      ]
     },
     "execution_count": 11,
     "metadata": {},
     "output_type": "execute_result"
    }
   ],
   "source": [
    "all_data.head(5)"
   ]
  },
  {
   "cell_type": "code",
   "execution_count": 12,
   "metadata": {},
   "outputs": [],
   "source": [
    "all_data.to_excel(\"/Users/mahdiafkhami/Desktop/Purdue/FEMA data/Paper/Preliminary Damage Assessment Reports/ALL.xlsx\", index = False)"
   ]
  },
  {
   "cell_type": "code",
   "execution_count": 13,
   "metadata": {},
   "outputs": [
    {
     "data": {
      "text/plain": [
       "1    201\n",
       "0    141\n",
       "Name: IA, dtype: int64"
      ]
     },
     "execution_count": 13,
     "metadata": {},
     "output_type": "execute_result"
    }
   ],
   "source": [
    "all_data[\"IA\"].value_counts()"
   ]
  },
  {
   "cell_type": "code",
   "execution_count": 14,
   "metadata": {},
   "outputs": [],
   "source": [
    "df1 = all_data[all_data[\"IA\"] ==1]"
   ]
  },
  {
   "cell_type": "code",
   "execution_count": 15,
   "metadata": {},
   "outputs": [],
   "source": [
    "#Encoding categorical Data\n",
    "from sklearn.preprocessing import LabelEncoder\n",
    "le = LabelEncoder()\n",
    "df.Type=le.fit_transform(df.Type)"
   ]
  },
  {
   "cell_type": "code",
   "execution_count": 16,
   "metadata": {},
   "outputs": [
    {
     "data": {
      "text/html": [
       "<div>\n",
       "<style scoped>\n",
       "    .dataframe tbody tr th:only-of-type {\n",
       "        vertical-align: middle;\n",
       "    }\n",
       "\n",
       "    .dataframe tbody tr th {\n",
       "        vertical-align: top;\n",
       "    }\n",
       "\n",
       "    .dataframe thead th {\n",
       "        text-align: right;\n",
       "    }\n",
       "</style>\n",
       "<table border=\"1\" class=\"dataframe\">\n",
       "  <thead>\n",
       "    <tr style=\"text-align: right;\">\n",
       "      <th></th>\n",
       "      <th>State</th>\n",
       "      <th>Date</th>\n",
       "      <th>Type</th>\n",
       "      <th>IA</th>\n",
       "      <th>PA</th>\n",
       "      <th>Residences Impacted</th>\n",
       "      <th>Destroyed</th>\n",
       "      <th>MajorDamage</th>\n",
       "      <th>MinorDamage</th>\n",
       "      <th>Affected</th>\n",
       "      <th>Insured</th>\n",
       "      <th>Low Income</th>\n",
       "      <th>Elderly</th>\n",
       "      <th>Primary Impact</th>\n",
       "      <th>Total PA cost estimate</th>\n",
       "      <th>Total IA cost estimate</th>\n",
       "    </tr>\n",
       "  </thead>\n",
       "  <tbody>\n",
       "    <tr>\n",
       "      <th>0</th>\n",
       "      <td>Virginia</td>\n",
       "      <td>2018-12-18</td>\n",
       "      <td>4</td>\n",
       "      <td>0</td>\n",
       "      <td>1.0</td>\n",
       "      <td>0.0</td>\n",
       "      <td>0.0</td>\n",
       "      <td>0</td>\n",
       "      <td>0</td>\n",
       "      <td>0</td>\n",
       "      <td>0.0</td>\n",
       "      <td>0.0</td>\n",
       "      <td>0.0</td>\n",
       "      <td>Road &amp; Bridges</td>\n",
       "      <td>20376422.0</td>\n",
       "      <td>0</td>\n",
       "    </tr>\n",
       "    <tr>\n",
       "      <th>1</th>\n",
       "      <td>Connecticut</td>\n",
       "      <td>2018-12-05</td>\n",
       "      <td>6</td>\n",
       "      <td>0</td>\n",
       "      <td>1.0</td>\n",
       "      <td>0.0</td>\n",
       "      <td>0.0</td>\n",
       "      <td>0</td>\n",
       "      <td>0</td>\n",
       "      <td>0</td>\n",
       "      <td>0.0</td>\n",
       "      <td>0.0</td>\n",
       "      <td>0.0</td>\n",
       "      <td>Road &amp; Bridges</td>\n",
       "      <td>6285040.0</td>\n",
       "      <td>0</td>\n",
       "    </tr>\n",
       "  </tbody>\n",
       "</table>\n",
       "</div>"
      ],
      "text/plain": [
       "         State       Date  Type  IA   PA  Residences Impacted  Destroyed  \\\n",
       "0     Virginia 2018-12-18     4   0  1.0                  0.0        0.0   \n",
       "1  Connecticut 2018-12-05     6   0  1.0                  0.0        0.0   \n",
       "\n",
       "   MajorDamage  MinorDamage  Affected  Insured  Low Income  Elderly  \\\n",
       "0            0            0         0      0.0         0.0      0.0   \n",
       "1            0            0         0      0.0         0.0      0.0   \n",
       "\n",
       "   Primary Impact  Total PA cost estimate  Total IA cost estimate  \n",
       "0  Road & Bridges              20376422.0                       0  \n",
       "1  Road & Bridges               6285040.0                       0  "
      ]
     },
     "execution_count": 16,
     "metadata": {},
     "output_type": "execute_result"
    }
   ],
   "source": [
    "df.head(2)"
   ]
  },
  {
   "cell_type": "code",
   "execution_count": 17,
   "metadata": {},
   "outputs": [],
   "source": [
    "#create dummy Variables, so there is no order ==> OneHotEncoder"
   ]
  },
  {
   "cell_type": "code",
   "execution_count": 18,
   "metadata": {},
   "outputs": [
    {
     "name": "stdout",
     "output_type": "stream",
     "text": [
      "State                     0\n",
      "Date                      0\n",
      "Type                      0\n",
      "IA                        0\n",
      "PA                        0\n",
      "Residences Impacted       0\n",
      "Destroyed                 0\n",
      "MajorDamage               0\n",
      "MinorDamage               0\n",
      "Affected                  0\n",
      "Insured                   0\n",
      "Low Income                0\n",
      "Elderly                   0\n",
      "Primary Impact            0\n",
      "Total PA cost estimate    0\n",
      "Total IA cost estimate    0\n",
      "month                     0\n",
      "dtype: int64\n"
     ]
    }
   ],
   "source": [
    "null_v = df1.isnull().sum()\n",
    "print(null_v)"
   ]
  },
  {
   "cell_type": "code",
   "execution_count": 19,
   "metadata": {},
   "outputs": [],
   "source": [
    "df1 = df1.drop([\"Primary Impact\",\"Elderly\"], axis = 1)"
   ]
  },
  {
   "cell_type": "code",
   "execution_count": 20,
   "metadata": {},
   "outputs": [
    {
     "data": {
      "text/html": [
       "<div>\n",
       "<style scoped>\n",
       "    .dataframe tbody tr th:only-of-type {\n",
       "        vertical-align: middle;\n",
       "    }\n",
       "\n",
       "    .dataframe tbody tr th {\n",
       "        vertical-align: top;\n",
       "    }\n",
       "\n",
       "    .dataframe thead th {\n",
       "        text-align: right;\n",
       "    }\n",
       "</style>\n",
       "<table border=\"1\" class=\"dataframe\">\n",
       "  <thead>\n",
       "    <tr style=\"text-align: right;\">\n",
       "      <th></th>\n",
       "      <th>State</th>\n",
       "      <th>Date</th>\n",
       "      <th>Type</th>\n",
       "      <th>IA</th>\n",
       "      <th>PA</th>\n",
       "      <th>Residences Impacted</th>\n",
       "      <th>Destroyed</th>\n",
       "      <th>MajorDamage</th>\n",
       "      <th>MinorDamage</th>\n",
       "      <th>Affected</th>\n",
       "      <th>Insured</th>\n",
       "      <th>Low Income</th>\n",
       "      <th>Total PA cost estimate</th>\n",
       "      <th>Total IA cost estimate</th>\n",
       "      <th>month</th>\n",
       "    </tr>\n",
       "  </thead>\n",
       "  <tbody>\n",
       "    <tr>\n",
       "      <th>6</th>\n",
       "      <td>Louisiana</td>\n",
       "      <td>2017-10-16</td>\n",
       "      <td>Storm</td>\n",
       "      <td>1</td>\n",
       "      <td>1.0</td>\n",
       "      <td>312.0</td>\n",
       "      <td>19.0</td>\n",
       "      <td>48</td>\n",
       "      <td>226</td>\n",
       "      <td>19</td>\n",
       "      <td>3.2</td>\n",
       "      <td>75.0</td>\n",
       "      <td>8301657</td>\n",
       "      <td>2794004</td>\n",
       "      <td>10</td>\n",
       "    </tr>\n",
       "    <tr>\n",
       "      <th>11</th>\n",
       "      <td>West Virginia</td>\n",
       "      <td>2017-08-18</td>\n",
       "      <td>Storm-Flood-Mudslide</td>\n",
       "      <td>1</td>\n",
       "      <td>1.0</td>\n",
       "      <td>793.0</td>\n",
       "      <td>29.0</td>\n",
       "      <td>132</td>\n",
       "      <td>306</td>\n",
       "      <td>326</td>\n",
       "      <td>6.0</td>\n",
       "      <td>81.0</td>\n",
       "      <td>8528124</td>\n",
       "      <td>5706020</td>\n",
       "      <td>08</td>\n",
       "    </tr>\n",
       "  </tbody>\n",
       "</table>\n",
       "</div>"
      ],
      "text/plain": [
       "            State        Date                  Type  IA   PA  \\\n",
       "6       Louisiana  2017-10-16                 Storm   1  1.0   \n",
       "11  West Virginia  2017-08-18  Storm-Flood-Mudslide   1  1.0   \n",
       "\n",
       "    Residences Impacted  Destroyed  MajorDamage  MinorDamage  Affected  \\\n",
       "6                 312.0       19.0           48          226        19   \n",
       "11                793.0       29.0          132          306       326   \n",
       "\n",
       "    Insured  Low Income Total PA cost estimate  Total IA cost estimate month  \n",
       "6       3.2        75.0                8301657                 2794004    10  \n",
       "11      6.0        81.0                8528124                 5706020    08  "
      ]
     },
     "execution_count": 20,
     "metadata": {},
     "output_type": "execute_result"
    }
   ],
   "source": [
    "df1.head(2)"
   ]
  },
  {
   "cell_type": "code",
   "execution_count": 21,
   "metadata": {},
   "outputs": [
    {
     "data": {
      "text/html": [
       "<div>\n",
       "<style scoped>\n",
       "    .dataframe tbody tr th:only-of-type {\n",
       "        vertical-align: middle;\n",
       "    }\n",
       "\n",
       "    .dataframe tbody tr th {\n",
       "        vertical-align: top;\n",
       "    }\n",
       "\n",
       "    .dataframe thead th {\n",
       "        text-align: right;\n",
       "    }\n",
       "</style>\n",
       "<table border=\"1\" class=\"dataframe\">\n",
       "  <thead>\n",
       "    <tr style=\"text-align: right;\">\n",
       "      <th></th>\n",
       "      <th>State</th>\n",
       "      <th>Date</th>\n",
       "      <th>Type</th>\n",
       "      <th>IA</th>\n",
       "      <th>PA</th>\n",
       "      <th>Residences Impacted</th>\n",
       "      <th>Destroyed</th>\n",
       "      <th>MajorDamage</th>\n",
       "      <th>MinorDamage</th>\n",
       "      <th>Affected</th>\n",
       "      <th>Insured</th>\n",
       "      <th>Low Income</th>\n",
       "      <th>Total PA cost estimate</th>\n",
       "      <th>Total IA cost estimate</th>\n",
       "      <th>month</th>\n",
       "    </tr>\n",
       "  </thead>\n",
       "  <tbody>\n",
       "    <tr>\n",
       "      <th>55</th>\n",
       "      <td>North Carolina</td>\n",
       "      <td>2018-05-08</td>\n",
       "      <td>Storm--Tornado</td>\n",
       "      <td>1</td>\n",
       "      <td>1.5</td>\n",
       "      <td>528.5</td>\n",
       "      <td>104.5</td>\n",
       "      <td>185</td>\n",
       "      <td>351</td>\n",
       "      <td>42</td>\n",
       "      <td>32.25</td>\n",
       "      <td>65.90</td>\n",
       "      <td>2.14889e+07</td>\n",
       "      <td>3424639</td>\n",
       "      <td>05</td>\n",
       "    </tr>\n",
       "    <tr>\n",
       "      <th>56</th>\n",
       "      <td>Indiana</td>\n",
       "      <td>2018-05-04</td>\n",
       "      <td>Storm-Flood</td>\n",
       "      <td>1</td>\n",
       "      <td>1.6</td>\n",
       "      <td>477.8</td>\n",
       "      <td>114.6</td>\n",
       "      <td>631</td>\n",
       "      <td>684</td>\n",
       "      <td>92</td>\n",
       "      <td>30.94</td>\n",
       "      <td>72.25</td>\n",
       "      <td>2.25967e+07</td>\n",
       "      <td>20392577</td>\n",
       "      <td>05</td>\n",
       "    </tr>\n",
       "    <tr>\n",
       "      <th>57</th>\n",
       "      <td>Alabama</td>\n",
       "      <td>2018-04-26</td>\n",
       "      <td>Storm--Tornado</td>\n",
       "      <td>1</td>\n",
       "      <td>1.7</td>\n",
       "      <td>427.1</td>\n",
       "      <td>124.7</td>\n",
       "      <td>481</td>\n",
       "      <td>569</td>\n",
       "      <td>142</td>\n",
       "      <td>29.63</td>\n",
       "      <td>78.60</td>\n",
       "      <td>2.37044e+07</td>\n",
       "      <td>2458255</td>\n",
       "      <td>04</td>\n",
       "    </tr>\n",
       "    <tr>\n",
       "      <th>58</th>\n",
       "      <td>Hawaii</td>\n",
       "      <td>2018-05-08</td>\n",
       "      <td>Storm-Flood-Mudslide</td>\n",
       "      <td>1</td>\n",
       "      <td>1.8</td>\n",
       "      <td>376.4</td>\n",
       "      <td>134.8</td>\n",
       "      <td>432</td>\n",
       "      <td>542</td>\n",
       "      <td>191</td>\n",
       "      <td>28.32</td>\n",
       "      <td>84.95</td>\n",
       "      <td>2.48121e+07</td>\n",
       "      <td>3424639</td>\n",
       "      <td>05</td>\n",
       "    </tr>\n",
       "    <tr>\n",
       "      <th>59</th>\n",
       "      <td>North Carolina</td>\n",
       "      <td>2018-05-08</td>\n",
       "      <td>Storm--Tornado</td>\n",
       "      <td>1</td>\n",
       "      <td>1.9</td>\n",
       "      <td>325.7</td>\n",
       "      <td>144.9</td>\n",
       "      <td>112</td>\n",
       "      <td>384</td>\n",
       "      <td>240</td>\n",
       "      <td>27.01</td>\n",
       "      <td>91.30</td>\n",
       "      <td>2.59198e+07</td>\n",
       "      <td>20392577</td>\n",
       "      <td>05</td>\n",
       "    </tr>\n",
       "  </tbody>\n",
       "</table>\n",
       "</div>"
      ],
      "text/plain": [
       "             State        Date                  Type  IA   PA  \\\n",
       "55  North Carolina  2018-05-08        Storm--Tornado   1  1.5   \n",
       "56         Indiana  2018-05-04           Storm-Flood   1  1.6   \n",
       "57         Alabama  2018-04-26        Storm--Tornado   1  1.7   \n",
       "58          Hawaii  2018-05-08  Storm-Flood-Mudslide   1  1.8   \n",
       "59  North Carolina  2018-05-08        Storm--Tornado   1  1.9   \n",
       "\n",
       "    Residences Impacted  Destroyed  MajorDamage  MinorDamage  Affected  \\\n",
       "55                528.5      104.5          185          351        42   \n",
       "56                477.8      114.6          631          684        92   \n",
       "57                427.1      124.7          481          569       142   \n",
       "58                376.4      134.8          432          542       191   \n",
       "59                325.7      144.9          112          384       240   \n",
       "\n",
       "    Insured  Low Income Total PA cost estimate  Total IA cost estimate month  \n",
       "55    32.25       65.90            2.14889e+07                 3424639    05  \n",
       "56    30.94       72.25            2.25967e+07                20392577    05  \n",
       "57    29.63       78.60            2.37044e+07                 2458255    04  \n",
       "58    28.32       84.95            2.48121e+07                 3424639    05  \n",
       "59    27.01       91.30            2.59198e+07                20392577    05  "
      ]
     },
     "execution_count": 21,
     "metadata": {},
     "output_type": "execute_result"
    }
   ],
   "source": [
    "df1.tail()"
   ]
  },
  {
   "cell_type": "code",
   "execution_count": 22,
   "metadata": {},
   "outputs": [],
   "source": [
    "X = df1.iloc[:,5:-3].values"
   ]
  },
  {
   "cell_type": "code",
   "execution_count": 23,
   "metadata": {},
   "outputs": [
    {
     "data": {
      "text/plain": [
       "array([[312.  ,  19.  ,  48.  , ...,  19.  ,   3.2 ,  75.  ],\n",
       "       [793.  ,  29.  , 132.  , ..., 326.  ,   6.  ,  81.  ],\n",
       "       [941.  ,   8.  , 310.  , ..., 256.  ,  28.2 ,  19.7 ],\n",
       "       ...,\n",
       "       [427.1 , 124.7 , 481.  , ..., 142.  ,  29.63,  78.6 ],\n",
       "       [376.4 , 134.8 , 432.  , ..., 191.  ,  28.32,  84.95],\n",
       "       [325.7 , 144.9 , 112.  , ..., 240.  ,  27.01,  91.3 ]])"
      ]
     },
     "execution_count": 23,
     "metadata": {},
     "output_type": "execute_result"
    }
   ],
   "source": [
    "X"
   ]
  },
  {
   "cell_type": "code",
   "execution_count": 24,
   "metadata": {},
   "outputs": [],
   "source": [
    "Y = df1.iloc[:,-2].values"
   ]
  },
  {
   "cell_type": "code",
   "execution_count": 25,
   "metadata": {},
   "outputs": [],
   "source": [
    "# #Feature Scaling\n",
    "# from sklearn.preprocessing import StandardScaler\n",
    "# sc_X = StandardScaler()\n",
    "# X = sc_X.fit_transform(X)\n",
    "# #no differnce to where to do the scaling"
   ]
  },
  {
   "cell_type": "code",
   "execution_count": 26,
   "metadata": {},
   "outputs": [],
   "source": [
    "import seaborn as sns"
   ]
  },
  {
   "cell_type": "code",
   "execution_count": 27,
   "metadata": {},
   "outputs": [
    {
     "data": {
      "text/plain": [
       "<seaborn.axisgrid.PairGrid at 0x1212090f0>"
      ]
     },
     "execution_count": 27,
     "metadata": {},
     "output_type": "execute_result"
    },
    {
     "data": {
      "image/png": "[encoded data removed]",
      "text/plain": [
       "<Figure size 540x540 with 12 Axes>"
      ]
     },
     "metadata": {
      "needs_background": "light"
     },
     "output_type": "display_data"
    }
   ],
   "source": [
    "sns.pairplot(df[[\"Total IA cost estimate\", \"Low Income\", \"Insured\"]], diag_kind=\"kde\")"
   ]
  },
  {
   "cell_type": "code",
   "execution_count": 28,
   "metadata": {},
   "outputs": [],
   "source": [
    "import matplotlib.pyplot as plt\n",
    "%matplotlib inline"
   ]
  },
  {
   "cell_type": "code",
   "execution_count": 29,
   "metadata": {},
   "outputs": [],
   "source": [
    "# plt.hist(Y)\n",
    "# plt.show"
   ]
  },
  {
   "cell_type": "code",
   "execution_count": null,
   "metadata": {},
   "outputs": [],
   "source": []
  },
  {
   "cell_type": "markdown",
   "metadata": {},
   "source": [
    "# Support Vector Regression"
   ]
  },
  {
   "cell_type": "code",
   "execution_count": 30,
   "metadata": {},
   "outputs": [],
   "source": [
    "from sklearn.svm import SVR\n",
    "from sklearn import preprocessing\n",
    "from sklearn.model_selection import train_test_split"
   ]
  },
  {
   "cell_type": "code",
   "execution_count": 31,
   "metadata": {},
   "outputs": [],
   "source": [
    "X_train, X_test,Y_train, Y_test = train_test_split(X,Y, test_size=0.2, random_state= 0)"
   ]
  },
  {
   "cell_type": "code",
   "execution_count": 32,
   "metadata": {},
   "outputs": [
    {
     "data": {
      "text/plain": [
       "((160, 7), (160,), (41, 7), (41,))"
      ]
     },
     "execution_count": 32,
     "metadata": {},
     "output_type": "execute_result"
    }
   ],
   "source": [
    "X_train.shape, Y_train.shape, X_test.shape, Y_test. shape"
   ]
  },
  {
   "cell_type": "code",
   "execution_count": 33,
   "metadata": {},
   "outputs": [],
   "source": [
    "# #Feature Scaling\n",
    "# from sklearn.preprocessing import StandardScaler\n",
    "# sc_X = StandardScaler()\n",
    "# X_train = sc_X.fit_transform(X_train)\n",
    "# X_test = sc_X.transform(X_test)\n",
    "# #no differnce to where to do the scaling"
   ]
  },
  {
   "cell_type": "code",
   "execution_count": 34,
   "metadata": {},
   "outputs": [],
   "source": [
    "from sklearn.metrics import mean_squared_error, r2_score"
   ]
  },
  {
   "cell_type": "code",
   "execution_count": 35,
   "metadata": {},
   "outputs": [
    {
     "data": {
      "text/plain": [
       "SVR(C=1.0, cache_size=200, coef0=0.0, degree=3, epsilon=0.1,\n",
       "  gamma='auto_deprecated', kernel='linear', max_iter=-1, shrinking=True,\n",
       "  tol=0.001, verbose=False)"
      ]
     },
     "execution_count": 35,
     "metadata": {},
     "output_type": "execute_result"
    }
   ],
   "source": [
    "reg = SVR(kernel = \"linear\")\n",
    "reg.fit(X_train,Y_train)"
   ]
  },
  {
   "cell_type": "code",
   "execution_count": null,
   "metadata": {},
   "outputs": [],
   "source": []
  },
  {
   "cell_type": "code",
   "execution_count": null,
   "metadata": {},
   "outputs": [],
   "source": []
  },
  {
   "cell_type": "code",
   "execution_count": 36,
   "metadata": {},
   "outputs": [
    {
     "data": {
      "text/plain": [
       "0.5844523765562089"
      ]
     },
     "execution_count": 36,
     "metadata": {},
     "output_type": "execute_result"
    }
   ],
   "source": [
    "reg.score(X_test,Y_test)"
   ]
  },
  {
   "cell_type": "code",
   "execution_count": 37,
   "metadata": {},
   "outputs": [
    {
     "name": "stdout",
     "output_type": "stream",
     "text": [
      "model predicts 66327696.834273726, real value: 85524552\n",
      "model predicts 8546619.589504406, real value: 9723593\n",
      "model predicts 3867782.7226209445, real value: 4731270\n",
      "model predicts 3867782.7226209445, real value: 4731270\n",
      "model predicts 3675828.6838706597, real value: 9616821\n",
      "model predicts 7057678.815672474, real value: 3424639\n",
      "model predicts 12601106.52825355, real value: 28583646\n",
      "model predicts 2771489.7235511984, real value: 1866271\n",
      "model predicts 30565255.050345138, real value: 85524552\n",
      "model predicts 2738012.4333296656, real value: 1866271\n"
     ]
    }
   ],
   "source": [
    " for X,Y in list(zip(X_test, Y_test))[:10]:\n",
    "    print(f\"model predicts {reg.predict([X])[0]}, real value: {Y}\")"
   ]
  },
  {
   "cell_type": "code",
   "execution_count": null,
   "metadata": {},
   "outputs": [
    {
     "name": "stderr",
     "output_type": "stream",
     "text": [
      "/Users/mahdiafkhami/anaconda3/lib/python3.7/site-packages/sklearn/svm/base.py:196: FutureWarning: The default value of gamma will change from 'auto' to 'scale' in version 0.22 to account better for unscaled features. Set gamma explicitly to 'auto' or 'scale' to avoid this warning.\n",
      "  \"avoid this warning.\", FutureWarning)\n"
     ]
    },
    {
     "data": {
      "text/plain": [
       "SVR(C=1.0, cache_size=200, coef0=0.0, degree=3, epsilon=0.1,\n",
       "  gamma='auto_deprecated', kernel='rbf', max_iter=-1, shrinking=True,\n",
       "  tol=0.001, verbose=False)"
      ]
     },
     "execution_count": 38,
     "metadata": {},
     "output_type": "execute_result"
    }
   ],
   "source": [
    "reg = SVR(kernel = \"rbf\")\n",
    "reg.fit(X_train,Y_train)"
   ]
  },
  {
   "cell_type": "code",
   "execution_count": null,
   "metadata": {},
   "outputs": [
    {
     "data": {
      "text/plain": [
       "-0.29715179610290243"
      ]
     },
     "execution_count": 39,
     "metadata": {},
     "output_type": "execute_result"
    }
   ],
   "source": [
    "reg.score(X_test,Y_test)"
   ]
  },
  {
   "cell_type": "code",
   "execution_count": null,
   "metadata": {},
   "outputs": [
    {
     "name": "stdout",
     "output_type": "stream",
     "text": [
      "model predicts 4731259.9, real value: 85524552\n",
      "model predicts 4731259.9, real value: 9723593\n",
      "model predicts 4731269.9, real value: 4731270\n",
      "model predicts 4731269.9, real value: 4731270\n",
      "model predicts 4731259.9, real value: 9616821\n",
      "model predicts 4731258.9, real value: 3424639\n",
      "model predicts 4731260.9, real value: 28583646\n",
      "model predicts 4731259.7754233945, real value: 1866271\n",
      "model predicts 4731259.9, real value: 85524552\n",
      "model predicts 4731259.89999997, real value: 1866271\n"
     ]
    }
   ],
   "source": [
    "for X,Y in list(zip(X_test, Y_test))[:10]:\n",
    "    print(f\"model predicts {reg.predict([X])[0]}, real value: {Y}\")"
   ]
  },
  {
   "cell_type": "code",
   "execution_count": null,
   "metadata": {},
   "outputs": [
    {
     "name": "stderr",
     "output_type": "stream",
     "text": [
      "/Users/mahdiafkhami/anaconda3/lib/python3.7/site-packages/sklearn/svm/base.py:196: FutureWarning: The default value of gamma will change from 'auto' to 'scale' in version 0.22 to account better for unscaled features. Set gamma explicitly to 'auto' or 'scale' to avoid this warning.\n",
      "  \"avoid this warning.\", FutureWarning)\n"
     ]
    }
   ],
   "source": [
    "reg = SVR(kernel = \"poly\", degree = 3)\n",
    "reg.fit(X_train,Y_train)"
   ]
  },
  {
   "cell_type": "code",
   "execution_count": null,
   "metadata": {},
   "outputs": [],
   "source": [
    "reg.score(X_test,Y_test)"
   ]
  },
  {
   "cell_type": "code",
   "execution_count": null,
   "metadata": {},
   "outputs": [],
   "source": [
    "for X,Y in list(zip(X_test, Y_test))[:10]:\n",
    "    print(f\"model predicts {reg.predict([X])[0]}, real value: {Y}\")"
   ]
  },
  {
   "cell_type": "code",
   "execution_count": null,
   "metadata": {},
   "outputs": [],
   "source": [
    "y_predict = reg.predict(X_test)"
   ]
  },
  {
   "cell_type": "code",
   "execution_count": null,
   "metadata": {},
   "outputs": [],
   "source": [
    "r2_score(Y_test, y_predict)"
   ]
  },
  {
   "cell_type": "code",
   "execution_count": null,
   "metadata": {},
   "outputs": [],
   "source": [
    "mean_squared_error(Y_test, y_predict)"
   ]
  },
  {
   "cell_type": "code",
   "execution_count": null,
   "metadata": {},
   "outputs": [],
   "source": [
    "y_predict"
   ]
  },
  {
   "cell_type": "code",
   "execution_count": null,
   "metadata": {},
   "outputs": [],
   "source": [
    "dw = np.array(y_predict).tolist()"
   ]
  },
  {
   "cell_type": "code",
   "execution_count": null,
   "metadata": {},
   "outputs": [],
   "source": [
    "dw"
   ]
  },
  {
   "cell_type": "code",
   "execution_count": null,
   "metadata": {},
   "outputs": [],
   "source": [
    "plt.plot(Y_test, dw,'o',label='SVR Prediction (Linear Basis)')\n",
    "plt.xlabel(\"$Y-test$\")\n",
    "plt.ylabel(\"$y_Predict$\")\n",
    "plt.legend()\n",
    "#Adding the slope line\n",
    "m, b = np.polyfit(Y_test, dw, 1)\n",
    "plt.plot(Y_test, m*Y_test + b)\n",
    "plt.show"
   ]
  },
  {
   "cell_type": "code",
   "execution_count": null,
   "metadata": {},
   "outputs": [],
   "source": [
    "# X_grid = np.arange(min(X_train),max(X_train),0.01)\n",
    "# X_grid = X_grid.reshape(len(X_grid),1)\n",
    "# Plt.scatter(X,Y_test, color = \"blue\")\n",
    "# plt.plot(X_grid,reg.predict(X_grid, color = \"red\"))\n",
    "# plt.xlabel(\"$Y-test$\")\n",
    "# plt.ylabel(\"$y_Predict$\")\n",
    "# plt.legend()\n",
    "# plt.show()"
   ]
  },
  {
   "cell_type": "code",
   "execution_count": null,
   "metadata": {},
   "outputs": [],
   "source": []
  }
 ],
 "metadata": {
  "colab": {
   "name": "DamageAssestment.ipynb",
   "provenance": []
  },
  "kernelspec": {
   "display_name": "Python 3",
   "language": "python",
   "name": "python3"
  },
  "language_info": {
   "codemirror_mode": {
    "name": "ipython",
    "version": 3
   },
   "file_extension": ".py",
   "mimetype": "text/x-python",
   "name": "python",
   "nbconvert_exporter": "python",
   "pygments_lexer": "ipython3",
   "version": "3.7.1"
  }
 },
 "nbformat": 4,
 "nbformat_minor": 1
}
