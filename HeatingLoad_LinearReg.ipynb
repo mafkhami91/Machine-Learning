{
  "nbformat": 4,
  "nbformat_minor": 0,
  "metadata": {
    "colab": {
      "name": "HeatingLoad_LinearReg.ipynb",
      "provenance": [],
      "toc_visible": true
    },
    "kernelspec": {
      "display_name": "Python 3",
      "language": "python",
      "name": "python3"
    },
    "language_info": {
      "codemirror_mode": {
        "name": "ipython",
        "version": 3
      },
      "file_extension": ".py",
      "mimetype": "text/x-python",
      "name": "python",
      "nbconvert_exporter": "python",
      "pygments_lexer": "ipython3",
      "version": "3.7.1"
    }
  },
  "cells": [
    {
      "cell_type": "code",
      "metadata": {
        "colab_type": "code",
        "id": "InR8BW4bnqo1",
        "colab": {}
      },
      "source": [
        "import numpy as np\n",
        "import pandas as pd\n",
        "from sklearn import linear_model\n",
        "import matplotlib.pyplot as plt\n",
        "%matplotlib inline"
      ],
      "execution_count": null,
      "outputs": []
    },
    {
      "cell_type": "code",
      "metadata": {
        "colab_type": "code",
        "id": "9maHyJconqpR",
        "scrolled": true,
        "colab": {
          "base_uri": "https://localhost:8080/",
          "height": 206
        },
        "outputId": "8e5f5a3e-c584-4c64-a1c1-048aabbb999b"
      },
      "source": [
        "df = pd.read_excel(\"/content/ENB2012_data.xlsx\")\n",
        "df.head()"
      ],
      "execution_count": null,
      "outputs": [
        {
          "output_type": "execute_result",
          "data": {
            "text/html": [
              "<div>\n",
              "<style scoped>\n",
              "    .dataframe tbody tr th:only-of-type {\n",
              "        vertical-align: middle;\n",
              "    }\n",
              "\n",
              "    .dataframe tbody tr th {\n",
              "        vertical-align: top;\n",
              "    }\n",
              "\n",
              "    .dataframe thead th {\n",
              "        text-align: right;\n",
              "    }\n",
              "</style>\n",
              "<table border=\"1\" class=\"dataframe\">\n",
              "  <thead>\n",
              "    <tr style=\"text-align: right;\">\n",
              "      <th></th>\n",
              "      <th>X1</th>\n",
              "      <th>X2</th>\n",
              "      <th>X3</th>\n",
              "      <th>X4</th>\n",
              "      <th>X5</th>\n",
              "      <th>X6</th>\n",
              "      <th>X7</th>\n",
              "      <th>X8</th>\n",
              "      <th>Y1</th>\n",
              "      <th>Y2</th>\n",
              "    </tr>\n",
              "  </thead>\n",
              "  <tbody>\n",
              "    <tr>\n",
              "      <th>0</th>\n",
              "      <td>0.98</td>\n",
              "      <td>514.5</td>\n",
              "      <td>294.0</td>\n",
              "      <td>110.25</td>\n",
              "      <td>7.0</td>\n",
              "      <td>2</td>\n",
              "      <td>0.0</td>\n",
              "      <td>0</td>\n",
              "      <td>15.55</td>\n",
              "      <td>21.33</td>\n",
              "    </tr>\n",
              "    <tr>\n",
              "      <th>1</th>\n",
              "      <td>0.98</td>\n",
              "      <td>514.5</td>\n",
              "      <td>294.0</td>\n",
              "      <td>110.25</td>\n",
              "      <td>7.0</td>\n",
              "      <td>3</td>\n",
              "      <td>0.0</td>\n",
              "      <td>0</td>\n",
              "      <td>15.55</td>\n",
              "      <td>21.33</td>\n",
              "    </tr>\n",
              "    <tr>\n",
              "      <th>2</th>\n",
              "      <td>0.98</td>\n",
              "      <td>514.5</td>\n",
              "      <td>294.0</td>\n",
              "      <td>110.25</td>\n",
              "      <td>7.0</td>\n",
              "      <td>4</td>\n",
              "      <td>0.0</td>\n",
              "      <td>0</td>\n",
              "      <td>15.55</td>\n",
              "      <td>21.33</td>\n",
              "    </tr>\n",
              "    <tr>\n",
              "      <th>3</th>\n",
              "      <td>0.98</td>\n",
              "      <td>514.5</td>\n",
              "      <td>294.0</td>\n",
              "      <td>110.25</td>\n",
              "      <td>7.0</td>\n",
              "      <td>5</td>\n",
              "      <td>0.0</td>\n",
              "      <td>0</td>\n",
              "      <td>15.55</td>\n",
              "      <td>21.33</td>\n",
              "    </tr>\n",
              "    <tr>\n",
              "      <th>4</th>\n",
              "      <td>0.90</td>\n",
              "      <td>563.5</td>\n",
              "      <td>318.5</td>\n",
              "      <td>122.50</td>\n",
              "      <td>7.0</td>\n",
              "      <td>2</td>\n",
              "      <td>0.0</td>\n",
              "      <td>0</td>\n",
              "      <td>20.84</td>\n",
              "      <td>28.28</td>\n",
              "    </tr>\n",
              "  </tbody>\n",
              "</table>\n",
              "</div>"
            ],
            "text/plain": [
              "     X1     X2     X3      X4   X5  X6   X7  X8     Y1     Y2\n",
              "0  0.98  514.5  294.0  110.25  7.0   2  0.0   0  15.55  21.33\n",
              "1  0.98  514.5  294.0  110.25  7.0   3  0.0   0  15.55  21.33\n",
              "2  0.98  514.5  294.0  110.25  7.0   4  0.0   0  15.55  21.33\n",
              "3  0.98  514.5  294.0  110.25  7.0   5  0.0   0  15.55  21.33\n",
              "4  0.90  563.5  318.5  122.50  7.0   2  0.0   0  20.84  28.28"
            ]
          },
          "metadata": {
            "tags": []
          },
          "execution_count": 3
        }
      ]
    },
    {
      "cell_type": "code",
      "metadata": {
        "colab_type": "code",
        "id": "Q7Taq3Qynqpn",
        "scrolled": true,
        "colab": {
          "base_uri": "https://localhost:8080/",
          "height": 312
        },
        "outputId": "93e64805-53c2-47dc-c206-cc5b742c2d74"
      },
      "source": [
        "df.info()"
      ],
      "execution_count": null,
      "outputs": [
        {
          "output_type": "stream",
          "text": [
            "<class 'pandas.core.frame.DataFrame'>\n",
            "RangeIndex: 768 entries, 0 to 767\n",
            "Data columns (total 10 columns):\n",
            " #   Column  Non-Null Count  Dtype  \n",
            "---  ------  --------------  -----  \n",
            " 0   X1      768 non-null    float64\n",
            " 1   X2      768 non-null    float64\n",
            " 2   X3      768 non-null    float64\n",
            " 3   X4      768 non-null    float64\n",
            " 4   X5      768 non-null    float64\n",
            " 5   X6      768 non-null    int64  \n",
            " 6   X7      768 non-null    float64\n",
            " 7   X8      768 non-null    int64  \n",
            " 8   Y1      768 non-null    float64\n",
            " 9   Y2      768 non-null    float64\n",
            "dtypes: float64(8), int64(2)\n",
            "memory usage: 60.1 KB\n"
          ],
          "name": "stdout"
        }
      ]
    },
    {
      "cell_type": "code",
      "metadata": {
        "colab_type": "code",
        "id": "p7DtRTUmnqpt",
        "colab": {
          "base_uri": "https://localhost:8080/",
          "height": 34
        },
        "outputId": "1be81eff-e93e-43e4-ea4a-a46ebdf39c72"
      },
      "source": [
        "df.shape"
      ],
      "execution_count": null,
      "outputs": [
        {
          "output_type": "execute_result",
          "data": {
            "text/plain": [
              "(768, 10)"
            ]
          },
          "metadata": {
            "tags": []
          },
          "execution_count": 5
        }
      ]
    },
    {
      "cell_type": "code",
      "metadata": {
        "colab_type": "code",
        "id": "w3YXvTMrnqpv",
        "colab": {
          "base_uri": "https://localhost:8080/",
          "height": 208
        },
        "outputId": "36bffa42-1e36-417c-e439-bba5123f4757"
      },
      "source": [
        "# checck to see if there is any missing values\n",
        "null_v = df.isnull().sum()\n",
        "print(null_v)"
      ],
      "execution_count": null,
      "outputs": [
        {
          "output_type": "stream",
          "text": [
            "X1    0\n",
            "X2    0\n",
            "X3    0\n",
            "X4    0\n",
            "X5    0\n",
            "X6    0\n",
            "X7    0\n",
            "X8    0\n",
            "Y1    0\n",
            "Y2    0\n",
            "dtype: int64\n"
          ],
          "name": "stdout"
        }
      ]
    },
    {
      "cell_type": "code",
      "metadata": {
        "colab_type": "code",
        "id": "CEqLyZxYnqqB",
        "colab": {}
      },
      "source": [
        "#dealing with categorical value;encoding the levels of categorical features into numeric values\n",
        "from sklearn import preprocessing\n",
        "le = preprocessing.LabelEncoder()\n",
        "df.X6=le.fit_transform(df.X6)\n"
      ],
      "execution_count": null,
      "outputs": []
    },
    {
      "cell_type": "code",
      "metadata": {
        "colab_type": "code",
        "id": "T48ZqRpWnqqG",
        "colab": {
          "base_uri": "https://localhost:8080/",
          "height": 300
        },
        "outputId": "8ebd9e9e-b8cd-48e0-dbf9-e70693efd038"
      },
      "source": [
        "df.describe()"
      ],
      "execution_count": null,
      "outputs": [
        {
          "output_type": "execute_result",
          "data": {
            "text/html": [
              "<div>\n",
              "<style scoped>\n",
              "    .dataframe tbody tr th:only-of-type {\n",
              "        vertical-align: middle;\n",
              "    }\n",
              "\n",
              "    .dataframe tbody tr th {\n",
              "        vertical-align: top;\n",
              "    }\n",
              "\n",
              "    .dataframe thead th {\n",
              "        text-align: right;\n",
              "    }\n",
              "</style>\n",
              "<table border=\"1\" class=\"dataframe\">\n",
              "  <thead>\n",
              "    <tr style=\"text-align: right;\">\n",
              "      <th></th>\n",
              "      <th>X1</th>\n",
              "      <th>X2</th>\n",
              "      <th>X3</th>\n",
              "      <th>X4</th>\n",
              "      <th>X5</th>\n",
              "      <th>X6</th>\n",
              "      <th>X7</th>\n",
              "      <th>X8</th>\n",
              "      <th>Y1</th>\n",
              "      <th>Y2</th>\n",
              "    </tr>\n",
              "  </thead>\n",
              "  <tbody>\n",
              "    <tr>\n",
              "      <th>count</th>\n",
              "      <td>768.000000</td>\n",
              "      <td>768.000000</td>\n",
              "      <td>768.000000</td>\n",
              "      <td>768.000000</td>\n",
              "      <td>768.00000</td>\n",
              "      <td>768.000000</td>\n",
              "      <td>768.000000</td>\n",
              "      <td>768.00000</td>\n",
              "      <td>768.000000</td>\n",
              "      <td>768.000000</td>\n",
              "    </tr>\n",
              "    <tr>\n",
              "      <th>mean</th>\n",
              "      <td>0.764167</td>\n",
              "      <td>671.708333</td>\n",
              "      <td>318.500000</td>\n",
              "      <td>176.604167</td>\n",
              "      <td>5.25000</td>\n",
              "      <td>1.500000</td>\n",
              "      <td>0.234375</td>\n",
              "      <td>2.81250</td>\n",
              "      <td>22.307195</td>\n",
              "      <td>24.587760</td>\n",
              "    </tr>\n",
              "    <tr>\n",
              "      <th>std</th>\n",
              "      <td>0.105777</td>\n",
              "      <td>88.086116</td>\n",
              "      <td>43.626481</td>\n",
              "      <td>45.165950</td>\n",
              "      <td>1.75114</td>\n",
              "      <td>1.118763</td>\n",
              "      <td>0.133221</td>\n",
              "      <td>1.55096</td>\n",
              "      <td>10.090204</td>\n",
              "      <td>9.513306</td>\n",
              "    </tr>\n",
              "    <tr>\n",
              "      <th>min</th>\n",
              "      <td>0.620000</td>\n",
              "      <td>514.500000</td>\n",
              "      <td>245.000000</td>\n",
              "      <td>110.250000</td>\n",
              "      <td>3.50000</td>\n",
              "      <td>0.000000</td>\n",
              "      <td>0.000000</td>\n",
              "      <td>0.00000</td>\n",
              "      <td>6.010000</td>\n",
              "      <td>10.900000</td>\n",
              "    </tr>\n",
              "    <tr>\n",
              "      <th>25%</th>\n",
              "      <td>0.682500</td>\n",
              "      <td>606.375000</td>\n",
              "      <td>294.000000</td>\n",
              "      <td>140.875000</td>\n",
              "      <td>3.50000</td>\n",
              "      <td>0.750000</td>\n",
              "      <td>0.100000</td>\n",
              "      <td>1.75000</td>\n",
              "      <td>12.992500</td>\n",
              "      <td>15.620000</td>\n",
              "    </tr>\n",
              "    <tr>\n",
              "      <th>50%</th>\n",
              "      <td>0.750000</td>\n",
              "      <td>673.750000</td>\n",
              "      <td>318.500000</td>\n",
              "      <td>183.750000</td>\n",
              "      <td>5.25000</td>\n",
              "      <td>1.500000</td>\n",
              "      <td>0.250000</td>\n",
              "      <td>3.00000</td>\n",
              "      <td>18.950000</td>\n",
              "      <td>22.080000</td>\n",
              "    </tr>\n",
              "    <tr>\n",
              "      <th>75%</th>\n",
              "      <td>0.830000</td>\n",
              "      <td>741.125000</td>\n",
              "      <td>343.000000</td>\n",
              "      <td>220.500000</td>\n",
              "      <td>7.00000</td>\n",
              "      <td>2.250000</td>\n",
              "      <td>0.400000</td>\n",
              "      <td>4.00000</td>\n",
              "      <td>31.667500</td>\n",
              "      <td>33.132500</td>\n",
              "    </tr>\n",
              "    <tr>\n",
              "      <th>max</th>\n",
              "      <td>0.980000</td>\n",
              "      <td>808.500000</td>\n",
              "      <td>416.500000</td>\n",
              "      <td>220.500000</td>\n",
              "      <td>7.00000</td>\n",
              "      <td>3.000000</td>\n",
              "      <td>0.400000</td>\n",
              "      <td>5.00000</td>\n",
              "      <td>43.100000</td>\n",
              "      <td>48.030000</td>\n",
              "    </tr>\n",
              "  </tbody>\n",
              "</table>\n",
              "</div>"
            ],
            "text/plain": [
              "               X1          X2          X3  ...         X8          Y1          Y2\n",
              "count  768.000000  768.000000  768.000000  ...  768.00000  768.000000  768.000000\n",
              "mean     0.764167  671.708333  318.500000  ...    2.81250   22.307195   24.587760\n",
              "std      0.105777   88.086116   43.626481  ...    1.55096   10.090204    9.513306\n",
              "min      0.620000  514.500000  245.000000  ...    0.00000    6.010000   10.900000\n",
              "25%      0.682500  606.375000  294.000000  ...    1.75000   12.992500   15.620000\n",
              "50%      0.750000  673.750000  318.500000  ...    3.00000   18.950000   22.080000\n",
              "75%      0.830000  741.125000  343.000000  ...    4.00000   31.667500   33.132500\n",
              "max      0.980000  808.500000  416.500000  ...    5.00000   43.100000   48.030000\n",
              "\n",
              "[8 rows x 10 columns]"
            ]
          },
          "metadata": {
            "tags": []
          },
          "execution_count": 8
        }
      ]
    },
    {
      "cell_type": "code",
      "metadata": {
        "colab_type": "code",
        "id": "U6uFuk27nqqM",
        "colab": {
          "base_uri": "https://localhost:8080/",
          "height": 34
        },
        "outputId": "9406e562-70a8-4690-a9e9-996e14972c2c"
      },
      "source": [
        "#Definig Y\n",
        "y = df.Y2\n",
        "y.head()\n",
        "y.shape"
      ],
      "execution_count": null,
      "outputs": [
        {
          "output_type": "execute_result",
          "data": {
            "text/plain": [
              "(768,)"
            ]
          },
          "metadata": {
            "tags": []
          },
          "execution_count": 9
        }
      ]
    },
    {
      "cell_type": "code",
      "metadata": {
        "colab_type": "code",
        "id": "V3GGtjl6nqqO",
        "colab": {
          "base_uri": "https://localhost:8080/",
          "height": 206
        },
        "outputId": "d6cb84a7-821e-45c4-bc1a-de07608bc8d8"
      },
      "source": [
        "#Defining x\n",
        "x = df.iloc[:,0:-2]\n",
        "x.head()"
      ],
      "execution_count": null,
      "outputs": [
        {
          "output_type": "execute_result",
          "data": {
            "text/html": [
              "<div>\n",
              "<style scoped>\n",
              "    .dataframe tbody tr th:only-of-type {\n",
              "        vertical-align: middle;\n",
              "    }\n",
              "\n",
              "    .dataframe tbody tr th {\n",
              "        vertical-align: top;\n",
              "    }\n",
              "\n",
              "    .dataframe thead th {\n",
              "        text-align: right;\n",
              "    }\n",
              "</style>\n",
              "<table border=\"1\" class=\"dataframe\">\n",
              "  <thead>\n",
              "    <tr style=\"text-align: right;\">\n",
              "      <th></th>\n",
              "      <th>X1</th>\n",
              "      <th>X2</th>\n",
              "      <th>X3</th>\n",
              "      <th>X4</th>\n",
              "      <th>X5</th>\n",
              "      <th>X6</th>\n",
              "      <th>X7</th>\n",
              "      <th>X8</th>\n",
              "    </tr>\n",
              "  </thead>\n",
              "  <tbody>\n",
              "    <tr>\n",
              "      <th>0</th>\n",
              "      <td>0.98</td>\n",
              "      <td>514.5</td>\n",
              "      <td>294.0</td>\n",
              "      <td>110.25</td>\n",
              "      <td>7.0</td>\n",
              "      <td>0</td>\n",
              "      <td>0.0</td>\n",
              "      <td>0</td>\n",
              "    </tr>\n",
              "    <tr>\n",
              "      <th>1</th>\n",
              "      <td>0.98</td>\n",
              "      <td>514.5</td>\n",
              "      <td>294.0</td>\n",
              "      <td>110.25</td>\n",
              "      <td>7.0</td>\n",
              "      <td>1</td>\n",
              "      <td>0.0</td>\n",
              "      <td>0</td>\n",
              "    </tr>\n",
              "    <tr>\n",
              "      <th>2</th>\n",
              "      <td>0.98</td>\n",
              "      <td>514.5</td>\n",
              "      <td>294.0</td>\n",
              "      <td>110.25</td>\n",
              "      <td>7.0</td>\n",
              "      <td>2</td>\n",
              "      <td>0.0</td>\n",
              "      <td>0</td>\n",
              "    </tr>\n",
              "    <tr>\n",
              "      <th>3</th>\n",
              "      <td>0.98</td>\n",
              "      <td>514.5</td>\n",
              "      <td>294.0</td>\n",
              "      <td>110.25</td>\n",
              "      <td>7.0</td>\n",
              "      <td>3</td>\n",
              "      <td>0.0</td>\n",
              "      <td>0</td>\n",
              "    </tr>\n",
              "    <tr>\n",
              "      <th>4</th>\n",
              "      <td>0.90</td>\n",
              "      <td>563.5</td>\n",
              "      <td>318.5</td>\n",
              "      <td>122.50</td>\n",
              "      <td>7.0</td>\n",
              "      <td>0</td>\n",
              "      <td>0.0</td>\n",
              "      <td>0</td>\n",
              "    </tr>\n",
              "  </tbody>\n",
              "</table>\n",
              "</div>"
            ],
            "text/plain": [
              "     X1     X2     X3      X4   X5  X6   X7  X8\n",
              "0  0.98  514.5  294.0  110.25  7.0   0  0.0   0\n",
              "1  0.98  514.5  294.0  110.25  7.0   1  0.0   0\n",
              "2  0.98  514.5  294.0  110.25  7.0   2  0.0   0\n",
              "3  0.98  514.5  294.0  110.25  7.0   3  0.0   0\n",
              "4  0.90  563.5  318.5  122.50  7.0   0  0.0   0"
            ]
          },
          "metadata": {
            "tags": []
          },
          "execution_count": 10
        }
      ]
    },
    {
      "cell_type": "code",
      "metadata": {
        "id": "V-SQ7ewuDIfd",
        "colab_type": "code",
        "colab": {}
      },
      "source": [
        ""
      ],
      "execution_count": null,
      "outputs": []
    },
    {
      "cell_type": "code",
      "metadata": {
        "id": "2vsnsc2mDIfh",
        "colab_type": "code",
        "colab": {
          "base_uri": "https://localhost:8080/",
          "height": 282
        },
        "outputId": "f39b5b85-d1f9-4734-ba0b-83b29608efcf"
      },
      "source": [
        "#Show the distribution of outcomes\n",
        "plt.hist(y)\n",
        "plt.show"
      ],
      "execution_count": null,
      "outputs": [
        {
          "output_type": "execute_result",
          "data": {
            "text/plain": [
              "<function matplotlib.pyplot.show>"
            ]
          },
          "metadata": {
            "tags": []
          },
          "execution_count": 12
        },
        {
          "output_type": "display_data",
          "data": {
            "image/png": "[encoded data removed]",
            "text/plain": [
              "<Figure size 432x288 with 1 Axes>"
            ]
          },
          "metadata": {
            "tags": [],
            "needs_background": "light"
          }
        }
      ]
    },
    {
      "cell_type": "code",
      "metadata": {
        "id": "Lz1tb9alDIfp",
        "colab_type": "code",
        "colab": {
          "base_uri": "https://localhost:8080/",
          "height": 282
        },
        "outputId": "006dd75b-1015-46d6-c699-98fc303e274a"
      },
      "source": [
        "df_sub = df.iloc[:,:4]\n",
        "df_sub.plot.box()"
      ],
      "execution_count": null,
      "outputs": [
        {
          "output_type": "execute_result",
          "data": {
            "text/plain": [
              "<matplotlib.axes._subplots.AxesSubplot at 0x7f08c373b550>"
            ]
          },
          "metadata": {
            "tags": []
          },
          "execution_count": 13
        },
        {
          "output_type": "display_data",
          "data": {
            "image/png": "[encoded data removed]",
            "text/plain": [
              "<Figure size 432x288 with 1 Axes>"
            ]
          },
          "metadata": {
            "tags": [],
            "needs_background": "light"
          }
        }
      ]
    },
    {
      "cell_type": "code",
      "metadata": {
        "id": "hfNOmUgbDIft",
        "colab_type": "code",
        "colab": {
          "base_uri": "https://localhost:8080/",
          "height": 296
        },
        "outputId": "e28d8a60-a166-4980-d584-a0baac30ad76"
      },
      "source": [
        "plt.scatter(x1,y)\n",
        "#plt.scatter(x2,y)\n",
        "plt.xlabel(\"$x$\")\n",
        "plt.ylabel(\"$y$\")\n",
        "plt.show"
      ],
      "execution_count": null,
      "outputs": [
        {
          "output_type": "execute_result",
          "data": {
            "text/plain": [
              "<function matplotlib.pyplot.show>"
            ]
          },
          "metadata": {
            "tags": []
          },
          "execution_count": 14
        },
        {
          "output_type": "display_data",
          "data": {
            "image/png": "[encoded data removed]",
            "text/plain": [
              "<Figure size 432x288 with 1 Axes>"
            ]
          },
          "metadata": {
            "tags": [],
            "needs_background": "light"
          }
        }
      ]
    },
    {
      "cell_type": "code",
      "metadata": {
        "id": "MZCKB_37DIfx",
        "colab_type": "code",
        "colab": {
          "base_uri": "https://localhost:8080/",
          "height": 314
        },
        "outputId": "68462112-1455-403b-bf00-94b096b517b9"
      },
      "source": [
        "plt.plot(x,y,'x')\n",
        "plt.xlabel(\"$x$\")\n",
        "plt.ylabel(\"$y$\")\n",
        "plt.legend()\n",
        "plt.show"
      ],
      "execution_count": null,
      "outputs": [
        {
          "output_type": "stream",
          "text": [
            "No handles with labels found to put in legend.\n"
          ],
          "name": "stderr"
        },
        {
          "output_type": "execute_result",
          "data": {
            "text/plain": [
              "<function matplotlib.pyplot.show>"
            ]
          },
          "metadata": {
            "tags": []
          },
          "execution_count": 15
        },
        {
          "output_type": "display_data",
          "data": {
            "image/png": "[encoded data removed]",
            "text/plain": [
              "<Figure size 432x288 with 1 Axes>"
            ]
          },
          "metadata": {
            "tags": [],
            "needs_background": "light"
          }
        }
      ]
    },
    {
      "cell_type": "markdown",
      "metadata": {
        "id": "05sTzFitDIf2",
        "colab_type": "text"
      },
      "source": [
        "# Linear Regression"
      ]
    },
    {
      "cell_type": "code",
      "metadata": {
        "colab_type": "code",
        "id": "4bfxosiUjyV0",
        "colab": {}
      },
      "source": [
        "from sklearn.linear_model import LinearRegression\n",
        "from sklearn import preprocessing\n",
        "from sklearn.model_selection import train_test_split"
      ],
      "execution_count": null,
      "outputs": []
    },
    {
      "cell_type": "code",
      "metadata": {
        "id": "rSwBZO09DIf7",
        "colab_type": "code",
        "colab": {}
      },
      "source": [
        "X_train, X_test,Y_train, Y_test = train_test_split(x, y, test_size=0.2, random_state= 0)"
      ],
      "execution_count": null,
      "outputs": []
    },
    {
      "cell_type": "code",
      "metadata": {
        "id": "g6tm6d_jDIf_",
        "colab_type": "code",
        "colab": {
          "base_uri": "https://localhost:8080/",
          "height": 34
        },
        "outputId": "a2ed92a0-ad9d-422e-ef00-8f49e28e0774"
      },
      "source": [
        "X_train.shape, Y_train.shape, X_test.shape, Y_test. shape"
      ],
      "execution_count": null,
      "outputs": [
        {
          "output_type": "execute_result",
          "data": {
            "text/plain": [
              "((614, 8), (614,), (154, 8), (154,))"
            ]
          },
          "metadata": {
            "tags": []
          },
          "execution_count": 18
        }
      ]
    },
    {
      "cell_type": "code",
      "metadata": {
        "id": "4JWWdrOADIgD",
        "colab_type": "code",
        "colab": {}
      },
      "source": [
        "from sklearn.metrics import mean_squared_error, r2_score"
      ],
      "execution_count": null,
      "outputs": []
    },
    {
      "cell_type": "code",
      "metadata": {
        "id": "YlmnzRldDIgH",
        "colab_type": "code",
        "colab": {
          "base_uri": "https://localhost:8080/",
          "height": 34
        },
        "outputId": "721d77ec-3386-4956-dfe1-ebf221593825"
      },
      "source": [
        "reg = linear_model.LinearRegression()\n",
        "reg.fit(X_train,Y_train)"
      ],
      "execution_count": null,
      "outputs": [
        {
          "output_type": "execute_result",
          "data": {
            "text/plain": [
              "LinearRegression(copy_X=True, fit_intercept=True, n_jobs=None, normalize=False)"
            ]
          },
          "metadata": {
            "tags": []
          },
          "execution_count": 20
        }
      ]
    },
    {
      "cell_type": "code",
      "metadata": {
        "id": "dAa8-uU5DIgL",
        "colab_type": "code",
        "colab": {
          "base_uri": "https://localhost:8080/",
          "height": 52
        },
        "outputId": "4420cb9c-3801-4181-a8a9-0b2b5bb7e2ec"
      },
      "source": [
        "reg.coef_"
      ],
      "execution_count": null,
      "outputs": [
        {
          "output_type": "execute_result",
          "data": {
            "text/plain": [
              "array([-6.48811200e+01, -6.36253733e+10,  6.36253733e+10,  1.27250747e+11,\n",
              "        4.31770885e+00,  1.43550738e-01,  1.50685947e+01,  2.37136101e-02])"
            ]
          },
          "metadata": {
            "tags": []
          },
          "execution_count": 21
        }
      ]
    },
    {
      "cell_type": "code",
      "metadata": {
        "id": "qa58-nf3DIgO",
        "colab_type": "code",
        "colab": {
          "base_uri": "https://localhost:8080/",
          "height": 34
        },
        "outputId": "fdc4f9e5-6640-45ec-d1f0-41a72721fdeb"
      },
      "source": [
        "reg.intercept_"
      ],
      "execution_count": null,
      "outputs": [
        {
          "output_type": "execute_result",
          "data": {
            "text/plain": [
              "87.53358493170352"
            ]
          },
          "metadata": {
            "tags": []
          },
          "execution_count": 22
        }
      ]
    },
    {
      "cell_type": "code",
      "metadata": {
        "id": "BFpuQLA-DIgR",
        "colab_type": "code",
        "colab": {
          "base_uri": "https://localhost:8080/",
          "height": 34
        },
        "outputId": "3ea9df9f-1e0b-448a-c33c-a38073076c57"
      },
      "source": [
        "reg.score(X_test,Y_test)"
      ],
      "execution_count": null,
      "outputs": [
        {
          "output_type": "execute_result",
          "data": {
            "text/plain": [
              "0.886253964672158"
            ]
          },
          "metadata": {
            "tags": []
          },
          "execution_count": 23
        }
      ]
    },
    {
      "cell_type": "code",
      "metadata": {
        "id": "Cxk6OX1DDIgW",
        "colab_type": "code",
        "colab": {}
      },
      "source": [
        "y_predict = reg.predict(X_test)"
      ],
      "execution_count": null,
      "outputs": []
    },
    {
      "cell_type": "code",
      "metadata": {
        "id": "C1mJ3OKeDIgb",
        "colab_type": "code",
        "colab": {
          "base_uri": "https://localhost:8080/",
          "height": 34
        },
        "outputId": "76f2ba65-9b3a-4700-ce21-e04bb693908a"
      },
      "source": [
        "mean_squared_error(Y_test, y_predict)"
      ],
      "execution_count": null,
      "outputs": [
        {
          "output_type": "execute_result",
          "data": {
            "text/plain": [
              "10.698450148100239"
            ]
          },
          "metadata": {
            "tags": []
          },
          "execution_count": 25
        }
      ]
    },
    {
      "cell_type": "code",
      "metadata": {
        "colab_type": "code",
        "id": "PbNiOoLsnqqR",
        "colab": {
          "base_uri": "https://localhost:8080/",
          "height": 555
        },
        "outputId": "4405aec7-da30-4f36-e81c-4a1807145714"
      },
      "source": [
        "y_predict"
      ],
      "execution_count": null,
      "outputs": [
        {
          "output_type": "execute_result",
          "data": {
            "text/plain": [
              "array([19.2041016 , 12.26429782, 32.24835306, 29.77121086, 32.0772491 ,\n",
              "       30.21123578, 29.98422425, 35.55897448, 32.04601985, 31.08582329,\n",
              "       11.91801499, 36.88876859, 14.87450115, 36.76893146, 36.84007229,\n",
              "       29.66589352, 13.49601529, 30.18752217, 18.08275248, 15.44548941,\n",
              "       15.87740615, 32.10096271, 13.06536308, 34.36509152, 10.85356187,\n",
              "       17.70577861, 15.82246328, 16.56891558, 13.44858807, 34.43623235,\n",
              "       15.55907541, 17.08736313, 36.64909434, 17.06364952, 29.86438712,\n",
              "       37.61536763, 16.52148836, 37.66279485, 20.27190085, 13.37603466,\n",
              "       14.68352319, 34.652193  , 18.3773696 , 33.7530511 , 27.77707813,\n",
              "       27.60409792, 13.54344251, 16.16450762, 30.11511227, 34.33002266,\n",
              "       32.24451345, 15.63148532, 35.80944425, 19.10797808, 37.63908124,\n",
              "       12.38413495, 26.02609762, 33.70562388, 34.84317096, 18.3049597 ,\n",
              "       19.34765234, 15.30193867, 32.26822706, 12.33543865, 15.4217758 ,\n",
              "       14.26119916, 34.79574374, 13.52099343, 29.68960713, 34.81945735,\n",
              "       31.98112559, 13.37617817, 31.25308764, 20.15206373, 15.40840078,\n",
              "       33.72933749, 32.0048392 , 34.86688457, 32.02855281, 17.53851427,\n",
              "       34.73181419, 30.09139866, 14.63609597, 17.96291535, 36.06076752,\n",
              "       33.58578675, 27.79507588, 30.83761711, 15.39181107, 20.29561446,\n",
              "       16.78487623, 29.83315786, 14.35732268, 27.70022144, 39.82822962,\n",
              "       19.84124864, 35.86978956, 17.970431  , 13.39262437, 37.90246911,\n",
              "       32.41561741, 31.06210968, 28.06417961, 35.30765121, 12.47898939,\n",
              "       32.06973346, 36.69652156, 17.25462748, 15.27822506, 26.16964836,\n",
              "       19.52204058, 35.66589352, 34.1390447 , 15.38468717, 15.7563045 ,\n",
              "       15.43211439, 15.01805189, 32.46304463, 29.54605639, 39.92308406,\n",
              "       34.51585354, 14.52458702, 15.56532654, 34.58826345, 15.46920302,\n",
              "       40.18647192, 16.83230345, 30.00793786, 14.28491277, 33.92308406,\n",
              "       35.73830342, 27.5566707 , 32.43933102, 14.4047499 , 38.09344707,\n",
              "       13.10552289, 36.03705391, 27.41311996, 35.54605639, 17.72949222,\n",
              "       17.59754915, 19.42718614, 29.82801079, 13.01793586, 32.08108871,\n",
              "       20.31932807, 29.75686996, 37.85504189, 15.73385541, 17.65210027,\n",
              "       30.05536508, 14.85078754, 18.10646609, 17.60467305])"
            ]
          },
          "metadata": {
            "tags": []
          },
          "execution_count": 26
        }
      ]
    },
    {
      "cell_type": "code",
      "metadata": {
        "id": "sXLGwUveDIgj",
        "colab_type": "code",
        "colab": {}
      },
      "source": [
        "dw = np.array(y_predict).tolist()"
      ],
      "execution_count": null,
      "outputs": []
    },
    {
      "cell_type": "code",
      "metadata": {
        "id": "sAKfatMgDIgn",
        "colab_type": "code",
        "colab": {}
      },
      "source": [
        ""
      ],
      "execution_count": null,
      "outputs": []
    },
    {
      "cell_type": "code",
      "metadata": {
        "id": "csH58v0qDIgq",
        "colab_type": "code",
        "colab": {
          "base_uri": "https://localhost:8080/",
          "height": 1000
        },
        "outputId": "a5655bef-1ee6-4f9f-dd22-4987e9c0c6ac"
      },
      "source": [
        "dw"
      ],
      "execution_count": null,
      "outputs": [
        {
          "output_type": "execute_result",
          "data": {
            "text/plain": [
              "[19.204101598554985,\n",
              " 12.26429782067251,\n",
              " 32.248353057585774,\n",
              " 29.771210856573887,\n",
              " 32.07724910295917,\n",
              " 30.211235783107696,\n",
              " 29.984224248100944,\n",
              " 35.55897447533323,\n",
              " 32.04601984599692,\n",
              " 31.08582329009485,\n",
              " 11.918014994660624,\n",
              " 36.88876859072013,\n",
              " 14.874501151077567,\n",
              " 36.76893146309419,\n",
              " 36.84007229349925,\n",
              " 29.665893515616773,\n",
              " 13.49601529356849,\n",
              " 30.187522172972677,\n",
              " 18.082752481457717,\n",
              " 15.445489410665758,\n",
              " 15.877406145800776,\n",
              " 32.10096271309419,\n",
              " 13.065363080285607,\n",
              " 34.36509152257902,\n",
              " 10.853561869660624,\n",
              " 17.705778613419966,\n",
              " 15.822463278703509,\n",
              " 16.56891558106406,\n",
              " 13.448588073298453,\n",
              " 34.43623235298408,\n",
              " 15.559075413316606,\n",
              " 17.087363133561738,\n",
              " 36.64909433546825,\n",
              " 17.06364952342672,\n",
              " 29.864387120475,\n",
              " 37.61536763271404,\n",
              " 16.521488360794024,\n",
              " 37.66279485298408,\n",
              " 20.27190085380687,\n",
              " 13.37603465637774,\n",
              " 14.683523193046568,\n",
              " 34.652192998100944,\n",
              " 18.37736960380687,\n",
              " 33.75305109599692,\n",
              " 27.777078131051965,\n",
              " 27.604097917720793,\n",
              " 13.543442513838528,\n",
              " 16.1645076213227,\n",
              " 30.115112265616773,\n",
              " 34.33002265888615,\n",
              " 32.24451345085515,\n",
              " 15.63148532067251,\n",
              " 35.809444253377734,\n",
              " 19.10797808106406,\n",
              " 37.63908124284906,\n",
              " 12.384134948298453,\n",
              " 26.026097618812926,\n",
              " 33.705623875726886,\n",
              " 34.84317095613194,\n",
              " 18.304959696450965,\n",
              " 19.347652336315946,\n",
              " 15.301938672904797,\n",
              " 32.26822706099017,\n",
              " 12.335438651077567,\n",
              " 15.421775800530739,\n",
              " 14.261199158039815,\n",
              " 34.795743735861905,\n",
              " 13.520993425555645,\n",
              " 29.68960712575179,\n",
              " 34.81945734599692,\n",
              " 31.98112558546825,\n",
              " 13.376178165942548,\n",
              " 31.25308763799083,\n",
              " 20.152063726180927,\n",
              " 15.408400778703509,\n",
              " 33.729337485861905,\n",
              " 32.00483919560327,\n",
              " 34.86688456626696,\n",
              " 32.028552805738286,\n",
              " 17.538514265523986,\n",
              " 34.73181418861611,\n",
              " 30.091398655481754,\n",
              " 14.63609597277653,\n",
              " 17.962915353831775,\n",
              " 36.06076751902117,\n",
              " 33.585786748100944,\n",
              " 27.79507587575179,\n",
              " 30.837617106573887,\n",
              " 15.391811065420626,\n",
              " 20.295614463941888,\n",
              " 16.784876226180927,\n",
              " 29.833157863512753,\n",
              " 14.357322675530739,\n",
              " 27.700221435211716,\n",
              " 39.82822961519821,\n",
              " 19.841248640523986,\n",
              " 35.86978956099017,\n",
              " 17.970431000659005,\n",
              " 13.392624369660624,\n",
              " 37.90246910823596,\n",
              " 32.415617405481754,\n",
              " 31.062109679959832,\n",
              " 28.064179606573887,\n",
              " 35.307651209689794,\n",
              " 12.478989388838528,\n",
              " 32.06973345613194,\n",
              " 36.696521555738286,\n",
              " 17.254627481457717,\n",
              " 15.278225062769778,\n",
              " 26.169648356573887,\n",
              " 19.52204058106406,\n",
              " 35.66589351561677,\n",
              " 34.13904470085515,\n",
              " 15.38468716856849,\n",
              " 15.756304496322699,\n",
              " 15.432114388838528,\n",
              " 15.018051888838528,\n",
              " 32.46304462575179,\n",
              " 29.54605638799083,\n",
              " 39.923084055738286,\n",
              " 34.51585354349925,\n",
              " 14.524587023426719,\n",
              " 15.5653265382917,\n",
              " 34.58826345085515,\n",
              " 15.469203020800776,\n",
              " 40.18647192112519,\n",
              " 16.832303446450965,\n",
              " 30.007937858235962,\n",
              " 14.284912768174834,\n",
              " 33.923084055738286,\n",
              " 35.73830342297268,\n",
              " 27.556670697450755,\n",
              " 32.43933101561677,\n",
              " 14.404749895800776,\n",
              " 38.09344706626696,\n",
              " 13.105522894138701,\n",
              " 36.03705390888615,\n",
              " 27.413119959689794,\n",
              " 35.54605638799083,\n",
              " 17.729492223554985,\n",
              " 17.59754915105266,\n",
              " 19.427186140523986,\n",
              " 29.82801079009485,\n",
              " 13.01793586001557,\n",
              " 32.081088709689794,\n",
              " 20.319328074076907,\n",
              " 29.756869959689794,\n",
              " 37.855041887965925,\n",
              " 15.733855408039815,\n",
              " 17.652100268174834,\n",
              " 30.055365078506,\n",
              " 14.850787540942548,\n",
              " 18.106466091592736,\n",
              " 17.604673047904797]"
            ]
          },
          "metadata": {
            "tags": []
          },
          "execution_count": 28
        }
      ]
    },
    {
      "cell_type": "code",
      "metadata": {
        "id": "EzzGRY51DIgt",
        "colab_type": "code",
        "colab": {
          "base_uri": "https://localhost:8080/",
          "height": 225
        },
        "outputId": "b93d2bca-6bc0-4629-922b-925b550f3756"
      },
      "source": [
        "Y_test"
      ],
      "execution_count": null,
      "outputs": [
        {
          "output_type": "execute_result",
          "data": {
            "text/plain": [
              "661    17.63\n",
              "122    13.57\n",
              "113    34.62\n",
              "14     21.16\n",
              "529    33.34\n",
              "       ...  \n",
              "476    15.41\n",
              "482    30.00\n",
              "230    15.00\n",
              "527    14.75\n",
              "380    15.32\n",
              "Name: Y2, Length: 154, dtype: float64"
            ]
          },
          "metadata": {
            "tags": []
          },
          "execution_count": 29
        }
      ]
    },
    {
      "cell_type": "code",
      "metadata": {
        "colab_type": "code",
        "id": "MGUQ7oFYmh7P",
        "colab": {
          "base_uri": "https://localhost:8080/",
          "height": 72
        },
        "outputId": "d56a06d1-a387-47f8-f524-9a41b8a6baa9"
      },
      "source": [
        "import statsmodels.api as sm\n",
        "from scipy import stats"
      ],
      "execution_count": null,
      "outputs": [
        {
          "output_type": "stream",
          "text": [
            "/usr/local/lib/python3.6/dist-packages/statsmodels/tools/_testing.py:19: FutureWarning: pandas.util.testing is deprecated. Use the functions in the public API at pandas.testing instead.\n",
            "  import pandas.util.testing as tm\n"
          ],
          "name": "stderr"
        }
      ]
    },
    {
      "cell_type": "code",
      "metadata": {
        "colab_type": "code",
        "id": "8nLBbZzps7-B",
        "colab": {
          "base_uri": "https://localhost:8080/",
          "height": 199
        },
        "outputId": "f595aca5-45b3-444f-ae9c-07958c1aed80"
      },
      "source": [
        "X2 = sm.add_constant(X_train)\n",
        "est = sm.OLS(Y_train, X2)\n",
        "est2 = est.fitprint(est2.summary())"
      ],
      "execution_count": null,
      "outputs": [
        {
          "output_type": "error",
          "ename": "AttributeError",
          "evalue": "ignored",
          "traceback": [
            "\u001b[0;31m---------------------------------------------------------------------------\u001b[0m",
            "\u001b[0;31mAttributeError\u001b[0m                            Traceback (most recent call last)",
            "\u001b[0;32m<ipython-input-33-3c58441d0083>\u001b[0m in \u001b[0;36m<module>\u001b[0;34m()\u001b[0m\n\u001b[1;32m      1\u001b[0m \u001b[0mX2\u001b[0m \u001b[0;34m=\u001b[0m \u001b[0msm\u001b[0m\u001b[0;34m.\u001b[0m\u001b[0madd_constant\u001b[0m\u001b[0;34m(\u001b[0m\u001b[0mX_train\u001b[0m\u001b[0;34m)\u001b[0m\u001b[0;34m\u001b[0m\u001b[0;34m\u001b[0m\u001b[0m\n\u001b[1;32m      2\u001b[0m \u001b[0mest\u001b[0m \u001b[0;34m=\u001b[0m \u001b[0msm\u001b[0m\u001b[0;34m.\u001b[0m\u001b[0mOLS\u001b[0m\u001b[0;34m(\u001b[0m\u001b[0mY_train\u001b[0m\u001b[0;34m,\u001b[0m \u001b[0mX2\u001b[0m\u001b[0;34m)\u001b[0m\u001b[0;34m\u001b[0m\u001b[0;34m\u001b[0m\u001b[0m\n\u001b[0;32m----> 3\u001b[0;31m \u001b[0mest2\u001b[0m \u001b[0;34m=\u001b[0m \u001b[0mest\u001b[0m\u001b[0;34m.\u001b[0m\u001b[0mfitprint\u001b[0m\u001b[0;34m(\u001b[0m\u001b[0mest2\u001b[0m\u001b[0;34m.\u001b[0m\u001b[0msummary\u001b[0m\u001b[0;34m(\u001b[0m\u001b[0;34m)\u001b[0m\u001b[0;34m)\u001b[0m\u001b[0;34m\u001b[0m\u001b[0;34m\u001b[0m\u001b[0m\n\u001b[0m",
            "\u001b[0;31mAttributeError\u001b[0m: 'OLS' object has no attribute 'fitprint'"
          ]
        }
      ]
    },
    {
      "cell_type": "code",
      "metadata": {
        "colab_type": "code",
        "id": "ryX6C0R6nqqU",
        "colab": {
          "base_uri": "https://localhost:8080/",
          "height": 299
        },
        "outputId": "3db9406e-f73c-4026-f1d2-9a3409978c42"
      },
      "source": [
        "#plt.plot(x, y, 'x', markeredgewidth=2, label='Observations')\n",
        "#plt.style.use(\"ggplot\")\n",
        "plt.plot(Y_test, dw,'o',label='LS Prediction (Linear Basis)')\n",
        "plt.xlabel(\"$Y-test$\")\n",
        "plt.ylabel(\"$y_Predict$\")\n",
        "plt.legend()\n",
        "#Adding the slope line\n",
        "m, b = np.polyfit(Y_test, dw, 1)\n",
        "plt.plot(Y_test, m*Y_test + b)\n",
        "plt.show"
      ],
      "execution_count": null,
      "outputs": [
        {
          "output_type": "execute_result",
          "data": {
            "text/plain": [
              "<function matplotlib.pyplot.show>"
            ]
          },
          "metadata": {
            "tags": []
          },
          "execution_count": 34
        },
        {
          "output_type": "display_data",
          "data": {
            "image/png": "[encoded data removed]",
            "text/plain": [
              "<Figure size 432x288 with 1 Axes>"
            ]
          },
          "metadata": {
            "tags": [],
            "needs_background": "light"
          }
        }
      ]
    },
    {
      "cell_type": "code",
      "metadata": {
        "colab_type": "code",
        "id": "lqLKkUurnqqZ",
        "colab": {
          "base_uri": "https://localhost:8080/",
          "height": 86
        },
        "outputId": "0fe721a2-8470-4caf-8e1f-6bbdc17cd9ab"
      },
      "source": [
        "y_predict[:20]"
      ],
      "execution_count": null,
      "outputs": [
        {
          "output_type": "execute_result",
          "data": {
            "text/plain": [
              "array([19.2041016 , 12.26429782, 32.24835306, 29.77121086, 32.0772491 ,\n",
              "       30.21123578, 29.98422425, 35.55897448, 32.04601985, 31.08582329,\n",
              "       11.91801499, 36.88876859, 14.87450115, 36.76893146, 36.84007229,\n",
              "       29.66589352, 13.49601529, 30.18752217, 18.08275248, 15.44548941])"
            ]
          },
          "metadata": {
            "tags": []
          },
          "execution_count": 35
        }
      ]
    },
    {
      "cell_type": "code",
      "metadata": {
        "id": "OCH4Hyk7DIhA",
        "colab_type": "code",
        "colab": {
          "base_uri": "https://localhost:8080/",
          "height": 424
        },
        "outputId": "b409cdb8-531a-4096-c863-674a2ff95d23"
      },
      "source": [
        "df_sub"
      ],
      "execution_count": null,
      "outputs": [
        {
          "output_type": "execute_result",
          "data": {
            "text/html": [
              "<div>\n",
              "<style scoped>\n",
              "    .dataframe tbody tr th:only-of-type {\n",
              "        vertical-align: middle;\n",
              "    }\n",
              "\n",
              "    .dataframe tbody tr th {\n",
              "        vertical-align: top;\n",
              "    }\n",
              "\n",
              "    .dataframe thead th {\n",
              "        text-align: right;\n",
              "    }\n",
              "</style>\n",
              "<table border=\"1\" class=\"dataframe\">\n",
              "  <thead>\n",
              "    <tr style=\"text-align: right;\">\n",
              "      <th></th>\n",
              "      <th>X1</th>\n",
              "      <th>X2</th>\n",
              "      <th>X3</th>\n",
              "      <th>X4</th>\n",
              "    </tr>\n",
              "  </thead>\n",
              "  <tbody>\n",
              "    <tr>\n",
              "      <th>0</th>\n",
              "      <td>0.98</td>\n",
              "      <td>514.5</td>\n",
              "      <td>294.0</td>\n",
              "      <td>110.25</td>\n",
              "    </tr>\n",
              "    <tr>\n",
              "      <th>1</th>\n",
              "      <td>0.98</td>\n",
              "      <td>514.5</td>\n",
              "      <td>294.0</td>\n",
              "      <td>110.25</td>\n",
              "    </tr>\n",
              "    <tr>\n",
              "      <th>2</th>\n",
              "      <td>0.98</td>\n",
              "      <td>514.5</td>\n",
              "      <td>294.0</td>\n",
              "      <td>110.25</td>\n",
              "    </tr>\n",
              "    <tr>\n",
              "      <th>3</th>\n",
              "      <td>0.98</td>\n",
              "      <td>514.5</td>\n",
              "      <td>294.0</td>\n",
              "      <td>110.25</td>\n",
              "    </tr>\n",
              "    <tr>\n",
              "      <th>4</th>\n",
              "      <td>0.90</td>\n",
              "      <td>563.5</td>\n",
              "      <td>318.5</td>\n",
              "      <td>122.50</td>\n",
              "    </tr>\n",
              "    <tr>\n",
              "      <th>...</th>\n",
              "      <td>...</td>\n",
              "      <td>...</td>\n",
              "      <td>...</td>\n",
              "      <td>...</td>\n",
              "    </tr>\n",
              "    <tr>\n",
              "      <th>763</th>\n",
              "      <td>0.64</td>\n",
              "      <td>784.0</td>\n",
              "      <td>343.0</td>\n",
              "      <td>220.50</td>\n",
              "    </tr>\n",
              "    <tr>\n",
              "      <th>764</th>\n",
              "      <td>0.62</td>\n",
              "      <td>808.5</td>\n",
              "      <td>367.5</td>\n",
              "      <td>220.50</td>\n",
              "    </tr>\n",
              "    <tr>\n",
              "      <th>765</th>\n",
              "      <td>0.62</td>\n",
              "      <td>808.5</td>\n",
              "      <td>367.5</td>\n",
              "      <td>220.50</td>\n",
              "    </tr>\n",
              "    <tr>\n",
              "      <th>766</th>\n",
              "      <td>0.62</td>\n",
              "      <td>808.5</td>\n",
              "      <td>367.5</td>\n",
              "      <td>220.50</td>\n",
              "    </tr>\n",
              "    <tr>\n",
              "      <th>767</th>\n",
              "      <td>0.62</td>\n",
              "      <td>808.5</td>\n",
              "      <td>367.5</td>\n",
              "      <td>220.50</td>\n",
              "    </tr>\n",
              "  </tbody>\n",
              "</table>\n",
              "<p>768 rows × 4 columns</p>\n",
              "</div>"
            ],
            "text/plain": [
              "       X1     X2     X3      X4\n",
              "0    0.98  514.5  294.0  110.25\n",
              "1    0.98  514.5  294.0  110.25\n",
              "2    0.98  514.5  294.0  110.25\n",
              "3    0.98  514.5  294.0  110.25\n",
              "4    0.90  563.5  318.5  122.50\n",
              "..    ...    ...    ...     ...\n",
              "763  0.64  784.0  343.0  220.50\n",
              "764  0.62  808.5  367.5  220.50\n",
              "765  0.62  808.5  367.5  220.50\n",
              "766  0.62  808.5  367.5  220.50\n",
              "767  0.62  808.5  367.5  220.50\n",
              "\n",
              "[768 rows x 4 columns]"
            ]
          },
          "metadata": {
            "tags": []
          },
          "execution_count": 36
        }
      ]
    }
  ]
}