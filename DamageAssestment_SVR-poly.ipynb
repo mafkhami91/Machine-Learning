{
 "cells": [
  {
   "cell_type": "markdown",
   "metadata": {
    "colab_type": "text",
    "id": "zvFpTi3RZap8"
   },
   "source": [
    "Import Library"
   ]
  },
  {
   "cell_type": "code",
   "execution_count": 1,
   "metadata": {
    "colab": {},
    "colab_type": "code",
    "id": "aAHTSSkjTWve"
   },
   "outputs": [],
   "source": [
    "import numpy as np\n",
    "import pandas as pd\n",
    "import os"
   ]
  },
  {
   "cell_type": "markdown",
   "metadata": {
    "colab_type": "text",
    "id": "G2lpEfdWTjvQ"
   },
   "source": [
    "Merge Files"
   ]
  },
  {
   "cell_type": "code",
   "execution_count": 2,
   "metadata": {
    "colab": {
     "base_uri": "https://localhost:8080/",
     "height": 397
    },
    "colab_type": "code",
    "id": "f2yPHbhTTimW",
    "outputId": "4e03a341-d7f7-4695-8baa-84fb38559ea7"
   },
   "outputs": [
    {
     "name": "stdout",
     "output_type": "stream",
     "text": [
      "['2017.xlsx', '2016.xlsx', '2019.xlsx', '2015.xlsx', '2018.xlsx']\n"
     ]
    }
   ],
   "source": [
    "#importing them all\n",
    "#list comprehension\n",
    "\n",
    "files = [file for file in os.listdir(\"/Users/mahdiafkhami/Desktop/Purdue/FEMA data/Paper/Preliminary Damage Assessment Reports/Data\")]\n",
    "#Concacenate all files into single excel file\n",
    "print (files)"
   ]
  },
  {
   "cell_type": "code",
   "execution_count": 3,
   "metadata": {},
   "outputs": [],
   "source": [
    "all_data = pd.DataFrame()\n",
    "for file in files:\n",
    "    df = pd.read_excel(\"/Users/mahdiafkhami/Desktop/Purdue/FEMA data/Paper/Preliminary Damage Assessment Reports/Data/\"+file)\n",
    "    all_data = pd.concat([all_data,df])"
   ]
  },
  {
   "cell_type": "markdown",
   "metadata": {
    "colab_type": "text",
    "id": "PhzGcqX6YRi3"
   },
   "source": [
    "Read the updated dataframe"
   ]
  },
  {
   "cell_type": "code",
   "execution_count": 4,
   "metadata": {
    "colab": {},
    "colab_type": "code",
    "id": "fc0XgTCdYUX5"
   },
   "outputs": [],
   "source": [
    "#data = pd.read_excel(\"/content/Damage_Assest/ALL.xlsx\")"
   ]
  },
  {
   "cell_type": "code",
   "execution_count": 5,
   "metadata": {
    "colab": {
     "base_uri": "https://localhost:8080/",
     "height": 416
    },
    "colab_type": "code",
    "id": "uTad227eUGTl",
    "outputId": "907dcd03-e432-48d7-f2ec-6d3bdc277b89"
   },
   "outputs": [
    {
     "name": "stdout",
     "output_type": "stream",
     "text": [
      "<class 'pandas.core.frame.DataFrame'>\n",
      "Int64Index: 217 entries, 0 to 45\n",
      "Data columns (total 16 columns):\n",
      "State                     214 non-null object\n",
      "Date                      214 non-null datetime64[ns]\n",
      "Type                      214 non-null object\n",
      "IA                        214 non-null float64\n",
      "PA                        215 non-null object\n",
      "Residences Impacted       214 non-null float64\n",
      "Destroyed                 214 non-null float64\n",
      "MajorDamage               214 non-null float64\n",
      "MinorDamage               214 non-null float64\n",
      "Affected                  214 non-null float64\n",
      "Insured                   214 non-null float64\n",
      "Low Income                214 non-null float64\n",
      "Elderly                   214 non-null float64\n",
      "Primary Impact            214 non-null object\n",
      "Total PA cost estimate    214 non-null object\n",
      "Total IA cost estimate    214 non-null float64\n",
      "dtypes: datetime64[ns](1), float64(10), object(5)\n",
      "memory usage: 28.8+ KB\n"
     ]
    }
   ],
   "source": [
    "all_data.info()"
   ]
  },
  {
   "cell_type": "code",
   "execution_count": 6,
   "metadata": {
    "colab": {
     "base_uri": "https://localhost:8080/",
     "height": 434
    },
    "colab_type": "code",
    "id": "NR2gSrrFWs58",
    "outputId": "abe23a03-878b-4665-b750-c11acf1cd430"
   },
   "outputs": [
    {
     "data": {
      "text/plain": [
       "Storm-Flood                                              53\n",
       "Storm-Tornado-flood                                      38\n",
       "Storm-Flood-Mudslide                                     35\n",
       "Severe Winter Storm and Flooding                         13\n",
       "Hurricane                                                12\n",
       "Severe Winter Storm                                      12\n",
       "Flooding                                                 10\n",
       "Storm                                                     7\n",
       "Storm--Tornado                                            6\n",
       "Wind Storm                                                4\n",
       "Storm                                                     4\n",
       "Winter Storm & Snowstorm                                  4\n",
       "Severe Winter Storm and Snowstorm                         3\n",
       "Severe Winter Storm,Flooding,Mudslides, and a Tornado     2\n",
       "wildfire                                                  2\n",
       "Volcano - Earthquakes                                     1\n",
       "Wildfire                                                  1\n",
       "Wildfires and Mudslides                                   1\n",
       "Earthquake                                                1\n",
       "Fire                                                      1\n",
       "Flood-Landslide-Mudslide                                  1\n",
       "Snowstorm                                                 1\n",
       "Severe Storms and Tornadoes                               1\n",
       "Tornado                                                   1\n",
       "Name: Type, dtype: int64"
      ]
     },
     "execution_count": 6,
     "metadata": {},
     "output_type": "execute_result"
    }
   ],
   "source": [
    "all_data[\"Type\"].value_counts()"
   ]
  },
  {
   "cell_type": "code",
   "execution_count": 7,
   "metadata": {},
   "outputs": [
    {
     "data": {
      "text/html": [
       "<div>\n",
       "<style scoped>\n",
       "    .dataframe tbody tr th:only-of-type {\n",
       "        vertical-align: middle;\n",
       "    }\n",
       "\n",
       "    .dataframe tbody tr th {\n",
       "        vertical-align: top;\n",
       "    }\n",
       "\n",
       "    .dataframe thead th {\n",
       "        text-align: right;\n",
       "    }\n",
       "</style>\n",
       "<table border=\"1\" class=\"dataframe\">\n",
       "  <thead>\n",
       "    <tr style=\"text-align: right;\">\n",
       "      <th></th>\n",
       "      <th>State</th>\n",
       "      <th>Date</th>\n",
       "      <th>Type</th>\n",
       "      <th>IA</th>\n",
       "      <th>PA</th>\n",
       "      <th>Residences Impacted</th>\n",
       "      <th>Destroyed</th>\n",
       "      <th>MajorDamage</th>\n",
       "      <th>MinorDamage</th>\n",
       "      <th>Affected</th>\n",
       "      <th>Insured</th>\n",
       "      <th>Low Income</th>\n",
       "      <th>Elderly</th>\n",
       "      <th>Primary Impact</th>\n",
       "      <th>Total PA cost estimate</th>\n",
       "      <th>Total IA cost estimate</th>\n",
       "    </tr>\n",
       "  </thead>\n",
       "  <tbody>\n",
       "    <tr>\n",
       "      <th>0</th>\n",
       "      <td>Alaska</td>\n",
       "      <td>2017-12-20</td>\n",
       "      <td>Storm</td>\n",
       "      <td>0.0</td>\n",
       "      <td>1</td>\n",
       "      <td>0.0</td>\n",
       "      <td>0.0</td>\n",
       "      <td>0.0</td>\n",
       "      <td>0.0</td>\n",
       "      <td>0.0</td>\n",
       "      <td>0.0</td>\n",
       "      <td>0.0</td>\n",
       "      <td>0.0</td>\n",
       "      <td>Road &amp; Bridges</td>\n",
       "      <td>6.31774e+06</td>\n",
       "      <td>0.0</td>\n",
       "    </tr>\n",
       "    <tr>\n",
       "      <th>1</th>\n",
       "      <td>Mississippi</td>\n",
       "      <td>2017-11-22</td>\n",
       "      <td>Hurricane</td>\n",
       "      <td>0.0</td>\n",
       "      <td>1</td>\n",
       "      <td>0.0</td>\n",
       "      <td>0.0</td>\n",
       "      <td>0.0</td>\n",
       "      <td>0.0</td>\n",
       "      <td>0.0</td>\n",
       "      <td>0.0</td>\n",
       "      <td>0.0</td>\n",
       "      <td>0.0</td>\n",
       "      <td>Public Parks, Recreational Facilities</td>\n",
       "      <td>1.41222e+07</td>\n",
       "      <td>0.0</td>\n",
       "    </tr>\n",
       "    <tr>\n",
       "      <th>2</th>\n",
       "      <td>Alabama</td>\n",
       "      <td>2017-11-16</td>\n",
       "      <td>Hurricane</td>\n",
       "      <td>0.0</td>\n",
       "      <td>1</td>\n",
       "      <td>0.0</td>\n",
       "      <td>0.0</td>\n",
       "      <td>0.0</td>\n",
       "      <td>0.0</td>\n",
       "      <td>0.0</td>\n",
       "      <td>0.0</td>\n",
       "      <td>0.0</td>\n",
       "      <td>0.0</td>\n",
       "      <td>Public Parks, Recreational Facilities</td>\n",
       "      <td>1.77358e+07</td>\n",
       "      <td>0.0</td>\n",
       "    </tr>\n",
       "    <tr>\n",
       "      <th>3</th>\n",
       "      <td>New York</td>\n",
       "      <td>2017-11-14</td>\n",
       "      <td>Flooding</td>\n",
       "      <td>0.0</td>\n",
       "      <td>1</td>\n",
       "      <td>0.0</td>\n",
       "      <td>0.0</td>\n",
       "      <td>0.0</td>\n",
       "      <td>0.0</td>\n",
       "      <td>0.0</td>\n",
       "      <td>0.0</td>\n",
       "      <td>0.0</td>\n",
       "      <td>0.0</td>\n",
       "      <td>Public Parks, Recreational Facilities</td>\n",
       "      <td>3.39004e+07</td>\n",
       "      <td>0.0</td>\n",
       "    </tr>\n",
       "    <tr>\n",
       "      <th>4</th>\n",
       "      <td>Kansas</td>\n",
       "      <td>2017-11-07</td>\n",
       "      <td>Storm-Flood</td>\n",
       "      <td>0.0</td>\n",
       "      <td>1</td>\n",
       "      <td>0.0</td>\n",
       "      <td>0.0</td>\n",
       "      <td>0.0</td>\n",
       "      <td>0.0</td>\n",
       "      <td>0.0</td>\n",
       "      <td>0.0</td>\n",
       "      <td>0.0</td>\n",
       "      <td>0.0</td>\n",
       "      <td>Public Buildings and Equipment</td>\n",
       "      <td>5.9978e+06</td>\n",
       "      <td>0.0</td>\n",
       "    </tr>\n",
       "  </tbody>\n",
       "</table>\n",
       "</div>"
      ],
      "text/plain": [
       "         State       Date         Type   IA PA  Residences Impacted  \\\n",
       "0       Alaska 2017-12-20        Storm  0.0  1                  0.0   \n",
       "1  Mississippi 2017-11-22    Hurricane  0.0  1                  0.0   \n",
       "2      Alabama 2017-11-16    Hurricane  0.0  1                  0.0   \n",
       "3     New York 2017-11-14     Flooding  0.0  1                  0.0   \n",
       "4       Kansas 2017-11-07  Storm-Flood  0.0  1                  0.0   \n",
       "\n",
       "   Destroyed  MajorDamage  MinorDamage  Affected  Insured  Low Income  \\\n",
       "0        0.0          0.0          0.0       0.0      0.0         0.0   \n",
       "1        0.0          0.0          0.0       0.0      0.0         0.0   \n",
       "2        0.0          0.0          0.0       0.0      0.0         0.0   \n",
       "3        0.0          0.0          0.0       0.0      0.0         0.0   \n",
       "4        0.0          0.0          0.0       0.0      0.0         0.0   \n",
       "\n",
       "   Elderly                         Primary Impact Total PA cost estimate  \\\n",
       "0      0.0                         Road & Bridges            6.31774e+06   \n",
       "1      0.0  Public Parks, Recreational Facilities            1.41222e+07   \n",
       "2      0.0  Public Parks, Recreational Facilities            1.77358e+07   \n",
       "3      0.0  Public Parks, Recreational Facilities            3.39004e+07   \n",
       "4      0.0         Public Buildings and Equipment             5.9978e+06   \n",
       "\n",
       "   Total IA cost estimate  \n",
       "0                     0.0  \n",
       "1                     0.0  \n",
       "2                     0.0  \n",
       "3                     0.0  \n",
       "4                     0.0  "
      ]
     },
     "execution_count": 7,
     "metadata": {},
     "output_type": "execute_result"
    }
   ],
   "source": [
    "all_data.head(5)"
   ]
  },
  {
   "cell_type": "markdown",
   "metadata": {
    "colab_type": "text",
    "id": "YXVqQ1u4a-yJ"
   },
   "source": [
    "Add a month column"
   ]
  },
  {
   "cell_type": "code",
   "execution_count": 8,
   "metadata": {},
   "outputs": [],
   "source": [
    "all_data[\"Date\"] = all_data[\"Date\"].astype(str)"
   ]
  },
  {
   "cell_type": "code",
   "execution_count": 9,
   "metadata": {},
   "outputs": [
    {
     "data": {
      "text/html": [
       "<div>\n",
       "<style scoped>\n",
       "    .dataframe tbody tr th:only-of-type {\n",
       "        vertical-align: middle;\n",
       "    }\n",
       "\n",
       "    .dataframe tbody tr th {\n",
       "        vertical-align: top;\n",
       "    }\n",
       "\n",
       "    .dataframe thead th {\n",
       "        text-align: right;\n",
       "    }\n",
       "</style>\n",
       "<table border=\"1\" class=\"dataframe\">\n",
       "  <thead>\n",
       "    <tr style=\"text-align: right;\">\n",
       "      <th></th>\n",
       "      <th>State</th>\n",
       "      <th>Date</th>\n",
       "      <th>Type</th>\n",
       "      <th>IA</th>\n",
       "      <th>PA</th>\n",
       "      <th>Residences Impacted</th>\n",
       "      <th>Destroyed</th>\n",
       "      <th>MajorDamage</th>\n",
       "      <th>MinorDamage</th>\n",
       "      <th>Affected</th>\n",
       "      <th>Insured</th>\n",
       "      <th>Low Income</th>\n",
       "      <th>Elderly</th>\n",
       "      <th>Primary Impact</th>\n",
       "      <th>Total PA cost estimate</th>\n",
       "      <th>Total IA cost estimate</th>\n",
       "    </tr>\n",
       "  </thead>\n",
       "  <tbody>\n",
       "    <tr>\n",
       "      <th>0</th>\n",
       "      <td>Alaska</td>\n",
       "      <td>2017-12-20</td>\n",
       "      <td>Storm</td>\n",
       "      <td>0.0</td>\n",
       "      <td>1</td>\n",
       "      <td>0.0</td>\n",
       "      <td>0.0</td>\n",
       "      <td>0.0</td>\n",
       "      <td>0.0</td>\n",
       "      <td>0.0</td>\n",
       "      <td>0.0</td>\n",
       "      <td>0.0</td>\n",
       "      <td>0.0</td>\n",
       "      <td>Road &amp; Bridges</td>\n",
       "      <td>6.31774e+06</td>\n",
       "      <td>0.0</td>\n",
       "    </tr>\n",
       "    <tr>\n",
       "      <th>1</th>\n",
       "      <td>Mississippi</td>\n",
       "      <td>2017-11-22</td>\n",
       "      <td>Hurricane</td>\n",
       "      <td>0.0</td>\n",
       "      <td>1</td>\n",
       "      <td>0.0</td>\n",
       "      <td>0.0</td>\n",
       "      <td>0.0</td>\n",
       "      <td>0.0</td>\n",
       "      <td>0.0</td>\n",
       "      <td>0.0</td>\n",
       "      <td>0.0</td>\n",
       "      <td>0.0</td>\n",
       "      <td>Public Parks, Recreational Facilities</td>\n",
       "      <td>1.41222e+07</td>\n",
       "      <td>0.0</td>\n",
       "    </tr>\n",
       "    <tr>\n",
       "      <th>2</th>\n",
       "      <td>Alabama</td>\n",
       "      <td>2017-11-16</td>\n",
       "      <td>Hurricane</td>\n",
       "      <td>0.0</td>\n",
       "      <td>1</td>\n",
       "      <td>0.0</td>\n",
       "      <td>0.0</td>\n",
       "      <td>0.0</td>\n",
       "      <td>0.0</td>\n",
       "      <td>0.0</td>\n",
       "      <td>0.0</td>\n",
       "      <td>0.0</td>\n",
       "      <td>0.0</td>\n",
       "      <td>Public Parks, Recreational Facilities</td>\n",
       "      <td>1.77358e+07</td>\n",
       "      <td>0.0</td>\n",
       "    </tr>\n",
       "    <tr>\n",
       "      <th>3</th>\n",
       "      <td>New York</td>\n",
       "      <td>2017-11-14</td>\n",
       "      <td>Flooding</td>\n",
       "      <td>0.0</td>\n",
       "      <td>1</td>\n",
       "      <td>0.0</td>\n",
       "      <td>0.0</td>\n",
       "      <td>0.0</td>\n",
       "      <td>0.0</td>\n",
       "      <td>0.0</td>\n",
       "      <td>0.0</td>\n",
       "      <td>0.0</td>\n",
       "      <td>0.0</td>\n",
       "      <td>Public Parks, Recreational Facilities</td>\n",
       "      <td>3.39004e+07</td>\n",
       "      <td>0.0</td>\n",
       "    </tr>\n",
       "    <tr>\n",
       "      <th>4</th>\n",
       "      <td>Kansas</td>\n",
       "      <td>2017-11-07</td>\n",
       "      <td>Storm-Flood</td>\n",
       "      <td>0.0</td>\n",
       "      <td>1</td>\n",
       "      <td>0.0</td>\n",
       "      <td>0.0</td>\n",
       "      <td>0.0</td>\n",
       "      <td>0.0</td>\n",
       "      <td>0.0</td>\n",
       "      <td>0.0</td>\n",
       "      <td>0.0</td>\n",
       "      <td>0.0</td>\n",
       "      <td>Public Buildings and Equipment</td>\n",
       "      <td>5.9978e+06</td>\n",
       "      <td>0.0</td>\n",
       "    </tr>\n",
       "  </tbody>\n",
       "</table>\n",
       "</div>"
      ],
      "text/plain": [
       "         State        Date         Type   IA PA  Residences Impacted  \\\n",
       "0       Alaska  2017-12-20        Storm  0.0  1                  0.0   \n",
       "1  Mississippi  2017-11-22    Hurricane  0.0  1                  0.0   \n",
       "2      Alabama  2017-11-16    Hurricane  0.0  1                  0.0   \n",
       "3     New York  2017-11-14     Flooding  0.0  1                  0.0   \n",
       "4       Kansas  2017-11-07  Storm-Flood  0.0  1                  0.0   \n",
       "\n",
       "   Destroyed  MajorDamage  MinorDamage  Affected  Insured  Low Income  \\\n",
       "0        0.0          0.0          0.0       0.0      0.0         0.0   \n",
       "1        0.0          0.0          0.0       0.0      0.0         0.0   \n",
       "2        0.0          0.0          0.0       0.0      0.0         0.0   \n",
       "3        0.0          0.0          0.0       0.0      0.0         0.0   \n",
       "4        0.0          0.0          0.0       0.0      0.0         0.0   \n",
       "\n",
       "   Elderly                         Primary Impact Total PA cost estimate  \\\n",
       "0      0.0                         Road & Bridges            6.31774e+06   \n",
       "1      0.0  Public Parks, Recreational Facilities            1.41222e+07   \n",
       "2      0.0  Public Parks, Recreational Facilities            1.77358e+07   \n",
       "3      0.0  Public Parks, Recreational Facilities            3.39004e+07   \n",
       "4      0.0         Public Buildings and Equipment             5.9978e+06   \n",
       "\n",
       "   Total IA cost estimate  \n",
       "0                     0.0  \n",
       "1                     0.0  \n",
       "2                     0.0  \n",
       "3                     0.0  \n",
       "4                     0.0  "
      ]
     },
     "execution_count": 9,
     "metadata": {},
     "output_type": "execute_result"
    }
   ],
   "source": [
    "all_data.head(5)"
   ]
  },
  {
   "cell_type": "code",
   "execution_count": 10,
   "metadata": {
    "colab": {},
    "colab_type": "code",
    "id": "OicLRapqW6zP"
   },
   "outputs": [],
   "source": [
    "all_data[\"month\"] = all_data[\"Date\"].str[5:7]"
   ]
  },
  {
   "cell_type": "code",
   "execution_count": 11,
   "metadata": {},
   "outputs": [
    {
     "data": {
      "text/html": [
       "<div>\n",
       "<style scoped>\n",
       "    .dataframe tbody tr th:only-of-type {\n",
       "        vertical-align: middle;\n",
       "    }\n",
       "\n",
       "    .dataframe tbody tr th {\n",
       "        vertical-align: top;\n",
       "    }\n",
       "\n",
       "    .dataframe thead th {\n",
       "        text-align: right;\n",
       "    }\n",
       "</style>\n",
       "<table border=\"1\" class=\"dataframe\">\n",
       "  <thead>\n",
       "    <tr style=\"text-align: right;\">\n",
       "      <th></th>\n",
       "      <th>State</th>\n",
       "      <th>Date</th>\n",
       "      <th>Type</th>\n",
       "      <th>IA</th>\n",
       "      <th>PA</th>\n",
       "      <th>Residences Impacted</th>\n",
       "      <th>Destroyed</th>\n",
       "      <th>MajorDamage</th>\n",
       "      <th>MinorDamage</th>\n",
       "      <th>Affected</th>\n",
       "      <th>Insured</th>\n",
       "      <th>Low Income</th>\n",
       "      <th>Elderly</th>\n",
       "      <th>Primary Impact</th>\n",
       "      <th>Total PA cost estimate</th>\n",
       "      <th>Total IA cost estimate</th>\n",
       "      <th>month</th>\n",
       "    </tr>\n",
       "  </thead>\n",
       "  <tbody>\n",
       "    <tr>\n",
       "      <th>0</th>\n",
       "      <td>Alaska</td>\n",
       "      <td>2017-12-20</td>\n",
       "      <td>Storm</td>\n",
       "      <td>0.0</td>\n",
       "      <td>1</td>\n",
       "      <td>0.0</td>\n",
       "      <td>0.0</td>\n",
       "      <td>0.0</td>\n",
       "      <td>0.0</td>\n",
       "      <td>0.0</td>\n",
       "      <td>0.0</td>\n",
       "      <td>0.0</td>\n",
       "      <td>0.0</td>\n",
       "      <td>Road &amp; Bridges</td>\n",
       "      <td>6.31774e+06</td>\n",
       "      <td>0.0</td>\n",
       "      <td>12</td>\n",
       "    </tr>\n",
       "    <tr>\n",
       "      <th>1</th>\n",
       "      <td>Mississippi</td>\n",
       "      <td>2017-11-22</td>\n",
       "      <td>Hurricane</td>\n",
       "      <td>0.0</td>\n",
       "      <td>1</td>\n",
       "      <td>0.0</td>\n",
       "      <td>0.0</td>\n",
       "      <td>0.0</td>\n",
       "      <td>0.0</td>\n",
       "      <td>0.0</td>\n",
       "      <td>0.0</td>\n",
       "      <td>0.0</td>\n",
       "      <td>0.0</td>\n",
       "      <td>Public Parks, Recreational Facilities</td>\n",
       "      <td>1.41222e+07</td>\n",
       "      <td>0.0</td>\n",
       "      <td>11</td>\n",
       "    </tr>\n",
       "    <tr>\n",
       "      <th>2</th>\n",
       "      <td>Alabama</td>\n",
       "      <td>2017-11-16</td>\n",
       "      <td>Hurricane</td>\n",
       "      <td>0.0</td>\n",
       "      <td>1</td>\n",
       "      <td>0.0</td>\n",
       "      <td>0.0</td>\n",
       "      <td>0.0</td>\n",
       "      <td>0.0</td>\n",
       "      <td>0.0</td>\n",
       "      <td>0.0</td>\n",
       "      <td>0.0</td>\n",
       "      <td>0.0</td>\n",
       "      <td>Public Parks, Recreational Facilities</td>\n",
       "      <td>1.77358e+07</td>\n",
       "      <td>0.0</td>\n",
       "      <td>11</td>\n",
       "    </tr>\n",
       "    <tr>\n",
       "      <th>3</th>\n",
       "      <td>New York</td>\n",
       "      <td>2017-11-14</td>\n",
       "      <td>Flooding</td>\n",
       "      <td>0.0</td>\n",
       "      <td>1</td>\n",
       "      <td>0.0</td>\n",
       "      <td>0.0</td>\n",
       "      <td>0.0</td>\n",
       "      <td>0.0</td>\n",
       "      <td>0.0</td>\n",
       "      <td>0.0</td>\n",
       "      <td>0.0</td>\n",
       "      <td>0.0</td>\n",
       "      <td>Public Parks, Recreational Facilities</td>\n",
       "      <td>3.39004e+07</td>\n",
       "      <td>0.0</td>\n",
       "      <td>11</td>\n",
       "    </tr>\n",
       "    <tr>\n",
       "      <th>4</th>\n",
       "      <td>Kansas</td>\n",
       "      <td>2017-11-07</td>\n",
       "      <td>Storm-Flood</td>\n",
       "      <td>0.0</td>\n",
       "      <td>1</td>\n",
       "      <td>0.0</td>\n",
       "      <td>0.0</td>\n",
       "      <td>0.0</td>\n",
       "      <td>0.0</td>\n",
       "      <td>0.0</td>\n",
       "      <td>0.0</td>\n",
       "      <td>0.0</td>\n",
       "      <td>0.0</td>\n",
       "      <td>Public Buildings and Equipment</td>\n",
       "      <td>5.9978e+06</td>\n",
       "      <td>0.0</td>\n",
       "      <td>11</td>\n",
       "    </tr>\n",
       "  </tbody>\n",
       "</table>\n",
       "</div>"
      ],
      "text/plain": [
       "         State        Date         Type   IA PA  Residences Impacted  \\\n",
       "0       Alaska  2017-12-20        Storm  0.0  1                  0.0   \n",
       "1  Mississippi  2017-11-22    Hurricane  0.0  1                  0.0   \n",
       "2      Alabama  2017-11-16    Hurricane  0.0  1                  0.0   \n",
       "3     New York  2017-11-14     Flooding  0.0  1                  0.0   \n",
       "4       Kansas  2017-11-07  Storm-Flood  0.0  1                  0.0   \n",
       "\n",
       "   Destroyed  MajorDamage  MinorDamage  Affected  Insured  Low Income  \\\n",
       "0        0.0          0.0          0.0       0.0      0.0         0.0   \n",
       "1        0.0          0.0          0.0       0.0      0.0         0.0   \n",
       "2        0.0          0.0          0.0       0.0      0.0         0.0   \n",
       "3        0.0          0.0          0.0       0.0      0.0         0.0   \n",
       "4        0.0          0.0          0.0       0.0      0.0         0.0   \n",
       "\n",
       "   Elderly                         Primary Impact Total PA cost estimate  \\\n",
       "0      0.0                         Road & Bridges            6.31774e+06   \n",
       "1      0.0  Public Parks, Recreational Facilities            1.41222e+07   \n",
       "2      0.0  Public Parks, Recreational Facilities            1.77358e+07   \n",
       "3      0.0  Public Parks, Recreational Facilities            3.39004e+07   \n",
       "4      0.0         Public Buildings and Equipment             5.9978e+06   \n",
       "\n",
       "   Total IA cost estimate month  \n",
       "0                     0.0    12  \n",
       "1                     0.0    11  \n",
       "2                     0.0    11  \n",
       "3                     0.0    11  \n",
       "4                     0.0    11  "
      ]
     },
     "execution_count": 11,
     "metadata": {},
     "output_type": "execute_result"
    }
   ],
   "source": [
    "all_data.head(5)"
   ]
  },
  {
   "cell_type": "code",
   "execution_count": 12,
   "metadata": {},
   "outputs": [],
   "source": [
    "all_data.to_excel(\"/Users/mahdiafkhami/Desktop/Purdue/FEMA data/Paper/Preliminary Damage Assessment Reports/ALL.xlsx\", index = False)"
   ]
  },
  {
   "cell_type": "code",
   "execution_count": 13,
   "metadata": {},
   "outputs": [
    {
     "data": {
      "text/plain": [
       "0.0    141\n",
       "1.0     73\n",
       "Name: IA, dtype: int64"
      ]
     },
     "execution_count": 13,
     "metadata": {},
     "output_type": "execute_result"
    }
   ],
   "source": [
    "all_data[\"IA\"].value_counts()"
   ]
  },
  {
   "cell_type": "code",
   "execution_count": 14,
   "metadata": {},
   "outputs": [],
   "source": [
    "df1 = all_data[all_data[\"IA\"] ==1]"
   ]
  },
  {
   "cell_type": "code",
   "execution_count": 15,
   "metadata": {},
   "outputs": [],
   "source": [
    "#Encoding categorical Data\n",
    "from sklearn.preprocessing import LabelEncoder\n",
    "le = LabelEncoder()\n",
    "df.Type=le.fit_transform(df.Type)"
   ]
  },
  {
   "cell_type": "code",
   "execution_count": 16,
   "metadata": {},
   "outputs": [
    {
     "data": {
      "text/html": [
       "<div>\n",
       "<style scoped>\n",
       "    .dataframe tbody tr th:only-of-type {\n",
       "        vertical-align: middle;\n",
       "    }\n",
       "\n",
       "    .dataframe tbody tr th {\n",
       "        vertical-align: top;\n",
       "    }\n",
       "\n",
       "    .dataframe thead th {\n",
       "        text-align: right;\n",
       "    }\n",
       "</style>\n",
       "<table border=\"1\" class=\"dataframe\">\n",
       "  <thead>\n",
       "    <tr style=\"text-align: right;\">\n",
       "      <th></th>\n",
       "      <th>State</th>\n",
       "      <th>Date</th>\n",
       "      <th>Type</th>\n",
       "      <th>IA</th>\n",
       "      <th>PA</th>\n",
       "      <th>Residences Impacted</th>\n",
       "      <th>Destroyed</th>\n",
       "      <th>MajorDamage</th>\n",
       "      <th>MinorDamage</th>\n",
       "      <th>Affected</th>\n",
       "      <th>Insured</th>\n",
       "      <th>Low Income</th>\n",
       "      <th>Elderly</th>\n",
       "      <th>Primary Impact</th>\n",
       "      <th>Total PA cost estimate</th>\n",
       "      <th>Total IA cost estimate</th>\n",
       "    </tr>\n",
       "  </thead>\n",
       "  <tbody>\n",
       "    <tr>\n",
       "      <th>0</th>\n",
       "      <td>Virginia</td>\n",
       "      <td>2018-12-18</td>\n",
       "      <td>4</td>\n",
       "      <td>0</td>\n",
       "      <td>1</td>\n",
       "      <td>0</td>\n",
       "      <td>0</td>\n",
       "      <td>0</td>\n",
       "      <td>0</td>\n",
       "      <td>0</td>\n",
       "      <td>0.0</td>\n",
       "      <td>0.0</td>\n",
       "      <td>0.0</td>\n",
       "      <td>Road &amp; Bridges</td>\n",
       "      <td>20376422</td>\n",
       "      <td>0</td>\n",
       "    </tr>\n",
       "    <tr>\n",
       "      <th>1</th>\n",
       "      <td>Connecticut</td>\n",
       "      <td>2018-12-05</td>\n",
       "      <td>6</td>\n",
       "      <td>0</td>\n",
       "      <td>1</td>\n",
       "      <td>0</td>\n",
       "      <td>0</td>\n",
       "      <td>0</td>\n",
       "      <td>0</td>\n",
       "      <td>0</td>\n",
       "      <td>0.0</td>\n",
       "      <td>0.0</td>\n",
       "      <td>0.0</td>\n",
       "      <td>Road &amp; Bridges</td>\n",
       "      <td>6285040</td>\n",
       "      <td>0</td>\n",
       "    </tr>\n",
       "  </tbody>\n",
       "</table>\n",
       "</div>"
      ],
      "text/plain": [
       "         State       Date  Type  IA  PA  Residences Impacted  Destroyed  \\\n",
       "0     Virginia 2018-12-18     4   0   1                    0          0   \n",
       "1  Connecticut 2018-12-05     6   0   1                    0          0   \n",
       "\n",
       "   MajorDamage  MinorDamage  Affected  Insured  Low Income  Elderly  \\\n",
       "0            0            0         0      0.0         0.0      0.0   \n",
       "1            0            0         0      0.0         0.0      0.0   \n",
       "\n",
       "   Primary Impact  Total PA cost estimate  Total IA cost estimate  \n",
       "0  Road & Bridges                20376422                       0  \n",
       "1  Road & Bridges                 6285040                       0  "
      ]
     },
     "execution_count": 16,
     "metadata": {},
     "output_type": "execute_result"
    }
   ],
   "source": [
    "df.head(2)"
   ]
  },
  {
   "cell_type": "code",
   "execution_count": 17,
   "metadata": {},
   "outputs": [],
   "source": [
    "#create dummy Variables, so there is no order ==> OneHotEncoder"
   ]
  },
  {
   "cell_type": "code",
   "execution_count": 18,
   "metadata": {},
   "outputs": [
    {
     "name": "stdout",
     "output_type": "stream",
     "text": [
      "State                     0\n",
      "Date                      0\n",
      "Type                      0\n",
      "IA                        0\n",
      "PA                        0\n",
      "Residences Impacted       0\n",
      "Destroyed                 0\n",
      "MajorDamage               0\n",
      "MinorDamage               0\n",
      "Affected                  0\n",
      "Insured                   0\n",
      "Low Income                0\n",
      "Elderly                   0\n",
      "Primary Impact            0\n",
      "Total PA cost estimate    0\n",
      "Total IA cost estimate    0\n",
      "month                     0\n",
      "dtype: int64\n"
     ]
    }
   ],
   "source": [
    "null_v = df1.isnull().sum()\n",
    "print(null_v)"
   ]
  },
  {
   "cell_type": "code",
   "execution_count": 19,
   "metadata": {},
   "outputs": [],
   "source": [
    "df1 = df1.drop([\"Primary Impact\",\"Elderly\"], axis = 1)"
   ]
  },
  {
   "cell_type": "code",
   "execution_count": 20,
   "metadata": {},
   "outputs": [
    {
     "data": {
      "text/html": [
       "<div>\n",
       "<style scoped>\n",
       "    .dataframe tbody tr th:only-of-type {\n",
       "        vertical-align: middle;\n",
       "    }\n",
       "\n",
       "    .dataframe tbody tr th {\n",
       "        vertical-align: top;\n",
       "    }\n",
       "\n",
       "    .dataframe thead th {\n",
       "        text-align: right;\n",
       "    }\n",
       "</style>\n",
       "<table border=\"1\" class=\"dataframe\">\n",
       "  <thead>\n",
       "    <tr style=\"text-align: right;\">\n",
       "      <th></th>\n",
       "      <th>State</th>\n",
       "      <th>Date</th>\n",
       "      <th>Type</th>\n",
       "      <th>IA</th>\n",
       "      <th>PA</th>\n",
       "      <th>Residences Impacted</th>\n",
       "      <th>Destroyed</th>\n",
       "      <th>MajorDamage</th>\n",
       "      <th>MinorDamage</th>\n",
       "      <th>Affected</th>\n",
       "      <th>Insured</th>\n",
       "      <th>Low Income</th>\n",
       "      <th>Total PA cost estimate</th>\n",
       "      <th>Total IA cost estimate</th>\n",
       "      <th>month</th>\n",
       "    </tr>\n",
       "  </thead>\n",
       "  <tbody>\n",
       "    <tr>\n",
       "      <th>6</th>\n",
       "      <td>Louisiana</td>\n",
       "      <td>2017-10-16</td>\n",
       "      <td>Storm</td>\n",
       "      <td>1.0</td>\n",
       "      <td>1</td>\n",
       "      <td>312.0</td>\n",
       "      <td>19.0</td>\n",
       "      <td>48.0</td>\n",
       "      <td>226.0</td>\n",
       "      <td>19.0</td>\n",
       "      <td>3.2</td>\n",
       "      <td>75.0</td>\n",
       "      <td>8.30166e+06</td>\n",
       "      <td>2794004.0</td>\n",
       "      <td>10</td>\n",
       "    </tr>\n",
       "    <tr>\n",
       "      <th>11</th>\n",
       "      <td>West Virginia</td>\n",
       "      <td>2017-08-18</td>\n",
       "      <td>Storm-Flood-Mudslide</td>\n",
       "      <td>1.0</td>\n",
       "      <td>1</td>\n",
       "      <td>793.0</td>\n",
       "      <td>29.0</td>\n",
       "      <td>132.0</td>\n",
       "      <td>306.0</td>\n",
       "      <td>326.0</td>\n",
       "      <td>6.0</td>\n",
       "      <td>81.0</td>\n",
       "      <td>8.52812e+06</td>\n",
       "      <td>5706020.0</td>\n",
       "      <td>08</td>\n",
       "    </tr>\n",
       "  </tbody>\n",
       "</table>\n",
       "</div>"
      ],
      "text/plain": [
       "            State        Date                  Type   IA PA  \\\n",
       "6       Louisiana  2017-10-16                 Storm  1.0  1   \n",
       "11  West Virginia  2017-08-18  Storm-Flood-Mudslide  1.0  1   \n",
       "\n",
       "    Residences Impacted  Destroyed  MajorDamage  MinorDamage  Affected  \\\n",
       "6                 312.0       19.0         48.0        226.0      19.0   \n",
       "11                793.0       29.0        132.0        306.0     326.0   \n",
       "\n",
       "    Insured  Low Income Total PA cost estimate  Total IA cost estimate month  \n",
       "6       3.2        75.0            8.30166e+06               2794004.0    10  \n",
       "11      6.0        81.0            8.52812e+06               5706020.0    08  "
      ]
     },
     "execution_count": 20,
     "metadata": {},
     "output_type": "execute_result"
    }
   ],
   "source": [
    "df1.head(2)"
   ]
  },
  {
   "cell_type": "code",
   "execution_count": 21,
   "metadata": {},
   "outputs": [
    {
     "data": {
      "text/html": [
       "<div>\n",
       "<style scoped>\n",
       "    .dataframe tbody tr th:only-of-type {\n",
       "        vertical-align: middle;\n",
       "    }\n",
       "\n",
       "    .dataframe tbody tr th {\n",
       "        vertical-align: top;\n",
       "    }\n",
       "\n",
       "    .dataframe thead th {\n",
       "        text-align: right;\n",
       "    }\n",
       "</style>\n",
       "<table border=\"1\" class=\"dataframe\">\n",
       "  <thead>\n",
       "    <tr style=\"text-align: right;\">\n",
       "      <th></th>\n",
       "      <th>Residences Impacted</th>\n",
       "      <th>Destroyed</th>\n",
       "      <th>MajorDamage</th>\n",
       "      <th>MinorDamage</th>\n",
       "      <th>Affected</th>\n",
       "      <th>Insured</th>\n",
       "      <th>Low Income</th>\n",
       "    </tr>\n",
       "  </thead>\n",
       "  <tbody>\n",
       "    <tr>\n",
       "      <th>6</th>\n",
       "      <td>312.0</td>\n",
       "      <td>19.0</td>\n",
       "      <td>48.0</td>\n",
       "      <td>226.0</td>\n",
       "      <td>19.0</td>\n",
       "      <td>3.20</td>\n",
       "      <td>75.0</td>\n",
       "    </tr>\n",
       "    <tr>\n",
       "      <th>11</th>\n",
       "      <td>793.0</td>\n",
       "      <td>29.0</td>\n",
       "      <td>132.0</td>\n",
       "      <td>306.0</td>\n",
       "      <td>326.0</td>\n",
       "      <td>6.00</td>\n",
       "      <td>81.0</td>\n",
       "    </tr>\n",
       "    <tr>\n",
       "      <th>16</th>\n",
       "      <td>941.0</td>\n",
       "      <td>8.0</td>\n",
       "      <td>310.0</td>\n",
       "      <td>367.0</td>\n",
       "      <td>256.0</td>\n",
       "      <td>28.20</td>\n",
       "      <td>19.7</td>\n",
       "    </tr>\n",
       "    <tr>\n",
       "      <th>22</th>\n",
       "      <td>212.0</td>\n",
       "      <td>46.0</td>\n",
       "      <td>67.0</td>\n",
       "      <td>47.0</td>\n",
       "      <td>52.0</td>\n",
       "      <td>14.00</td>\n",
       "      <td>35.0</td>\n",
       "    </tr>\n",
       "    <tr>\n",
       "      <th>24</th>\n",
       "      <td>827.0</td>\n",
       "      <td>41.0</td>\n",
       "      <td>310.0</td>\n",
       "      <td>233.0</td>\n",
       "      <td>243.0</td>\n",
       "      <td>8.83</td>\n",
       "      <td>52.1</td>\n",
       "    </tr>\n",
       "  </tbody>\n",
       "</table>\n",
       "</div>"
      ],
      "text/plain": [
       "    Residences Impacted  Destroyed  MajorDamage  MinorDamage  Affected  \\\n",
       "6                 312.0       19.0         48.0        226.0      19.0   \n",
       "11                793.0       29.0        132.0        306.0     326.0   \n",
       "16                941.0        8.0        310.0        367.0     256.0   \n",
       "22                212.0       46.0         67.0         47.0      52.0   \n",
       "24                827.0       41.0        310.0        233.0     243.0   \n",
       "\n",
       "    Insured  Low Income  \n",
       "6      3.20        75.0  \n",
       "11     6.00        81.0  \n",
       "16    28.20        19.7  \n",
       "22    14.00        35.0  \n",
       "24     8.83        52.1  "
      ]
     },
     "execution_count": 21,
     "metadata": {},
     "output_type": "execute_result"
    }
   ],
   "source": [
    "X = df1.iloc[:,5:-3]\n",
    "X.head()"
   ]
  },
  {
   "cell_type": "code",
   "execution_count": 22,
   "metadata": {},
   "outputs": [],
   "source": [
    "Y = df1.iloc[:,-2]"
   ]
  },
  {
   "cell_type": "code",
   "execution_count": 23,
   "metadata": {},
   "outputs": [],
   "source": [
    "#Feature Scaling\n",
    "from sklearn.preprocessing import StandardScaler\n",
    "sc_X = StandardScaler()\n",
    "# sc_Y = StandardScaler()\n",
    "X = sc_X.fit_transform(X)\n",
    "# Y = sc_Y.fit_transform(Y)"
   ]
  },
  {
   "cell_type": "code",
   "execution_count": 24,
   "metadata": {},
   "outputs": [],
   "source": [
    "import seaborn as sns"
   ]
  },
  {
   "cell_type": "code",
   "execution_count": 25,
   "metadata": {},
   "outputs": [
    {
     "data": {
      "text/plain": [
       "<seaborn.axisgrid.PairGrid at 0x1107bf5c0>"
      ]
     },
     "execution_count": 25,
     "metadata": {},
     "output_type": "execute_result"
    },
    {
     "data": {
      "image/png": "[encoded data removed]",
      "text/plain": [
       "<Figure size 540x540 with 12 Axes>"
      ]
     },
     "metadata": {
      "needs_background": "light"
     },
     "output_type": "display_data"
    }
   ],
   "source": [
    "sns.pairplot(df[[\"Total IA cost estimate\", \"Low Income\", \"Insured\"]], diag_kind=\"kde\")"
   ]
  },
  {
   "cell_type": "code",
   "execution_count": 26,
   "metadata": {},
   "outputs": [],
   "source": [
    "import matplotlib.pyplot as plt\n",
    "%matplotlib inline"
   ]
  },
  {
   "cell_type": "code",
   "execution_count": 27,
   "metadata": {},
   "outputs": [
    {
     "data": {
      "text/plain": [
       "<function matplotlib.pyplot.show(*args, **kw)>"
      ]
     },
     "execution_count": 27,
     "metadata": {},
     "output_type": "execute_result"
    },
    {
     "data": {
      "image/png": "[encoded data removed]",
      "text/plain": [
       "<Figure size 432x288 with 1 Axes>"
      ]
     },
     "metadata": {
      "needs_background": "light"
     },
     "output_type": "display_data"
    }
   ],
   "source": [
    "plt.hist(Y)\n",
    "plt.show"
   ]
  },
  {
   "cell_type": "code",
   "execution_count": null,
   "metadata": {},
   "outputs": [],
   "source": []
  },
  {
   "cell_type": "markdown",
   "metadata": {},
   "source": [
    "# Support Vector Regression"
   ]
  },
  {
   "cell_type": "code",
   "execution_count": 28,
   "metadata": {},
   "outputs": [],
   "source": [
    "from sklearn.svm import SVR\n",
    "from sklearn import preprocessing\n",
    "from sklearn.model_selection import train_test_split"
   ]
  },
  {
   "cell_type": "code",
   "execution_count": null,
   "metadata": {},
   "outputs": [],
   "source": []
  },
  {
   "cell_type": "code",
   "execution_count": 29,
   "metadata": {},
   "outputs": [],
   "source": [
    "X_train, X_test,Y_train, Y_test = train_test_split(X,Y, test_size=0.25, random_state= 0)"
   ]
  },
  {
   "cell_type": "code",
   "execution_count": 30,
   "metadata": {},
   "outputs": [
    {
     "data": {
      "text/plain": [
       "((54, 7), (54,), (19, 7), (19,))"
      ]
     },
     "execution_count": 30,
     "metadata": {},
     "output_type": "execute_result"
    }
   ],
   "source": [
    "X_train.shape, Y_train.shape, X_test.shape, Y_test. shape"
   ]
  },
  {
   "cell_type": "code",
   "execution_count": 31,
   "metadata": {},
   "outputs": [],
   "source": [
    "# #Feature Scaling\n",
    "# from sklearn.preprocessing import StandardScaler\n",
    "# sc_X = StandardScaler()\n",
    "# X_train = sc_X.fit_transform(X_train)\n",
    "# X_test = sc_X.transform(X_test)\n",
    "# # no differnce to where to do the scaling"
   ]
  },
  {
   "cell_type": "code",
   "execution_count": 32,
   "metadata": {},
   "outputs": [],
   "source": [
    "from sklearn.metrics import mean_squared_error, r2_score"
   ]
  },
  {
   "cell_type": "code",
   "execution_count": 33,
   "metadata": {},
   "outputs": [
    {
     "name": "stderr",
     "output_type": "stream",
     "text": [
      "/Users/mahdiafkhami/anaconda3/lib/python3.7/site-packages/sklearn/svm/base.py:196: FutureWarning: The default value of gamma will change from 'auto' to 'scale' in version 0.22 to account better for unscaled features. Set gamma explicitly to 'auto' or 'scale' to avoid this warning.\n",
      "  \"avoid this warning.\", FutureWarning)\n"
     ]
    },
    {
     "data": {
      "text/plain": [
       "SVR(C=1.0, cache_size=200, coef0=0.0, degree=3, epsilon=0.1,\n",
       "  gamma='auto_deprecated', kernel='poly', max_iter=-1, shrinking=True,\n",
       "  tol=0.001, verbose=False)"
      ]
     },
     "execution_count": 33,
     "metadata": {},
     "output_type": "execute_result"
    }
   ],
   "source": [
    "reg = SVR(kernel = \"poly\", degree = 3)\n",
    "reg.fit(X_train,Y_train)"
   ]
  },
  {
   "cell_type": "code",
   "execution_count": 34,
   "metadata": {},
   "outputs": [
    {
     "data": {
      "text/plain": [
       "<bound method BaseEstimator.get_params of SVR(C=1.0, cache_size=200, coef0=0.0, degree=3, epsilon=0.1,\n",
       "  gamma='auto_deprecated', kernel='poly', max_iter=-1, shrinking=True,\n",
       "  tol=0.001, verbose=False)>"
      ]
     },
     "execution_count": 34,
     "metadata": {},
     "output_type": "execute_result"
    }
   ],
   "source": [
    "reg.get_params"
   ]
  },
  {
   "cell_type": "code",
   "execution_count": 35,
   "metadata": {},
   "outputs": [
    {
     "data": {
      "text/plain": [
       "array([5952428.66385826])"
      ]
     },
     "execution_count": 35,
     "metadata": {},
     "output_type": "execute_result"
    }
   ],
   "source": [
    "reg.intercept_"
   ]
  },
  {
   "cell_type": "code",
   "execution_count": 36,
   "metadata": {},
   "outputs": [
    {
     "data": {
      "text/plain": [
       "-0.10049886534640429"
      ]
     },
     "execution_count": 36,
     "metadata": {},
     "output_type": "execute_result"
    }
   ],
   "source": [
    "reg.score(X_test,Y_test)"
   ]
  },
  {
   "cell_type": "code",
   "execution_count": null,
   "metadata": {},
   "outputs": [],
   "source": []
  },
  {
   "cell_type": "code",
   "execution_count": 37,
   "metadata": {},
   "outputs": [],
   "source": [
    "y_predict = reg.predict(X_test)"
   ]
  },
  {
   "cell_type": "code",
   "execution_count": 38,
   "metadata": {},
   "outputs": [
    {
     "data": {
      "text/plain": [
       "-0.10049886534640429"
      ]
     },
     "execution_count": 38,
     "metadata": {},
     "output_type": "execute_result"
    }
   ],
   "source": [
    "r2_score(Y_test, y_predict)"
   ]
  },
  {
   "cell_type": "code",
   "execution_count": 39,
   "metadata": {},
   "outputs": [
    {
     "data": {
      "text/plain": [
       "170477779097355.34"
      ]
     },
     "execution_count": 39,
     "metadata": {},
     "output_type": "execute_result"
    }
   ],
   "source": [
    "mean_squared_error(Y_test, y_predict)"
   ]
  },
  {
   "cell_type": "code",
   "execution_count": 40,
   "metadata": {},
   "outputs": [
    {
     "data": {
      "text/plain": [
       "array([5952413.36017491, 5952412.81814157, 5952423.84978082,\n",
       "       5952425.98712045, 5952430.13236322, 5952427.52912682,\n",
       "       5952428.12545425, 5952423.5583431 , 5952424.93839742,\n",
       "       5952428.34722194, 5952498.57890472, 5952421.34950448,\n",
       "       5952425.8556359 , 5952432.75060312, 5952422.11004926,\n",
       "       5952430.06800187, 5952428.58925576, 5952425.03983565,\n",
       "       5952428.69259817])"
      ]
     },
     "execution_count": 40,
     "metadata": {},
     "output_type": "execute_result"
    }
   ],
   "source": [
    "y_predict"
   ]
  },
  {
   "cell_type": "code",
   "execution_count": 41,
   "metadata": {},
   "outputs": [],
   "source": [
    "dw = np.array(y_predict).tolist()"
   ]
  },
  {
   "cell_type": "code",
   "execution_count": 42,
   "metadata": {},
   "outputs": [
    {
     "data": {
      "text/plain": [
       "[5952413.360174913,\n",
       " 5952412.81814157,\n",
       " 5952423.849780823,\n",
       " 5952425.987120449,\n",
       " 5952430.132363219,\n",
       " 5952427.529126823,\n",
       " 5952428.125454249,\n",
       " 5952423.5583431,\n",
       " 5952424.938397423,\n",
       " 5952428.34722194,\n",
       " 5952498.578904717,\n",
       " 5952421.34950448,\n",
       " 5952425.855635899,\n",
       " 5952432.750603121,\n",
       " 5952422.110049259,\n",
       " 5952430.068001869,\n",
       " 5952428.589255763,\n",
       " 5952425.0398356505,\n",
       " 5952428.692598174]"
      ]
     },
     "execution_count": 42,
     "metadata": {},
     "output_type": "execute_result"
    }
   ],
   "source": [
    "dw"
   ]
  },
  {
   "cell_type": "code",
   "execution_count": 52,
   "metadata": {},
   "outputs": [
    {
     "name": "stdout",
     "output_type": "stream",
     "text": [
      "[-1.94718419e-21  1.10133671e-13 -4.11156997e-07  5.95242311e+06]\n",
      "            3             2\n",
      "-1.947e-21 x + 1.101e-13 x - 4.112e-07 x + 5.952e+06\n"
     ]
    },
    {
     "data": {
      "image/png": "[encoded data removed]",
      "text/plain": [
       "<Figure size 432x288 with 1 Axes>"
      ]
     },
     "metadata": {
      "needs_background": "light"
     },
     "output_type": "display_data"
    }
   ],
   "source": [
    "plt.plot(Y_test, dw,'o',label='SVR Prediction (Poly Basis)')\n",
    "plt.xlabel(\"$Y-test$\")\n",
    "plt.ylabel(\"$y_Predict$\")\n",
    "plt.legend()\n",
    "curve = np.polyfit(Y_test, dw, 3) # X_range, Y_range, degree of ploynomial\n",
    "print (curve) # a ploynomial function for our data X^3,X^2,X^1,..\n",
    "poly = np.poly1d(curve)\n",
    "print(poly)\n",
    "#Adding the slope line\n",
    "# m, b = np.polyfit(Y_test, dw, 1) \n",
    "# plt.plot(Y_test,m* Y_test + b)\n",
    "# plt.show"
   ]
  },
  {
   "cell_type": "code",
   "execution_count": null,
   "metadata": {},
   "outputs": [],
   "source": []
  },
  {
   "cell_type": "code",
   "execution_count": null,
   "metadata": {},
   "outputs": [],
   "source": []
  },
  {
   "cell_type": "code",
   "execution_count": null,
   "metadata": {},
   "outputs": [],
   "source": []
  },
  {
   "cell_type": "code",
   "execution_count": null,
   "metadata": {},
   "outputs": [],
   "source": []
  }
 ],
 "metadata": {
  "colab": {
   "name": "DamageAssestment.ipynb",
   "provenance": []
  },
  "kernelspec": {
   "display_name": "Python 3",
   "language": "python",
   "name": "python3"
  },
  "language_info": {
   "codemirror_mode": {
    "name": "ipython",
    "version": 3
   },
   "file_extension": ".py",
   "mimetype": "text/x-python",
   "name": "python",
   "nbconvert_exporter": "python",
   "pygments_lexer": "ipython3",
   "version": "3.7.1"
  }
 },
 "nbformat": 4,
 "nbformat_minor": 1
}
