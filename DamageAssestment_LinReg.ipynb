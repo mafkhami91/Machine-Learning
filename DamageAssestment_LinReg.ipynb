{
  "nbformat": 4,
  "nbformat_minor": 0,
  "metadata": {
    "colab": {
      "name": "DamageAssestment_LinReg.ipynb",
      "provenance": [],
      "toc_visible": true
    },
    "kernelspec": {
      "display_name": "Python 3",
      "language": "python",
      "name": "python3"
    },
    "language_info": {
      "codemirror_mode": {
        "name": "ipython",
        "version": 3
      },
      "file_extension": ".py",
      "mimetype": "text/x-python",
      "name": "python",
      "nbconvert_exporter": "python",
      "pygments_lexer": "ipython3",
      "version": "3.7.1"
    }
  },
  "cells": [
    {
      "cell_type": "markdown",
      "metadata": {
        "id": "zvFpTi3RZap8"
      },
      "source": [
        "Import Library"
      ]
    },
    {
      "cell_type": "code",
      "metadata": {
        "id": "aAHTSSkjTWve"
      },
      "source": [
        "import numpy as np\n",
        "import pandas as pd\n",
        "import os"
      ],
      "execution_count": 34,
      "outputs": []
    },
    {
      "cell_type": "markdown",
      "metadata": {
        "id": "G2lpEfdWTjvQ"
      },
      "source": [
        "Merge Files"
      ]
    },
    {
      "cell_type": "code",
      "metadata": {
        "id": "f2yPHbhTTimW",
        "outputId": "4e03a341-d7f7-4695-8baa-84fb38559ea7",
        "colab": {
          "base_uri": "https://localhost:8080/",
          "height": 397
        }
      },
      "source": [
        "# #importing them all\n",
        "# #list comprehension\n",
        "\n",
        "# files = [file for file in os.listdir(\"/Users/mahdiafkhami/Desktop/Purdue/FEMA data/Paper/Preliminary Damage Assessment Reports/Data\")]\n",
        "# #Concacenate all files into single excel file\n",
        "# print (files)"
      ],
      "execution_count": null,
      "outputs": [
        {
          "output_type": "stream",
          "text": [
            "['2017.xlsx', '2016.xlsx', '2019.xlsx', '2015.xlsx', '2018.xlsx']\n"
          ],
          "name": "stdout"
        }
      ]
    },
    {
      "cell_type": "code",
      "metadata": {
        "id": "ZbkxMVuQBu4M"
      },
      "source": [
        "# all_data = pd.DataFrame()\n",
        "# for file in files:\n",
        "#     df = pd.read_excel(\"/Users/mahdiafkhami/Desktop/Purdue/FEMA data/Paper/Preliminary Damage Assessment Reports/Data/\"+file)\n",
        "#     all_data = pd.concat([all_data,df])"
      ],
      "execution_count": null,
      "outputs": []
    },
    {
      "cell_type": "markdown",
      "metadata": {
        "id": "PhzGcqX6YRi3"
      },
      "source": [
        "Read the updated dataframe"
      ]
    },
    {
      "cell_type": "code",
      "metadata": {
        "id": "fc0XgTCdYUX5"
      },
      "source": [
        "#data = pd.read_excel(\"/content/Damage_Assest/ALL.xlsx\")\n",
        "all_data = pd.read_excel(\"/content/ALL.xlsx\")"
      ],
      "execution_count": 35,
      "outputs": []
    },
    {
      "cell_type": "code",
      "metadata": {
        "id": "uTad227eUGTl",
        "outputId": "16c246e4-f126-4077-f6e5-e5e464888611",
        "colab": {
          "base_uri": "https://localhost:8080/",
          "height": 434
        }
      },
      "source": [
        "all_data.info()"
      ],
      "execution_count": 36,
      "outputs": [
        {
          "output_type": "stream",
          "text": [
            "<class 'pandas.core.frame.DataFrame'>\n",
            "RangeIndex: 342 entries, 0 to 341\n",
            "Data columns (total 17 columns):\n",
            " #   Column                  Non-Null Count  Dtype  \n",
            "---  ------                  --------------  -----  \n",
            " 0   State                   342 non-null    object \n",
            " 1   Date                    342 non-null    object \n",
            " 2   Type                    342 non-null    object \n",
            " 3   IA                      342 non-null    int64  \n",
            " 4   PA                      342 non-null    float64\n",
            " 5   Residences Impacted     342 non-null    float64\n",
            " 6   Destroyed               342 non-null    float64\n",
            " 7   MajorDamage             342 non-null    int64  \n",
            " 8   MinorDamage             342 non-null    int64  \n",
            " 9   Affected                342 non-null    int64  \n",
            " 10  Insured                 342 non-null    float64\n",
            " 11  Low Income              342 non-null    float64\n",
            " 12  Elderly                 342 non-null    float64\n",
            " 13  Primary Impact          342 non-null    object \n",
            " 14  Total PA cost estimate  342 non-null    object \n",
            " 15  Total IA cost estimate  342 non-null    int64  \n",
            " 16  month                   342 non-null    int64  \n",
            "dtypes: float64(6), int64(6), object(5)\n",
            "memory usage: 45.5+ KB\n"
          ],
          "name": "stdout"
        }
      ]
    },
    {
      "cell_type": "code",
      "metadata": {
        "id": "NR2gSrrFWs58",
        "outputId": "ec0db5d5-6baf-4c20-f648-d722d480d650",
        "colab": {
          "base_uri": "https://localhost:8080/",
          "height": 451
        }
      },
      "source": [
        "all_data[\"Type\"].value_counts()"
      ],
      "execution_count": 37,
      "outputs": [
        {
          "output_type": "execute_result",
          "data": {
            "text/plain": [
              "Storm-Flood                                              79\n",
              "Storm-Tornado-flood                                      59\n",
              "Storm-Flood-Mudslide                                     40\n",
              "Severe Winter Storm and Flooding                         34\n",
              "Severe Storms and Tornadoes                              30\n",
              "Storm--Tornado                                           30\n",
              "Hurricane                                                14\n",
              "Severe Winter Storm                                      12\n",
              "Flooding                                                 10\n",
              "Storm                                                     7\n",
              "Storm                                                     4\n",
              "Winter Storm & Snowstorm                                  4\n",
              "Wind Storm                                                4\n",
              "Severe Winter Storm and Snowstorm                         3\n",
              "Severe Winter Storm,Flooding,Mudslides, and a Tornado     2\n",
              "wildfire                                                  2\n",
              "Snowstorm                                                 1\n",
              "Volcano - Earthquakes                                     1\n",
              "Wildfires and Mudslides                                   1\n",
              "Wildfire                                                  1\n",
              "Earthquake                                                1\n",
              "Tornado                                                   1\n",
              "Flood-Landslide-Mudslide                                  1\n",
              "Fire                                                      1\n",
              "Name: Type, dtype: int64"
            ]
          },
          "metadata": {
            "tags": []
          },
          "execution_count": 37
        }
      ]
    },
    {
      "cell_type": "code",
      "metadata": {
        "id": "FQr1N0hLBu44",
        "outputId": "f2270f0a-37a6-4ed3-d83d-b89bc6899e45",
        "colab": {
          "base_uri": "https://localhost:8080/",
          "height": 487
        }
      },
      "source": [
        "all_data.head(5)"
      ],
      "execution_count": 38,
      "outputs": [
        {
          "output_type": "execute_result",
          "data": {
            "text/html": [
              "<div>\n",
              "<style scoped>\n",
              "    .dataframe tbody tr th:only-of-type {\n",
              "        vertical-align: middle;\n",
              "    }\n",
              "\n",
              "    .dataframe tbody tr th {\n",
              "        vertical-align: top;\n",
              "    }\n",
              "\n",
              "    .dataframe thead th {\n",
              "        text-align: right;\n",
              "    }\n",
              "</style>\n",
              "<table border=\"1\" class=\"dataframe\">\n",
              "  <thead>\n",
              "    <tr style=\"text-align: right;\">\n",
              "      <th></th>\n",
              "      <th>State</th>\n",
              "      <th>Date</th>\n",
              "      <th>Type</th>\n",
              "      <th>IA</th>\n",
              "      <th>PA</th>\n",
              "      <th>Residences Impacted</th>\n",
              "      <th>Destroyed</th>\n",
              "      <th>MajorDamage</th>\n",
              "      <th>MinorDamage</th>\n",
              "      <th>Affected</th>\n",
              "      <th>Insured</th>\n",
              "      <th>Low Income</th>\n",
              "      <th>Elderly</th>\n",
              "      <th>Primary Impact</th>\n",
              "      <th>Total PA cost estimate</th>\n",
              "      <th>Total IA cost estimate</th>\n",
              "      <th>month</th>\n",
              "    </tr>\n",
              "  </thead>\n",
              "  <tbody>\n",
              "    <tr>\n",
              "      <th>0</th>\n",
              "      <td>Alaska</td>\n",
              "      <td>2017-12-20</td>\n",
              "      <td>Storm</td>\n",
              "      <td>0</td>\n",
              "      <td>1.0</td>\n",
              "      <td>0.0</td>\n",
              "      <td>0.0</td>\n",
              "      <td>0</td>\n",
              "      <td>0</td>\n",
              "      <td>0</td>\n",
              "      <td>0.0</td>\n",
              "      <td>0.0</td>\n",
              "      <td>0.0</td>\n",
              "      <td>Road &amp; Bridges</td>\n",
              "      <td>6317745</td>\n",
              "      <td>0</td>\n",
              "      <td>12</td>\n",
              "    </tr>\n",
              "    <tr>\n",
              "      <th>1</th>\n",
              "      <td>Mississippi</td>\n",
              "      <td>2017-11-22</td>\n",
              "      <td>Hurricane</td>\n",
              "      <td>0</td>\n",
              "      <td>1.0</td>\n",
              "      <td>0.0</td>\n",
              "      <td>0.0</td>\n",
              "      <td>0</td>\n",
              "      <td>0</td>\n",
              "      <td>0</td>\n",
              "      <td>0.0</td>\n",
              "      <td>0.0</td>\n",
              "      <td>0.0</td>\n",
              "      <td>Public Parks, Recreational Facilities</td>\n",
              "      <td>14122191</td>\n",
              "      <td>0</td>\n",
              "      <td>11</td>\n",
              "    </tr>\n",
              "    <tr>\n",
              "      <th>2</th>\n",
              "      <td>Alabama</td>\n",
              "      <td>2017-11-16</td>\n",
              "      <td>Hurricane</td>\n",
              "      <td>0</td>\n",
              "      <td>1.0</td>\n",
              "      <td>0.0</td>\n",
              "      <td>0.0</td>\n",
              "      <td>0</td>\n",
              "      <td>0</td>\n",
              "      <td>0</td>\n",
              "      <td>0.0</td>\n",
              "      <td>0.0</td>\n",
              "      <td>0.0</td>\n",
              "      <td>Public Parks, Recreational Facilities</td>\n",
              "      <td>17735820</td>\n",
              "      <td>0</td>\n",
              "      <td>11</td>\n",
              "    </tr>\n",
              "    <tr>\n",
              "      <th>3</th>\n",
              "      <td>New York</td>\n",
              "      <td>2017-11-14</td>\n",
              "      <td>Flooding</td>\n",
              "      <td>0</td>\n",
              "      <td>1.0</td>\n",
              "      <td>0.0</td>\n",
              "      <td>0.0</td>\n",
              "      <td>0</td>\n",
              "      <td>0</td>\n",
              "      <td>0</td>\n",
              "      <td>0.0</td>\n",
              "      <td>0.0</td>\n",
              "      <td>0.0</td>\n",
              "      <td>Public Parks, Recreational Facilities</td>\n",
              "      <td>33900354</td>\n",
              "      <td>0</td>\n",
              "      <td>11</td>\n",
              "    </tr>\n",
              "    <tr>\n",
              "      <th>4</th>\n",
              "      <td>Kansas</td>\n",
              "      <td>2017-11-07</td>\n",
              "      <td>Storm-Flood</td>\n",
              "      <td>0</td>\n",
              "      <td>1.0</td>\n",
              "      <td>0.0</td>\n",
              "      <td>0.0</td>\n",
              "      <td>0</td>\n",
              "      <td>0</td>\n",
              "      <td>0</td>\n",
              "      <td>0.0</td>\n",
              "      <td>0.0</td>\n",
              "      <td>0.0</td>\n",
              "      <td>Public Buildings and Equipment</td>\n",
              "      <td>5997796</td>\n",
              "      <td>0</td>\n",
              "      <td>11</td>\n",
              "    </tr>\n",
              "  </tbody>\n",
              "</table>\n",
              "</div>"
            ],
            "text/plain": [
              "         State        Date  ... Total IA cost estimate  month\n",
              "0       Alaska  2017-12-20  ...                      0     12\n",
              "1  Mississippi  2017-11-22  ...                      0     11\n",
              "2      Alabama  2017-11-16  ...                      0     11\n",
              "3     New York  2017-11-14  ...                      0     11\n",
              "4       Kansas  2017-11-07  ...                      0     11\n",
              "\n",
              "[5 rows x 17 columns]"
            ]
          },
          "metadata": {
            "tags": []
          },
          "execution_count": 38
        }
      ]
    },
    {
      "cell_type": "markdown",
      "metadata": {
        "id": "YXVqQ1u4a-yJ"
      },
      "source": [
        "Add a month column"
      ]
    },
    {
      "cell_type": "code",
      "metadata": {
        "id": "5EhdTRImBu5D"
      },
      "source": [
        "all_data[\"Date\"] = all_data[\"Date\"].astype(str)"
      ],
      "execution_count": 39,
      "outputs": []
    },
    {
      "cell_type": "code",
      "metadata": {
        "id": "mX8psEYHBu5K",
        "outputId": "3474900a-48c6-4344-fde6-901ac22331a6",
        "colab": {
          "base_uri": "https://localhost:8080/",
          "height": 487
        }
      },
      "source": [
        "all_data.head(5)"
      ],
      "execution_count": 40,
      "outputs": [
        {
          "output_type": "execute_result",
          "data": {
            "text/html": [
              "<div>\n",
              "<style scoped>\n",
              "    .dataframe tbody tr th:only-of-type {\n",
              "        vertical-align: middle;\n",
              "    }\n",
              "\n",
              "    .dataframe tbody tr th {\n",
              "        vertical-align: top;\n",
              "    }\n",
              "\n",
              "    .dataframe thead th {\n",
              "        text-align: right;\n",
              "    }\n",
              "</style>\n",
              "<table border=\"1\" class=\"dataframe\">\n",
              "  <thead>\n",
              "    <tr style=\"text-align: right;\">\n",
              "      <th></th>\n",
              "      <th>State</th>\n",
              "      <th>Date</th>\n",
              "      <th>Type</th>\n",
              "      <th>IA</th>\n",
              "      <th>PA</th>\n",
              "      <th>Residences Impacted</th>\n",
              "      <th>Destroyed</th>\n",
              "      <th>MajorDamage</th>\n",
              "      <th>MinorDamage</th>\n",
              "      <th>Affected</th>\n",
              "      <th>Insured</th>\n",
              "      <th>Low Income</th>\n",
              "      <th>Elderly</th>\n",
              "      <th>Primary Impact</th>\n",
              "      <th>Total PA cost estimate</th>\n",
              "      <th>Total IA cost estimate</th>\n",
              "      <th>month</th>\n",
              "    </tr>\n",
              "  </thead>\n",
              "  <tbody>\n",
              "    <tr>\n",
              "      <th>0</th>\n",
              "      <td>Alaska</td>\n",
              "      <td>2017-12-20</td>\n",
              "      <td>Storm</td>\n",
              "      <td>0</td>\n",
              "      <td>1.0</td>\n",
              "      <td>0.0</td>\n",
              "      <td>0.0</td>\n",
              "      <td>0</td>\n",
              "      <td>0</td>\n",
              "      <td>0</td>\n",
              "      <td>0.0</td>\n",
              "      <td>0.0</td>\n",
              "      <td>0.0</td>\n",
              "      <td>Road &amp; Bridges</td>\n",
              "      <td>6317745</td>\n",
              "      <td>0</td>\n",
              "      <td>12</td>\n",
              "    </tr>\n",
              "    <tr>\n",
              "      <th>1</th>\n",
              "      <td>Mississippi</td>\n",
              "      <td>2017-11-22</td>\n",
              "      <td>Hurricane</td>\n",
              "      <td>0</td>\n",
              "      <td>1.0</td>\n",
              "      <td>0.0</td>\n",
              "      <td>0.0</td>\n",
              "      <td>0</td>\n",
              "      <td>0</td>\n",
              "      <td>0</td>\n",
              "      <td>0.0</td>\n",
              "      <td>0.0</td>\n",
              "      <td>0.0</td>\n",
              "      <td>Public Parks, Recreational Facilities</td>\n",
              "      <td>14122191</td>\n",
              "      <td>0</td>\n",
              "      <td>11</td>\n",
              "    </tr>\n",
              "    <tr>\n",
              "      <th>2</th>\n",
              "      <td>Alabama</td>\n",
              "      <td>2017-11-16</td>\n",
              "      <td>Hurricane</td>\n",
              "      <td>0</td>\n",
              "      <td>1.0</td>\n",
              "      <td>0.0</td>\n",
              "      <td>0.0</td>\n",
              "      <td>0</td>\n",
              "      <td>0</td>\n",
              "      <td>0</td>\n",
              "      <td>0.0</td>\n",
              "      <td>0.0</td>\n",
              "      <td>0.0</td>\n",
              "      <td>Public Parks, Recreational Facilities</td>\n",
              "      <td>17735820</td>\n",
              "      <td>0</td>\n",
              "      <td>11</td>\n",
              "    </tr>\n",
              "    <tr>\n",
              "      <th>3</th>\n",
              "      <td>New York</td>\n",
              "      <td>2017-11-14</td>\n",
              "      <td>Flooding</td>\n",
              "      <td>0</td>\n",
              "      <td>1.0</td>\n",
              "      <td>0.0</td>\n",
              "      <td>0.0</td>\n",
              "      <td>0</td>\n",
              "      <td>0</td>\n",
              "      <td>0</td>\n",
              "      <td>0.0</td>\n",
              "      <td>0.0</td>\n",
              "      <td>0.0</td>\n",
              "      <td>Public Parks, Recreational Facilities</td>\n",
              "      <td>33900354</td>\n",
              "      <td>0</td>\n",
              "      <td>11</td>\n",
              "    </tr>\n",
              "    <tr>\n",
              "      <th>4</th>\n",
              "      <td>Kansas</td>\n",
              "      <td>2017-11-07</td>\n",
              "      <td>Storm-Flood</td>\n",
              "      <td>0</td>\n",
              "      <td>1.0</td>\n",
              "      <td>0.0</td>\n",
              "      <td>0.0</td>\n",
              "      <td>0</td>\n",
              "      <td>0</td>\n",
              "      <td>0</td>\n",
              "      <td>0.0</td>\n",
              "      <td>0.0</td>\n",
              "      <td>0.0</td>\n",
              "      <td>Public Buildings and Equipment</td>\n",
              "      <td>5997796</td>\n",
              "      <td>0</td>\n",
              "      <td>11</td>\n",
              "    </tr>\n",
              "  </tbody>\n",
              "</table>\n",
              "</div>"
            ],
            "text/plain": [
              "         State        Date  ... Total IA cost estimate  month\n",
              "0       Alaska  2017-12-20  ...                      0     12\n",
              "1  Mississippi  2017-11-22  ...                      0     11\n",
              "2      Alabama  2017-11-16  ...                      0     11\n",
              "3     New York  2017-11-14  ...                      0     11\n",
              "4       Kansas  2017-11-07  ...                      0     11\n",
              "\n",
              "[5 rows x 17 columns]"
            ]
          },
          "metadata": {
            "tags": []
          },
          "execution_count": 40
        }
      ]
    },
    {
      "cell_type": "code",
      "metadata": {
        "id": "OicLRapqW6zP"
      },
      "source": [
        "all_data[\"month\"] = all_data[\"Date\"].str[5:7]"
      ],
      "execution_count": 41,
      "outputs": []
    },
    {
      "cell_type": "code",
      "metadata": {
        "id": "646TUhkABu5Z",
        "outputId": "81560fa7-92a5-4d12-a4e3-4d8734e4d9ea",
        "colab": {
          "base_uri": "https://localhost:8080/",
          "height": 487
        }
      },
      "source": [
        "all_data.head(5)"
      ],
      "execution_count": 42,
      "outputs": [
        {
          "output_type": "execute_result",
          "data": {
            "text/html": [
              "<div>\n",
              "<style scoped>\n",
              "    .dataframe tbody tr th:only-of-type {\n",
              "        vertical-align: middle;\n",
              "    }\n",
              "\n",
              "    .dataframe tbody tr th {\n",
              "        vertical-align: top;\n",
              "    }\n",
              "\n",
              "    .dataframe thead th {\n",
              "        text-align: right;\n",
              "    }\n",
              "</style>\n",
              "<table border=\"1\" class=\"dataframe\">\n",
              "  <thead>\n",
              "    <tr style=\"text-align: right;\">\n",
              "      <th></th>\n",
              "      <th>State</th>\n",
              "      <th>Date</th>\n",
              "      <th>Type</th>\n",
              "      <th>IA</th>\n",
              "      <th>PA</th>\n",
              "      <th>Residences Impacted</th>\n",
              "      <th>Destroyed</th>\n",
              "      <th>MajorDamage</th>\n",
              "      <th>MinorDamage</th>\n",
              "      <th>Affected</th>\n",
              "      <th>Insured</th>\n",
              "      <th>Low Income</th>\n",
              "      <th>Elderly</th>\n",
              "      <th>Primary Impact</th>\n",
              "      <th>Total PA cost estimate</th>\n",
              "      <th>Total IA cost estimate</th>\n",
              "      <th>month</th>\n",
              "    </tr>\n",
              "  </thead>\n",
              "  <tbody>\n",
              "    <tr>\n",
              "      <th>0</th>\n",
              "      <td>Alaska</td>\n",
              "      <td>2017-12-20</td>\n",
              "      <td>Storm</td>\n",
              "      <td>0</td>\n",
              "      <td>1.0</td>\n",
              "      <td>0.0</td>\n",
              "      <td>0.0</td>\n",
              "      <td>0</td>\n",
              "      <td>0</td>\n",
              "      <td>0</td>\n",
              "      <td>0.0</td>\n",
              "      <td>0.0</td>\n",
              "      <td>0.0</td>\n",
              "      <td>Road &amp; Bridges</td>\n",
              "      <td>6317745</td>\n",
              "      <td>0</td>\n",
              "      <td>12</td>\n",
              "    </tr>\n",
              "    <tr>\n",
              "      <th>1</th>\n",
              "      <td>Mississippi</td>\n",
              "      <td>2017-11-22</td>\n",
              "      <td>Hurricane</td>\n",
              "      <td>0</td>\n",
              "      <td>1.0</td>\n",
              "      <td>0.0</td>\n",
              "      <td>0.0</td>\n",
              "      <td>0</td>\n",
              "      <td>0</td>\n",
              "      <td>0</td>\n",
              "      <td>0.0</td>\n",
              "      <td>0.0</td>\n",
              "      <td>0.0</td>\n",
              "      <td>Public Parks, Recreational Facilities</td>\n",
              "      <td>14122191</td>\n",
              "      <td>0</td>\n",
              "      <td>11</td>\n",
              "    </tr>\n",
              "    <tr>\n",
              "      <th>2</th>\n",
              "      <td>Alabama</td>\n",
              "      <td>2017-11-16</td>\n",
              "      <td>Hurricane</td>\n",
              "      <td>0</td>\n",
              "      <td>1.0</td>\n",
              "      <td>0.0</td>\n",
              "      <td>0.0</td>\n",
              "      <td>0</td>\n",
              "      <td>0</td>\n",
              "      <td>0</td>\n",
              "      <td>0.0</td>\n",
              "      <td>0.0</td>\n",
              "      <td>0.0</td>\n",
              "      <td>Public Parks, Recreational Facilities</td>\n",
              "      <td>17735820</td>\n",
              "      <td>0</td>\n",
              "      <td>11</td>\n",
              "    </tr>\n",
              "    <tr>\n",
              "      <th>3</th>\n",
              "      <td>New York</td>\n",
              "      <td>2017-11-14</td>\n",
              "      <td>Flooding</td>\n",
              "      <td>0</td>\n",
              "      <td>1.0</td>\n",
              "      <td>0.0</td>\n",
              "      <td>0.0</td>\n",
              "      <td>0</td>\n",
              "      <td>0</td>\n",
              "      <td>0</td>\n",
              "      <td>0.0</td>\n",
              "      <td>0.0</td>\n",
              "      <td>0.0</td>\n",
              "      <td>Public Parks, Recreational Facilities</td>\n",
              "      <td>33900354</td>\n",
              "      <td>0</td>\n",
              "      <td>11</td>\n",
              "    </tr>\n",
              "    <tr>\n",
              "      <th>4</th>\n",
              "      <td>Kansas</td>\n",
              "      <td>2017-11-07</td>\n",
              "      <td>Storm-Flood</td>\n",
              "      <td>0</td>\n",
              "      <td>1.0</td>\n",
              "      <td>0.0</td>\n",
              "      <td>0.0</td>\n",
              "      <td>0</td>\n",
              "      <td>0</td>\n",
              "      <td>0</td>\n",
              "      <td>0.0</td>\n",
              "      <td>0.0</td>\n",
              "      <td>0.0</td>\n",
              "      <td>Public Buildings and Equipment</td>\n",
              "      <td>5997796</td>\n",
              "      <td>0</td>\n",
              "      <td>11</td>\n",
              "    </tr>\n",
              "  </tbody>\n",
              "</table>\n",
              "</div>"
            ],
            "text/plain": [
              "         State        Date  ... Total IA cost estimate  month\n",
              "0       Alaska  2017-12-20  ...                      0     12\n",
              "1  Mississippi  2017-11-22  ...                      0     11\n",
              "2      Alabama  2017-11-16  ...                      0     11\n",
              "3     New York  2017-11-14  ...                      0     11\n",
              "4       Kansas  2017-11-07  ...                      0     11\n",
              "\n",
              "[5 rows x 17 columns]"
            ]
          },
          "metadata": {
            "tags": []
          },
          "execution_count": 42
        }
      ]
    },
    {
      "cell_type": "code",
      "metadata": {
        "id": "jHh1m7u7Bu5i"
      },
      "source": [
        "#all_data.to_excel(\"/Users/mahdiafkhami/Desktop/Purdue/FEMA data/Paper/Preliminary Damage Assessment Reports/ALL.xlsx\", index = False)"
      ],
      "execution_count": 11,
      "outputs": []
    },
    {
      "cell_type": "code",
      "metadata": {
        "id": "FhNYlIhtBu5q",
        "outputId": "029f4d36-d8c8-4513-9b8c-e9a22490b403",
        "colab": {
          "base_uri": "https://localhost:8080/",
          "height": 69
        }
      },
      "source": [
        "all_data[\"IA\"].value_counts()"
      ],
      "execution_count": 43,
      "outputs": [
        {
          "output_type": "execute_result",
          "data": {
            "text/plain": [
              "1    201\n",
              "0    141\n",
              "Name: IA, dtype: int64"
            ]
          },
          "metadata": {
            "tags": []
          },
          "execution_count": 43
        }
      ]
    },
    {
      "cell_type": "code",
      "metadata": {
        "id": "O4hil4uyBu5w"
      },
      "source": [
        "df1 = all_data[all_data[\"IA\"] ==1]"
      ],
      "execution_count": 44,
      "outputs": []
    },
    {
      "cell_type": "code",
      "metadata": {
        "id": "O2vwbR_pBu53",
        "outputId": "3fa14b60-a120-42fb-8645-7de3a78df730",
        "colab": {
          "base_uri": "https://localhost:8080/",
          "height": 141
        }
      },
      "source": [
        "#Encoding categorical Data\n",
        "from sklearn.preprocessing import LabelEncoder\n",
        "le = LabelEncoder()\n",
        "df1.Type=le.fit_transform(df1.Type)"
      ],
      "execution_count": 45,
      "outputs": [
        {
          "output_type": "stream",
          "text": [
            "/usr/local/lib/python3.6/dist-packages/pandas/core/generic.py:5165: SettingWithCopyWarning: \n",
            "A value is trying to be set on a copy of a slice from a DataFrame.\n",
            "Try using .loc[row_indexer,col_indexer] = value instead\n",
            "\n",
            "See the caveats in the documentation: https://pandas.pydata.org/pandas-docs/stable/user_guide/indexing.html#returning-a-view-versus-a-copy\n",
            "  self[name] = value\n"
          ],
          "name": "stderr"
        }
      ]
    },
    {
      "cell_type": "code",
      "metadata": {
        "id": "yEUNtQYCBu58",
        "outputId": "c0a7db64-8071-4d10-d1ac-4d421b211f82",
        "colab": {
          "base_uri": "https://localhost:8080/",
          "height": 219
        }
      },
      "source": [
        "df1.head(2)"
      ],
      "execution_count": 46,
      "outputs": [
        {
          "output_type": "execute_result",
          "data": {
            "text/html": [
              "<div>\n",
              "<style scoped>\n",
              "    .dataframe tbody tr th:only-of-type {\n",
              "        vertical-align: middle;\n",
              "    }\n",
              "\n",
              "    .dataframe tbody tr th {\n",
              "        vertical-align: top;\n",
              "    }\n",
              "\n",
              "    .dataframe thead th {\n",
              "        text-align: right;\n",
              "    }\n",
              "</style>\n",
              "<table border=\"1\" class=\"dataframe\">\n",
              "  <thead>\n",
              "    <tr style=\"text-align: right;\">\n",
              "      <th></th>\n",
              "      <th>State</th>\n",
              "      <th>Date</th>\n",
              "      <th>Type</th>\n",
              "      <th>IA</th>\n",
              "      <th>PA</th>\n",
              "      <th>Residences Impacted</th>\n",
              "      <th>Destroyed</th>\n",
              "      <th>MajorDamage</th>\n",
              "      <th>MinorDamage</th>\n",
              "      <th>Affected</th>\n",
              "      <th>Insured</th>\n",
              "      <th>Low Income</th>\n",
              "      <th>Elderly</th>\n",
              "      <th>Primary Impact</th>\n",
              "      <th>Total PA cost estimate</th>\n",
              "      <th>Total IA cost estimate</th>\n",
              "      <th>month</th>\n",
              "    </tr>\n",
              "  </thead>\n",
              "  <tbody>\n",
              "    <tr>\n",
              "      <th>6</th>\n",
              "      <td>Louisiana</td>\n",
              "      <td>2017-10-16</td>\n",
              "      <td>6</td>\n",
              "      <td>1</td>\n",
              "      <td>1.0</td>\n",
              "      <td>312.0</td>\n",
              "      <td>19.0</td>\n",
              "      <td>48</td>\n",
              "      <td>226</td>\n",
              "      <td>19</td>\n",
              "      <td>3.2</td>\n",
              "      <td>75.0</td>\n",
              "      <td>84.3</td>\n",
              "      <td>Emergency Protective Measures</td>\n",
              "      <td>8301657</td>\n",
              "      <td>2794004</td>\n",
              "      <td>10</td>\n",
              "    </tr>\n",
              "    <tr>\n",
              "      <th>11</th>\n",
              "      <td>West Virginia</td>\n",
              "      <td>2017-08-18</td>\n",
              "      <td>9</td>\n",
              "      <td>1</td>\n",
              "      <td>1.0</td>\n",
              "      <td>793.0</td>\n",
              "      <td>29.0</td>\n",
              "      <td>132</td>\n",
              "      <td>306</td>\n",
              "      <td>326</td>\n",
              "      <td>6.0</td>\n",
              "      <td>81.0</td>\n",
              "      <td>20.0</td>\n",
              "      <td>Road &amp; Bridges</td>\n",
              "      <td>8528124</td>\n",
              "      <td>5706020</td>\n",
              "      <td>08</td>\n",
              "    </tr>\n",
              "  </tbody>\n",
              "</table>\n",
              "</div>"
            ],
            "text/plain": [
              "            State        Date  ...  Total IA cost estimate  month\n",
              "6       Louisiana  2017-10-16  ...                 2794004     10\n",
              "11  West Virginia  2017-08-18  ...                 5706020     08\n",
              "\n",
              "[2 rows x 17 columns]"
            ]
          },
          "metadata": {
            "tags": []
          },
          "execution_count": 46
        }
      ]
    },
    {
      "cell_type": "code",
      "metadata": {
        "id": "F8itJQejBu6B"
      },
      "source": [
        "#create dummy Variables, so there is no order ==> OneHotEncoder"
      ],
      "execution_count": null,
      "outputs": []
    },
    {
      "cell_type": "code",
      "metadata": {
        "id": "nARldoXEBu6G",
        "outputId": "48f4e1d0-ba90-41dc-9dca-0eb54b3375a2",
        "colab": {
          "base_uri": "https://localhost:8080/",
          "height": 330
        }
      },
      "source": [
        "null_v = df1.isnull().sum()\n",
        "print(null_v)"
      ],
      "execution_count": 47,
      "outputs": [
        {
          "output_type": "stream",
          "text": [
            "State                     0\n",
            "Date                      0\n",
            "Type                      0\n",
            "IA                        0\n",
            "PA                        0\n",
            "Residences Impacted       0\n",
            "Destroyed                 0\n",
            "MajorDamage               0\n",
            "MinorDamage               0\n",
            "Affected                  0\n",
            "Insured                   0\n",
            "Low Income                0\n",
            "Elderly                   0\n",
            "Primary Impact            0\n",
            "Total PA cost estimate    0\n",
            "Total IA cost estimate    0\n",
            "month                     0\n",
            "dtype: int64\n"
          ],
          "name": "stdout"
        }
      ]
    },
    {
      "cell_type": "code",
      "metadata": {
        "id": "RH0UyB01Bu6N"
      },
      "source": [
        "df1 = df1.drop([\"Primary Impact\",\"Elderly\",\"Total PA cost estimate\"], axis = 1)"
      ],
      "execution_count": 48,
      "outputs": []
    },
    {
      "cell_type": "code",
      "metadata": {
        "id": "iDtwTIIKBu6R",
        "outputId": "e16cd537-c984-4d71-b4a8-1e4c0098ba62",
        "colab": {
          "base_uri": "https://localhost:8080/",
          "height": 184
        }
      },
      "source": [
        "df1.head(2)"
      ],
      "execution_count": 49,
      "outputs": [
        {
          "output_type": "execute_result",
          "data": {
            "text/html": [
              "<div>\n",
              "<style scoped>\n",
              "    .dataframe tbody tr th:only-of-type {\n",
              "        vertical-align: middle;\n",
              "    }\n",
              "\n",
              "    .dataframe tbody tr th {\n",
              "        vertical-align: top;\n",
              "    }\n",
              "\n",
              "    .dataframe thead th {\n",
              "        text-align: right;\n",
              "    }\n",
              "</style>\n",
              "<table border=\"1\" class=\"dataframe\">\n",
              "  <thead>\n",
              "    <tr style=\"text-align: right;\">\n",
              "      <th></th>\n",
              "      <th>State</th>\n",
              "      <th>Date</th>\n",
              "      <th>Type</th>\n",
              "      <th>IA</th>\n",
              "      <th>PA</th>\n",
              "      <th>Residences Impacted</th>\n",
              "      <th>Destroyed</th>\n",
              "      <th>MajorDamage</th>\n",
              "      <th>MinorDamage</th>\n",
              "      <th>Affected</th>\n",
              "      <th>Insured</th>\n",
              "      <th>Low Income</th>\n",
              "      <th>Total IA cost estimate</th>\n",
              "      <th>month</th>\n",
              "    </tr>\n",
              "  </thead>\n",
              "  <tbody>\n",
              "    <tr>\n",
              "      <th>6</th>\n",
              "      <td>Louisiana</td>\n",
              "      <td>2017-10-16</td>\n",
              "      <td>6</td>\n",
              "      <td>1</td>\n",
              "      <td>1.0</td>\n",
              "      <td>312.0</td>\n",
              "      <td>19.0</td>\n",
              "      <td>48</td>\n",
              "      <td>226</td>\n",
              "      <td>19</td>\n",
              "      <td>3.2</td>\n",
              "      <td>75.0</td>\n",
              "      <td>2794004</td>\n",
              "      <td>10</td>\n",
              "    </tr>\n",
              "    <tr>\n",
              "      <th>11</th>\n",
              "      <td>West Virginia</td>\n",
              "      <td>2017-08-18</td>\n",
              "      <td>9</td>\n",
              "      <td>1</td>\n",
              "      <td>1.0</td>\n",
              "      <td>793.0</td>\n",
              "      <td>29.0</td>\n",
              "      <td>132</td>\n",
              "      <td>306</td>\n",
              "      <td>326</td>\n",
              "      <td>6.0</td>\n",
              "      <td>81.0</td>\n",
              "      <td>5706020</td>\n",
              "      <td>08</td>\n",
              "    </tr>\n",
              "  </tbody>\n",
              "</table>\n",
              "</div>"
            ],
            "text/plain": [
              "            State        Date  Type  ...  Low Income  Total IA cost estimate  month\n",
              "6       Louisiana  2017-10-16     6  ...        75.0                 2794004     10\n",
              "11  West Virginia  2017-08-18     9  ...        81.0                 5706020     08\n",
              "\n",
              "[2 rows x 14 columns]"
            ]
          },
          "metadata": {
            "tags": []
          },
          "execution_count": 49
        }
      ]
    },
    {
      "cell_type": "markdown",
      "metadata": {
        "id": "QqXWNWyOBu6X"
      },
      "source": [
        "# Outlier"
      ]
    },
    {
      "cell_type": "code",
      "metadata": {
        "id": "Ix8ZRqJQBu6p",
        "outputId": "436eac29-dd7a-4197-c2d3-19697cd74eda",
        "colab": {
          "base_uri": "https://localhost:8080/",
          "height": 224
        }
      },
      "source": [
        "df1 = df1.iloc[:,5:-1]\n",
        "df1.head()"
      ],
      "execution_count": 50,
      "outputs": [
        {
          "output_type": "execute_result",
          "data": {
            "text/html": [
              "<div>\n",
              "<style scoped>\n",
              "    .dataframe tbody tr th:only-of-type {\n",
              "        vertical-align: middle;\n",
              "    }\n",
              "\n",
              "    .dataframe tbody tr th {\n",
              "        vertical-align: top;\n",
              "    }\n",
              "\n",
              "    .dataframe thead th {\n",
              "        text-align: right;\n",
              "    }\n",
              "</style>\n",
              "<table border=\"1\" class=\"dataframe\">\n",
              "  <thead>\n",
              "    <tr style=\"text-align: right;\">\n",
              "      <th></th>\n",
              "      <th>Residences Impacted</th>\n",
              "      <th>Destroyed</th>\n",
              "      <th>MajorDamage</th>\n",
              "      <th>MinorDamage</th>\n",
              "      <th>Affected</th>\n",
              "      <th>Insured</th>\n",
              "      <th>Low Income</th>\n",
              "      <th>Total IA cost estimate</th>\n",
              "    </tr>\n",
              "  </thead>\n",
              "  <tbody>\n",
              "    <tr>\n",
              "      <th>6</th>\n",
              "      <td>312.0</td>\n",
              "      <td>19.0</td>\n",
              "      <td>48</td>\n",
              "      <td>226</td>\n",
              "      <td>19</td>\n",
              "      <td>3.20</td>\n",
              "      <td>75.0</td>\n",
              "      <td>2794004</td>\n",
              "    </tr>\n",
              "    <tr>\n",
              "      <th>11</th>\n",
              "      <td>793.0</td>\n",
              "      <td>29.0</td>\n",
              "      <td>132</td>\n",
              "      <td>306</td>\n",
              "      <td>326</td>\n",
              "      <td>6.00</td>\n",
              "      <td>81.0</td>\n",
              "      <td>5706020</td>\n",
              "    </tr>\n",
              "    <tr>\n",
              "      <th>16</th>\n",
              "      <td>941.0</td>\n",
              "      <td>8.0</td>\n",
              "      <td>310</td>\n",
              "      <td>367</td>\n",
              "      <td>256</td>\n",
              "      <td>28.20</td>\n",
              "      <td>19.7</td>\n",
              "      <td>7288861</td>\n",
              "    </tr>\n",
              "    <tr>\n",
              "      <th>22</th>\n",
              "      <td>212.0</td>\n",
              "      <td>46.0</td>\n",
              "      <td>67</td>\n",
              "      <td>47</td>\n",
              "      <td>52</td>\n",
              "      <td>14.00</td>\n",
              "      <td>35.0</td>\n",
              "      <td>2118747</td>\n",
              "    </tr>\n",
              "    <tr>\n",
              "      <th>24</th>\n",
              "      <td>827.0</td>\n",
              "      <td>41.0</td>\n",
              "      <td>310</td>\n",
              "      <td>233</td>\n",
              "      <td>243</td>\n",
              "      <td>8.83</td>\n",
              "      <td>52.1</td>\n",
              "      <td>9603344</td>\n",
              "    </tr>\n",
              "  </tbody>\n",
              "</table>\n",
              "</div>"
            ],
            "text/plain": [
              "    Residences Impacted  Destroyed  ...  Low Income  Total IA cost estimate\n",
              "6                 312.0       19.0  ...        75.0                 2794004\n",
              "11                793.0       29.0  ...        81.0                 5706020\n",
              "16                941.0        8.0  ...        19.7                 7288861\n",
              "22                212.0       46.0  ...        35.0                 2118747\n",
              "24                827.0       41.0  ...        52.1                 9603344\n",
              "\n",
              "[5 rows x 8 columns]"
            ]
          },
          "metadata": {
            "tags": []
          },
          "execution_count": 50
        }
      ]
    },
    {
      "cell_type": "code",
      "metadata": {
        "id": "me7CrIFwBu6v",
        "outputId": "083484c4-4d91-49f0-fe3a-c0ac01adbea5",
        "colab": {
          "base_uri": "https://localhost:8080/",
          "height": 139
        }
      },
      "source": [
        "from scipy import stats\n",
        "z = abs(stats.zscore(df1))\n",
        "print(z)"
      ],
      "execution_count": 51,
      "outputs": [
        {
          "output_type": "stream",
          "text": [
            "[[0.40866797 0.3599869  0.39348647 ... 0.90333087 2.19150892 0.50737135]\n",
            " [0.24926464 0.34833825 0.33133436 ... 0.80981719 2.50153607 0.35791445]\n",
            " [0.20021746 0.37280042 0.19963108 ... 0.06838728 0.66590798 0.2766764 ]\n",
            " ...\n",
            " [0.37052385 0.23686062 0.07310714 ... 0.02062851 2.37752521 0.5246034 ]\n",
            " [0.38732582 0.22509548 0.10936254 ... 0.06437955 2.70563727 0.47500451]\n",
            " [0.4041278  0.21333034 0.34613248 ... 0.1081306  3.03374934 0.39586138]]\n"
          ],
          "name": "stdout"
        }
      ]
    },
    {
      "cell_type": "code",
      "metadata": {
        "id": "IH4w6aMVBu60",
        "outputId": "377f4b7a-227c-4864-d10b-06b9e1a13e56",
        "colab": {
          "base_uri": "https://localhost:8080/",
          "height": 34
        }
      },
      "source": [
        "np.shape(z)"
      ],
      "execution_count": 52,
      "outputs": [
        {
          "output_type": "execute_result",
          "data": {
            "text/plain": [
              "(201, 8)"
            ]
          },
          "metadata": {
            "tags": []
          },
          "execution_count": 52
        }
      ]
    },
    {
      "cell_type": "code",
      "metadata": {
        "id": "AzH1SMP7Bu65"
      },
      "source": [
        "threshold = 3\n",
        "row_del=np.where(np.array(z) > 3)[0]"
      ],
      "execution_count": 53,
      "outputs": []
    },
    {
      "cell_type": "code",
      "metadata": {
        "id": "xTzf3EvABu6-",
        "outputId": "0c686f26-5bfa-49c7-d428-a991a01548aa",
        "colab": {
          "base_uri": "https://localhost:8080/",
          "height": 72
        }
      },
      "source": [
        "llp=[list(row_del.T)]\n",
        "df1 = df1.drop(df1.index[llp])"
      ],
      "execution_count": 54,
      "outputs": [
        {
          "output_type": "stream",
          "text": [
            "/usr/local/lib/python3.6/dist-packages/pandas/core/indexes/base.py:4107: FutureWarning: Using a non-tuple sequence for multidimensional indexing is deprecated; use `arr[tuple(seq)]` instead of `arr[seq]`. In the future this will be interpreted as an array index, `arr[np.array(seq)]`, which will result either in an error or a different result.\n",
            "  result = getitem(key)\n"
          ],
          "name": "stderr"
        }
      ]
    },
    {
      "cell_type": "code",
      "metadata": {
        "id": "RPCd8cYgBu7B",
        "outputId": "9294f5bf-3f58-4e6d-eb12-1484db52542c",
        "colab": {
          "base_uri": "https://localhost:8080/",
          "height": 278
        }
      },
      "source": [
        "df1.info()"
      ],
      "execution_count": 55,
      "outputs": [
        {
          "output_type": "stream",
          "text": [
            "<class 'pandas.core.frame.DataFrame'>\n",
            "Int64Index: 186 entries, 6 to 340\n",
            "Data columns (total 8 columns):\n",
            " #   Column                  Non-Null Count  Dtype  \n",
            "---  ------                  --------------  -----  \n",
            " 0   Residences Impacted     186 non-null    float64\n",
            " 1   Destroyed               186 non-null    float64\n",
            " 2   MajorDamage             186 non-null    int64  \n",
            " 3   MinorDamage             186 non-null    int64  \n",
            " 4   Affected                186 non-null    int64  \n",
            " 5   Insured                 186 non-null    float64\n",
            " 6   Low Income              186 non-null    float64\n",
            " 7   Total IA cost estimate  186 non-null    int64  \n",
            "dtypes: float64(4), int64(4)\n",
            "memory usage: 13.1 KB\n"
          ],
          "name": "stdout"
        }
      ]
    },
    {
      "cell_type": "code",
      "metadata": {
        "id": "Wn43SfhLBu7F"
      },
      "source": [
        "Y = df1[\"Total IA cost estimate\"]"
      ],
      "execution_count": 56,
      "outputs": []
    },
    {
      "cell_type": "code",
      "metadata": {
        "id": "rySCHh6iw5kL",
        "outputId": "40c7cca3-352f-4fbb-fba9-8ab3bd4bf44c",
        "colab": {
          "base_uri": "https://localhost:8080/",
          "height": 225
        }
      },
      "source": [
        "Y"
      ],
      "execution_count": 57,
      "outputs": [
        {
          "output_type": "execute_result",
          "data": {
            "text/plain": [
              "6       2794004\n",
              "11      5706020\n",
              "16      7288861\n",
              "22      2118747\n",
              "24      9603344\n",
              "         ...   \n",
              "336     2721659\n",
              "337     3424639\n",
              "338    20392577\n",
              "339     2458255\n",
              "340     3424639\n",
              "Name: Total IA cost estimate, Length: 186, dtype: int64"
            ]
          },
          "metadata": {
            "tags": []
          },
          "execution_count": 57
        }
      ]
    },
    {
      "cell_type": "code",
      "metadata": {
        "id": "qhrzd_kVBu7I",
        "outputId": "63e1ebad-3b02-4d1a-8577-b9dc24a616d7",
        "colab": {
          "base_uri": "https://localhost:8080/",
          "height": 224
        }
      },
      "source": [
        "df1.head()"
      ],
      "execution_count": 58,
      "outputs": [
        {
          "output_type": "execute_result",
          "data": {
            "text/html": [
              "<div>\n",
              "<style scoped>\n",
              "    .dataframe tbody tr th:only-of-type {\n",
              "        vertical-align: middle;\n",
              "    }\n",
              "\n",
              "    .dataframe tbody tr th {\n",
              "        vertical-align: top;\n",
              "    }\n",
              "\n",
              "    .dataframe thead th {\n",
              "        text-align: right;\n",
              "    }\n",
              "</style>\n",
              "<table border=\"1\" class=\"dataframe\">\n",
              "  <thead>\n",
              "    <tr style=\"text-align: right;\">\n",
              "      <th></th>\n",
              "      <th>Residences Impacted</th>\n",
              "      <th>Destroyed</th>\n",
              "      <th>MajorDamage</th>\n",
              "      <th>MinorDamage</th>\n",
              "      <th>Affected</th>\n",
              "      <th>Insured</th>\n",
              "      <th>Low Income</th>\n",
              "      <th>Total IA cost estimate</th>\n",
              "    </tr>\n",
              "  </thead>\n",
              "  <tbody>\n",
              "    <tr>\n",
              "      <th>6</th>\n",
              "      <td>312.0</td>\n",
              "      <td>19.0</td>\n",
              "      <td>48</td>\n",
              "      <td>226</td>\n",
              "      <td>19</td>\n",
              "      <td>3.20</td>\n",
              "      <td>75.0</td>\n",
              "      <td>2794004</td>\n",
              "    </tr>\n",
              "    <tr>\n",
              "      <th>11</th>\n",
              "      <td>793.0</td>\n",
              "      <td>29.0</td>\n",
              "      <td>132</td>\n",
              "      <td>306</td>\n",
              "      <td>326</td>\n",
              "      <td>6.00</td>\n",
              "      <td>81.0</td>\n",
              "      <td>5706020</td>\n",
              "    </tr>\n",
              "    <tr>\n",
              "      <th>16</th>\n",
              "      <td>941.0</td>\n",
              "      <td>8.0</td>\n",
              "      <td>310</td>\n",
              "      <td>367</td>\n",
              "      <td>256</td>\n",
              "      <td>28.20</td>\n",
              "      <td>19.7</td>\n",
              "      <td>7288861</td>\n",
              "    </tr>\n",
              "    <tr>\n",
              "      <th>22</th>\n",
              "      <td>212.0</td>\n",
              "      <td>46.0</td>\n",
              "      <td>67</td>\n",
              "      <td>47</td>\n",
              "      <td>52</td>\n",
              "      <td>14.00</td>\n",
              "      <td>35.0</td>\n",
              "      <td>2118747</td>\n",
              "    </tr>\n",
              "    <tr>\n",
              "      <th>24</th>\n",
              "      <td>827.0</td>\n",
              "      <td>41.0</td>\n",
              "      <td>310</td>\n",
              "      <td>233</td>\n",
              "      <td>243</td>\n",
              "      <td>8.83</td>\n",
              "      <td>52.1</td>\n",
              "      <td>9603344</td>\n",
              "    </tr>\n",
              "  </tbody>\n",
              "</table>\n",
              "</div>"
            ],
            "text/plain": [
              "    Residences Impacted  Destroyed  ...  Low Income  Total IA cost estimate\n",
              "6                 312.0       19.0  ...        75.0                 2794004\n",
              "11                793.0       29.0  ...        81.0                 5706020\n",
              "16                941.0        8.0  ...        19.7                 7288861\n",
              "22                212.0       46.0  ...        35.0                 2118747\n",
              "24                827.0       41.0  ...        52.1                 9603344\n",
              "\n",
              "[5 rows x 8 columns]"
            ]
          },
          "metadata": {
            "tags": []
          },
          "execution_count": 58
        }
      ]
    },
    {
      "cell_type": "code",
      "metadata": {
        "id": "Z00ZIuO8Bu7O"
      },
      "source": [
        "X = df1.iloc[:,:-1]"
      ],
      "execution_count": 59,
      "outputs": []
    },
    {
      "cell_type": "code",
      "metadata": {
        "id": "KDTTHapUw3hy",
        "outputId": "fae2844b-bfd1-405d-d226-92cd1debfa5b",
        "colab": {
          "base_uri": "https://localhost:8080/",
          "height": 424
        }
      },
      "source": [
        "X"
      ],
      "execution_count": 60,
      "outputs": [
        {
          "output_type": "execute_result",
          "data": {
            "text/html": [
              "<div>\n",
              "<style scoped>\n",
              "    .dataframe tbody tr th:only-of-type {\n",
              "        vertical-align: middle;\n",
              "    }\n",
              "\n",
              "    .dataframe tbody tr th {\n",
              "        vertical-align: top;\n",
              "    }\n",
              "\n",
              "    .dataframe thead th {\n",
              "        text-align: right;\n",
              "    }\n",
              "</style>\n",
              "<table border=\"1\" class=\"dataframe\">\n",
              "  <thead>\n",
              "    <tr style=\"text-align: right;\">\n",
              "      <th></th>\n",
              "      <th>Residences Impacted</th>\n",
              "      <th>Destroyed</th>\n",
              "      <th>MajorDamage</th>\n",
              "      <th>MinorDamage</th>\n",
              "      <th>Affected</th>\n",
              "      <th>Insured</th>\n",
              "      <th>Low Income</th>\n",
              "    </tr>\n",
              "  </thead>\n",
              "  <tbody>\n",
              "    <tr>\n",
              "      <th>6</th>\n",
              "      <td>312.0</td>\n",
              "      <td>19.0</td>\n",
              "      <td>48</td>\n",
              "      <td>226</td>\n",
              "      <td>19</td>\n",
              "      <td>3.20</td>\n",
              "      <td>75.00</td>\n",
              "    </tr>\n",
              "    <tr>\n",
              "      <th>11</th>\n",
              "      <td>793.0</td>\n",
              "      <td>29.0</td>\n",
              "      <td>132</td>\n",
              "      <td>306</td>\n",
              "      <td>326</td>\n",
              "      <td>6.00</td>\n",
              "      <td>81.00</td>\n",
              "    </tr>\n",
              "    <tr>\n",
              "      <th>16</th>\n",
              "      <td>941.0</td>\n",
              "      <td>8.0</td>\n",
              "      <td>310</td>\n",
              "      <td>367</td>\n",
              "      <td>256</td>\n",
              "      <td>28.20</td>\n",
              "      <td>19.70</td>\n",
              "    </tr>\n",
              "    <tr>\n",
              "      <th>22</th>\n",
              "      <td>212.0</td>\n",
              "      <td>46.0</td>\n",
              "      <td>67</td>\n",
              "      <td>47</td>\n",
              "      <td>52</td>\n",
              "      <td>14.00</td>\n",
              "      <td>35.00</td>\n",
              "    </tr>\n",
              "    <tr>\n",
              "      <th>24</th>\n",
              "      <td>827.0</td>\n",
              "      <td>41.0</td>\n",
              "      <td>310</td>\n",
              "      <td>233</td>\n",
              "      <td>243</td>\n",
              "      <td>8.83</td>\n",
              "      <td>52.10</td>\n",
              "    </tr>\n",
              "    <tr>\n",
              "      <th>...</th>\n",
              "      <td>...</td>\n",
              "      <td>...</td>\n",
              "      <td>...</td>\n",
              "      <td>...</td>\n",
              "      <td>...</td>\n",
              "      <td>...</td>\n",
              "      <td>...</td>\n",
              "    </tr>\n",
              "    <tr>\n",
              "      <th>336</th>\n",
              "      <td>579.2</td>\n",
              "      <td>94.4</td>\n",
              "      <td>107</td>\n",
              "      <td>213</td>\n",
              "      <td>177</td>\n",
              "      <td>33.56</td>\n",
              "      <td>59.55</td>\n",
              "    </tr>\n",
              "    <tr>\n",
              "      <th>337</th>\n",
              "      <td>528.5</td>\n",
              "      <td>104.5</td>\n",
              "      <td>185</td>\n",
              "      <td>351</td>\n",
              "      <td>42</td>\n",
              "      <td>32.25</td>\n",
              "      <td>65.90</td>\n",
              "    </tr>\n",
              "    <tr>\n",
              "      <th>338</th>\n",
              "      <td>477.8</td>\n",
              "      <td>114.6</td>\n",
              "      <td>631</td>\n",
              "      <td>684</td>\n",
              "      <td>92</td>\n",
              "      <td>30.94</td>\n",
              "      <td>72.25</td>\n",
              "    </tr>\n",
              "    <tr>\n",
              "      <th>339</th>\n",
              "      <td>427.1</td>\n",
              "      <td>124.7</td>\n",
              "      <td>481</td>\n",
              "      <td>569</td>\n",
              "      <td>142</td>\n",
              "      <td>29.63</td>\n",
              "      <td>78.60</td>\n",
              "    </tr>\n",
              "    <tr>\n",
              "      <th>340</th>\n",
              "      <td>376.4</td>\n",
              "      <td>134.8</td>\n",
              "      <td>432</td>\n",
              "      <td>542</td>\n",
              "      <td>191</td>\n",
              "      <td>28.32</td>\n",
              "      <td>84.95</td>\n",
              "    </tr>\n",
              "  </tbody>\n",
              "</table>\n",
              "<p>186 rows × 7 columns</p>\n",
              "</div>"
            ],
            "text/plain": [
              "     Residences Impacted  Destroyed  MajorDamage  ...  Affected  Insured  Low Income\n",
              "6                  312.0       19.0           48  ...        19     3.20       75.00\n",
              "11                 793.0       29.0          132  ...       326     6.00       81.00\n",
              "16                 941.0        8.0          310  ...       256    28.20       19.70\n",
              "22                 212.0       46.0           67  ...        52    14.00       35.00\n",
              "24                 827.0       41.0          310  ...       243     8.83       52.10\n",
              "..                   ...        ...          ...  ...       ...      ...         ...\n",
              "336                579.2       94.4          107  ...       177    33.56       59.55\n",
              "337                528.5      104.5          185  ...        42    32.25       65.90\n",
              "338                477.8      114.6          631  ...        92    30.94       72.25\n",
              "339                427.1      124.7          481  ...       142    29.63       78.60\n",
              "340                376.4      134.8          432  ...       191    28.32       84.95\n",
              "\n",
              "[186 rows x 7 columns]"
            ]
          },
          "metadata": {
            "tags": []
          },
          "execution_count": 60
        }
      ]
    },
    {
      "cell_type": "code",
      "metadata": {
        "id": "Upf150ypwVTS",
        "outputId": "52938528-8341-468e-b291-87364a8702a5",
        "colab": {
          "base_uri": "https://localhost:8080/",
          "height": 590
        }
      },
      "source": [
        "import statsmodels.api as sm\n",
        "from scipy import stats\n",
        "\n",
        "\n",
        "X2 = sm.add_constant(X)\n",
        "est = sm.OLS(Y, X2)\n",
        "est2 = est.fit()\n",
        "print(est2.summary())"
      ],
      "execution_count": 61,
      "outputs": [
        {
          "output_type": "stream",
          "text": [
            "                              OLS Regression Results                              \n",
            "==================================================================================\n",
            "Dep. Variable:     Total IA cost estimate   R-squared:                       0.577\n",
            "Model:                                OLS   Adj. R-squared:                  0.561\n",
            "Method:                     Least Squares   F-statistic:                     34.74\n",
            "Date:                    Tue, 20 Oct 2020   Prob (F-statistic):           3.11e-30\n",
            "Time:                            21:51:44   Log-Likelihood:                -3197.9\n",
            "No. Observations:                     186   AIC:                             6412.\n",
            "Df Residuals:                         178   BIC:                             6438.\n",
            "Df Model:                               7                                         \n",
            "Covariance Type:                nonrobust                                         \n",
            "=======================================================================================\n",
            "                          coef    std err          t      P>|t|      [0.025      0.975]\n",
            "---------------------------------------------------------------------------------------\n",
            "const                 9.89e+06   1.41e+06      7.016      0.000    7.11e+06    1.27e+07\n",
            "Residences Impacted -4862.8085   2509.412     -1.938      0.054   -9814.834      89.217\n",
            "Destroyed            1.238e+04   4183.549      2.958      0.004    4120.747    2.06e+04\n",
            "MajorDamage           1.41e+04   3193.652      4.416      0.000    7799.948    2.04e+04\n",
            "MinorDamage          4894.9258   3568.271      1.372      0.172   -2146.632    1.19e+04\n",
            "Affected             1.477e+04   4031.636      3.663      0.000    6812.665    2.27e+04\n",
            "Insured              -2.06e+05   2.76e+04     -7.462      0.000    -2.6e+05   -1.52e+05\n",
            "Low Income          -4.592e+04      3e+04     -1.529      0.128   -1.05e+05    1.33e+04\n",
            "==============================================================================\n",
            "Omnibus:                       76.944   Durbin-Watson:                   1.934\n",
            "Prob(Omnibus):                  0.000   Jarque-Bera (JB):             1002.611\n",
            "Skew:                           1.128   Prob(JB):                    1.93e-218\n",
            "Kurtosis:                      14.148   Cond. No.                     4.54e+03\n",
            "==============================================================================\n",
            "\n",
            "Warnings:\n",
            "[1] Standard Errors assume that the covariance matrix of the errors is correctly specified.\n",
            "[2] The condition number is large, 4.54e+03. This might indicate that there are\n",
            "strong multicollinearity or other numerical problems.\n"
          ],
          "name": "stdout"
        }
      ]
    },
    {
      "cell_type": "code",
      "metadata": {
        "id": "ccEu0XBu_O2I"
      },
      "source": [
        "X = df1[[\"Destroyed\",\"MajorDamage\",\"Affected\",\"Insured\"]]"
      ],
      "execution_count": 64,
      "outputs": []
    },
    {
      "cell_type": "code",
      "metadata": {
        "id": "MBQHs3jLATjm",
        "outputId": "89dc311c-1827-4b5f-dc00-406079076143",
        "colab": {
          "base_uri": "https://localhost:8080/",
          "height": 424
        }
      },
      "source": [
        "X"
      ],
      "execution_count": 65,
      "outputs": [
        {
          "output_type": "execute_result",
          "data": {
            "text/html": [
              "<div>\n",
              "<style scoped>\n",
              "    .dataframe tbody tr th:only-of-type {\n",
              "        vertical-align: middle;\n",
              "    }\n",
              "\n",
              "    .dataframe tbody tr th {\n",
              "        vertical-align: top;\n",
              "    }\n",
              "\n",
              "    .dataframe thead th {\n",
              "        text-align: right;\n",
              "    }\n",
              "</style>\n",
              "<table border=\"1\" class=\"dataframe\">\n",
              "  <thead>\n",
              "    <tr style=\"text-align: right;\">\n",
              "      <th></th>\n",
              "      <th>Destroyed</th>\n",
              "      <th>MajorDamage</th>\n",
              "      <th>Affected</th>\n",
              "      <th>Insured</th>\n",
              "    </tr>\n",
              "  </thead>\n",
              "  <tbody>\n",
              "    <tr>\n",
              "      <th>6</th>\n",
              "      <td>19.0</td>\n",
              "      <td>48</td>\n",
              "      <td>19</td>\n",
              "      <td>3.20</td>\n",
              "    </tr>\n",
              "    <tr>\n",
              "      <th>11</th>\n",
              "      <td>29.0</td>\n",
              "      <td>132</td>\n",
              "      <td>326</td>\n",
              "      <td>6.00</td>\n",
              "    </tr>\n",
              "    <tr>\n",
              "      <th>16</th>\n",
              "      <td>8.0</td>\n",
              "      <td>310</td>\n",
              "      <td>256</td>\n",
              "      <td>28.20</td>\n",
              "    </tr>\n",
              "    <tr>\n",
              "      <th>22</th>\n",
              "      <td>46.0</td>\n",
              "      <td>67</td>\n",
              "      <td>52</td>\n",
              "      <td>14.00</td>\n",
              "    </tr>\n",
              "    <tr>\n",
              "      <th>24</th>\n",
              "      <td>41.0</td>\n",
              "      <td>310</td>\n",
              "      <td>243</td>\n",
              "      <td>8.83</td>\n",
              "    </tr>\n",
              "    <tr>\n",
              "      <th>...</th>\n",
              "      <td>...</td>\n",
              "      <td>...</td>\n",
              "      <td>...</td>\n",
              "      <td>...</td>\n",
              "    </tr>\n",
              "    <tr>\n",
              "      <th>336</th>\n",
              "      <td>94.4</td>\n",
              "      <td>107</td>\n",
              "      <td>177</td>\n",
              "      <td>33.56</td>\n",
              "    </tr>\n",
              "    <tr>\n",
              "      <th>337</th>\n",
              "      <td>104.5</td>\n",
              "      <td>185</td>\n",
              "      <td>42</td>\n",
              "      <td>32.25</td>\n",
              "    </tr>\n",
              "    <tr>\n",
              "      <th>338</th>\n",
              "      <td>114.6</td>\n",
              "      <td>631</td>\n",
              "      <td>92</td>\n",
              "      <td>30.94</td>\n",
              "    </tr>\n",
              "    <tr>\n",
              "      <th>339</th>\n",
              "      <td>124.7</td>\n",
              "      <td>481</td>\n",
              "      <td>142</td>\n",
              "      <td>29.63</td>\n",
              "    </tr>\n",
              "    <tr>\n",
              "      <th>340</th>\n",
              "      <td>134.8</td>\n",
              "      <td>432</td>\n",
              "      <td>191</td>\n",
              "      <td>28.32</td>\n",
              "    </tr>\n",
              "  </tbody>\n",
              "</table>\n",
              "<p>186 rows × 4 columns</p>\n",
              "</div>"
            ],
            "text/plain": [
              "     Destroyed  MajorDamage  Affected  Insured\n",
              "6         19.0           48        19     3.20\n",
              "11        29.0          132       326     6.00\n",
              "16         8.0          310       256    28.20\n",
              "22        46.0           67        52    14.00\n",
              "24        41.0          310       243     8.83\n",
              "..         ...          ...       ...      ...\n",
              "336       94.4          107       177    33.56\n",
              "337      104.5          185        42    32.25\n",
              "338      114.6          631        92    30.94\n",
              "339      124.7          481       142    29.63\n",
              "340      134.8          432       191    28.32\n",
              "\n",
              "[186 rows x 4 columns]"
            ]
          },
          "metadata": {
            "tags": []
          },
          "execution_count": 65
        }
      ]
    },
    {
      "cell_type": "code",
      "metadata": {
        "id": "dtzpNN4qBu7V"
      },
      "source": [
        "import seaborn as sns"
      ],
      "execution_count": 66,
      "outputs": []
    },
    {
      "cell_type": "code",
      "metadata": {
        "id": "aoSuYPvWBu7Y",
        "outputId": "b608e122-521d-45be-d1e6-08adcce07329",
        "colab": {
          "base_uri": "https://localhost:8080/",
          "height": 567
        }
      },
      "source": [
        "sns.pairplot(df1[[\"Total IA cost estimate\", \"Low Income\", \"Insured\"]], diag_kind=\"kde\")"
      ],
      "execution_count": 67,
      "outputs": [
        {
          "output_type": "execute_result",
          "data": {
            "text/plain": [
              "<seaborn.axisgrid.PairGrid at 0x7fd0c48990f0>"
            ]
          },
          "metadata": {
            "tags": []
          },
          "execution_count": 67
        },
        {
          "output_type": "display_data",
          "data": {
            "image/png": "[encoded data removed]",
            "text/plain": [
              "<Figure size 540x540 with 12 Axes>"
            ]
          },
          "metadata": {
            "tags": [],
            "needs_background": "light"
          }
        }
      ]
    },
    {
      "cell_type": "code",
      "metadata": {
        "id": "_NwqgKCOBu7d"
      },
      "source": [
        "import matplotlib.pyplot as plt\n",
        "%matplotlib inline"
      ],
      "execution_count": 68,
      "outputs": []
    },
    {
      "cell_type": "code",
      "metadata": {
        "id": "r9rwGJbTBu7h",
        "outputId": "d43d5ee5-369f-40ed-9e29-5d69c1e9fe3a",
        "colab": {
          "base_uri": "https://localhost:8080/",
          "height": 295
        }
      },
      "source": [
        "plt.hist(Y)\n",
        "plt.show"
      ],
      "execution_count": 69,
      "outputs": [
        {
          "output_type": "execute_result",
          "data": {
            "text/plain": [
              "<function matplotlib.pyplot.show>"
            ]
          },
          "metadata": {
            "tags": []
          },
          "execution_count": 69
        },
        {
          "output_type": "display_data",
          "data": {
            "image/png": "[encoded data removed]",
            "text/plain": [
              "<Figure size 432x288 with 1 Axes>"
            ]
          },
          "metadata": {
            "tags": [],
            "needs_background": "light"
          }
        }
      ]
    },
    {
      "cell_type": "code",
      "metadata": {
        "id": "-oo65mwLBu7m"
      },
      "source": [
        ""
      ],
      "execution_count": null,
      "outputs": []
    },
    {
      "cell_type": "markdown",
      "metadata": {
        "id": "xWhC_LrsBu7p"
      },
      "source": [
        "# Linear Regression"
      ]
    },
    {
      "cell_type": "code",
      "metadata": {
        "id": "36kE8ljEBu7q"
      },
      "source": [
        "from sklearn.linear_model import LinearRegression\n",
        "from sklearn import preprocessing\n",
        "from sklearn.model_selection import train_test_split"
      ],
      "execution_count": 70,
      "outputs": []
    },
    {
      "cell_type": "code",
      "metadata": {
        "id": "ReACMAz4Bu7w"
      },
      "source": [
        "X_train, X_test,Y_train, Y_test = train_test_split(X,Y, test_size=0.25, random_state= 0)"
      ],
      "execution_count": 71,
      "outputs": []
    },
    {
      "cell_type": "code",
      "metadata": {
        "id": "NyWzXl7HBu72",
        "outputId": "88f745d8-c0cf-425d-b856-0d8f5c9b71ba",
        "colab": {
          "base_uri": "https://localhost:8080/",
          "height": 34
        }
      },
      "source": [
        "X_train.shape, Y_train.shape, X_test.shape, Y_test. shape"
      ],
      "execution_count": 72,
      "outputs": [
        {
          "output_type": "execute_result",
          "data": {
            "text/plain": [
              "((139, 4), (139,), (47, 4), (47,))"
            ]
          },
          "metadata": {
            "tags": []
          },
          "execution_count": 72
        }
      ]
    },
    {
      "cell_type": "code",
      "metadata": {
        "id": "Ocg0qrqXBu75"
      },
      "source": [
        "#Feature Scaling\n",
        "from sklearn.preprocessing import StandardScaler\n",
        "sc_X = StandardScaler()\n",
        "X_train = sc_X.fit_transform(X_train)\n",
        "X_test = sc_X.transform(X_test)\n",
        "# no differnce to where to do the scaling"
      ],
      "execution_count": 73,
      "outputs": []
    },
    {
      "cell_type": "code",
      "metadata": {
        "id": "SaS1muYxBu7_"
      },
      "source": [
        "from sklearn.metrics import mean_squared_error, r2_score"
      ],
      "execution_count": 74,
      "outputs": []
    },
    {
      "cell_type": "code",
      "metadata": {
        "id": "gx0wG6LnBu8D",
        "outputId": "feadd7c3-772f-4651-92b7-4c99bed9ba1a",
        "colab": {
          "base_uri": "https://localhost:8080/",
          "height": 34
        }
      },
      "source": [
        "reg = LinearRegression()\n",
        "reg.fit(X_train,Y_train)"
      ],
      "execution_count": 75,
      "outputs": [
        {
          "output_type": "execute_result",
          "data": {
            "text/plain": [
              "LinearRegression(copy_X=True, fit_intercept=True, n_jobs=None, normalize=False)"
            ]
          },
          "metadata": {
            "tags": []
          },
          "execution_count": 75
        }
      ]
    },
    {
      "cell_type": "code",
      "metadata": {
        "id": "dTNt8JVoBu8H",
        "outputId": "8696e9b0-c12c-4056-bcd4-015944ff159e",
        "colab": {
          "base_uri": "https://localhost:8080/",
          "height": 52
        }
      },
      "source": [
        "reg.coef_"
      ],
      "execution_count": 76,
      "outputs": [
        {
          "output_type": "execute_result",
          "data": {
            "text/plain": [
              "array([ 2195923.22555212,  6831425.27407519,  2600965.93124909,\n",
              "       -4471603.61371325])"
            ]
          },
          "metadata": {
            "tags": []
          },
          "execution_count": 76
        }
      ]
    },
    {
      "cell_type": "code",
      "metadata": {
        "id": "DaAPrB4RBu8O",
        "outputId": "ff84d606-4f29-4430-b29f-417b043963cc",
        "colab": {
          "base_uri": "https://localhost:8080/",
          "height": 34
        }
      },
      "source": [
        "reg.intercept_"
      ],
      "execution_count": 77,
      "outputs": [
        {
          "output_type": "execute_result",
          "data": {
            "text/plain": [
              "9608748.834532375"
            ]
          },
          "metadata": {
            "tags": []
          },
          "execution_count": 77
        }
      ]
    },
    {
      "cell_type": "code",
      "metadata": {
        "id": "7jli2jWFBu8R",
        "outputId": "64d0cd35-e5e4-48a5-e70a-2ce5ea04b66e",
        "colab": {
          "base_uri": "https://localhost:8080/",
          "height": 34
        }
      },
      "source": [
        "reg.score(X_test,Y_test)"
      ],
      "execution_count": 78,
      "outputs": [
        {
          "output_type": "execute_result",
          "data": {
            "text/plain": [
              "0.5252433631369677"
            ]
          },
          "metadata": {
            "tags": []
          },
          "execution_count": 78
        }
      ]
    },
    {
      "cell_type": "code",
      "metadata": {
        "id": "QflI74uABu8V",
        "outputId": "bd5c76c9-2cf7-4599-f440-18b8a11d3439",
        "colab": {
          "base_uri": "https://localhost:8080/",
          "height": 191
        }
      },
      "source": [
        "for X,Y in list(zip(X_test, Y_test))[:10]:\n",
        "    print(f\"model predicts {reg.predict([X])[0]}, real value: {Y}\")"
      ],
      "execution_count": 79,
      "outputs": [
        {
          "output_type": "stream",
          "text": [
            "model predicts 8514656.232496839, real value: 2898144\n",
            "model predicts 10768110.411272034, real value: 8217565\n",
            "model predicts 9703323.044503525, real value: 4442309\n",
            "model predicts 15663764.94452927, real value: 21213290\n",
            "model predicts 1414956.45816035, real value: 1866271\n",
            "model predicts 15663764.94452927, real value: 21213290\n",
            "model predicts 8967760.755297616, real value: 223932\n",
            "model predicts 8514656.232496839, real value: 2898144\n",
            "model predicts 1414956.45816035, real value: 1866271\n",
            "model predicts 9012513.361696396, real value: 9047850\n"
          ],
          "name": "stdout"
        }
      ]
    },
    {
      "cell_type": "code",
      "metadata": {
        "id": "xyJPeouVBu8Z"
      },
      "source": [
        "y_predict = reg.predict(X_test)"
      ],
      "execution_count": 80,
      "outputs": []
    },
    {
      "cell_type": "code",
      "metadata": {
        "id": "4gxHD6BJBu8d",
        "outputId": "feecb664-dff5-4c2e-82a0-6cc92ab6c49f",
        "colab": {
          "base_uri": "https://localhost:8080/",
          "height": 34
        }
      },
      "source": [
        "r2_score(Y_test, y_predict)"
      ],
      "execution_count": 81,
      "outputs": [
        {
          "output_type": "execute_result",
          "data": {
            "text/plain": [
              "0.5252433631369677"
            ]
          },
          "metadata": {
            "tags": []
          },
          "execution_count": 81
        }
      ]
    },
    {
      "cell_type": "code",
      "metadata": {
        "id": "2flYXUGgBu8j",
        "outputId": "e3b6528b-0ff3-41f6-ce3e-30e6eb9dfe26",
        "colab": {
          "base_uri": "https://localhost:8080/",
          "height": 34
        }
      },
      "source": [
        "mean_squared_error(Y_test, y_predict)"
      ],
      "execution_count": 82,
      "outputs": [
        {
          "output_type": "execute_result",
          "data": {
            "text/plain": [
              "25127364616090.387"
            ]
          },
          "metadata": {
            "tags": []
          },
          "execution_count": 82
        }
      ]
    },
    {
      "cell_type": "code",
      "metadata": {
        "id": "jLsSlDcOBu8n",
        "outputId": "d8c85f5e-8485-4d42-be6e-04925d09426e",
        "colab": {
          "base_uri": "https://localhost:8080/",
          "height": 295
        }
      },
      "source": [
        "y_predict"
      ],
      "execution_count": 83,
      "outputs": [
        {
          "output_type": "execute_result",
          "data": {
            "text/plain": [
              "array([ 8514656.23249684, 10768110.41127203,  9703323.04450352,\n",
              "       15663764.94452927,  1414956.45816035, 15663764.94452927,\n",
              "        8967760.75529762,  8514656.23249684,  1414956.45816035,\n",
              "        9012513.3616964 , 17640127.51033275, -8480333.57575349,\n",
              "        1414956.45816035,  2628422.13319748, -5210667.44480445,\n",
              "        8514656.23249684,  8839562.38891315, 15663764.94452927,\n",
              "        1340736.13900043,  1414956.45816035,  4076236.1990343 ,\n",
              "        4076236.1990343 , 15711832.4501983 ,  1414956.45816035,\n",
              "        1326856.83773798,   582418.28054327,  4076236.1990343 ,\n",
              "       15663764.94452927,  4718631.23376929, 17999516.38604028,\n",
              "       12760486.01619779,  4875759.06038643,  7084982.89235304,\n",
              "        3303711.05427783,  9746972.05363486,  8213024.68714815,\n",
              "        9906429.86419552,  1414956.45816035,  1414956.45816035,\n",
              "       12760486.01619779,  4076236.1990343 ,  2628422.13319748,\n",
              "        4076236.1990343 ,  4076236.1990343 ,  1414956.45816035,\n",
              "        8839562.38891315, 11146060.97405274])"
            ]
          },
          "metadata": {
            "tags": []
          },
          "execution_count": 83
        }
      ]
    },
    {
      "cell_type": "code",
      "metadata": {
        "id": "yl9aVWeMBu8s"
      },
      "source": [
        "dw = np.array(y_predict).tolist()"
      ],
      "execution_count": 84,
      "outputs": []
    },
    {
      "cell_type": "code",
      "metadata": {
        "id": "ZFjSo1prBu8v",
        "outputId": "25f0cbcd-c25b-41c3-c698-83941d9f0cf1",
        "colab": {
          "base_uri": "https://localhost:8080/",
          "height": 833
        }
      },
      "source": [
        "dw"
      ],
      "execution_count": 85,
      "outputs": [
        {
          "output_type": "execute_result",
          "data": {
            "text/plain": [
              "[8514656.232496839,\n",
              " 10768110.411272034,\n",
              " 9703323.044503525,\n",
              " 15663764.944529273,\n",
              " 1414956.45816035,\n",
              " 15663764.944529273,\n",
              " 8967760.755297616,\n",
              " 8514656.232496839,\n",
              " 1414956.45816035,\n",
              " 9012513.361696396,\n",
              " 17640127.51033275,\n",
              " -8480333.575753493,\n",
              " 1414956.45816035,\n",
              " 2628422.1331974827,\n",
              " -5210667.4448044505,\n",
              " 8514656.232496839,\n",
              " 8839562.388913145,\n",
              " 15663764.944529273,\n",
              " 1340736.1390004326,\n",
              " 1414956.45816035,\n",
              " 4076236.1990343016,\n",
              " 4076236.1990343016,\n",
              " 15711832.4501983,\n",
              " 1414956.45816035,\n",
              " 1326856.8377379775,\n",
              " 582418.2805432733,\n",
              " 4076236.1990343016,\n",
              " 15663764.944529273,\n",
              " 4718631.23376929,\n",
              " 17999516.386040278,\n",
              " 12760486.01619779,\n",
              " 4875759.060386433,\n",
              " 7084982.892353036,\n",
              " 3303711.0542778317,\n",
              " 9746972.053634858,\n",
              " 8213024.687148145,\n",
              " 9906429.864195524,\n",
              " 1414956.45816035,\n",
              " 1414956.45816035,\n",
              " 12760486.01619779,\n",
              " 4076236.1990343016,\n",
              " 2628422.1331974827,\n",
              " 4076236.1990343016,\n",
              " 4076236.1990343016,\n",
              " 1414956.45816035,\n",
              " 8839562.388913147,\n",
              " 11146060.974052742]"
            ]
          },
          "metadata": {
            "tags": []
          },
          "execution_count": 85
        }
      ]
    },
    {
      "cell_type": "code",
      "metadata": {
        "id": "PNGIz-6OBu8y",
        "outputId": "951cdf9e-b75a-4c69-e29c-c60c49d3c758",
        "colab": {
          "base_uri": "https://localhost:8080/",
          "height": 309
        }
      },
      "source": [
        "plt.plot(Y_test, dw,'o',label='LS Prediction (Linear Basis)')\n",
        "plt.xlabel(\"$Y-test$\")\n",
        "plt.ylabel(\"$y_Predict$\")\n",
        "plt.legend()\n",
        "#Adding the slope line\n",
        "m, b = np.polyfit(Y_test, dw, 1)\n",
        "plt.plot(Y_test, m*Y_test + b)\n",
        "plt.show"
      ],
      "execution_count": 86,
      "outputs": [
        {
          "output_type": "execute_result",
          "data": {
            "text/plain": [
              "<function matplotlib.pyplot.show>"
            ]
          },
          "metadata": {
            "tags": []
          },
          "execution_count": 86
        },
        {
          "output_type": "display_data",
          "data": {
            "image/png": "[encoded data removed]",
            "text/plain": [
              "<Figure size 432x288 with 1 Axes>"
            ]
          },
          "metadata": {
            "tags": [],
            "needs_background": "light"
          }
        }
      ]
    },
    {
      "cell_type": "code",
      "metadata": {
        "id": "85YVmZ43Bu84"
      },
      "source": [
        ""
      ],
      "execution_count": null,
      "outputs": []
    },
    {
      "cell_type": "code",
      "metadata": {
        "id": "nRRi7tdPBu9I"
      },
      "source": [
        ""
      ],
      "execution_count": null,
      "outputs": []
    }
  ]
}